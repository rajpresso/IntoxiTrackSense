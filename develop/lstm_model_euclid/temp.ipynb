{
 "cells": [
  {
   "cell_type": "code",
   "execution_count": 2,
   "metadata": {},
   "outputs": [
    {
     "name": "stdout",
     "output_type": "stream",
     "text": [
      "['m1', 'm2', 's2', 'm3']\n"
     ]
    }
   ],
   "source": [
    "col = ['m1', 's1', 'm2', 's2', 'm3']\n",
    "col.remove('s1')\n",
    "print(col)\n"
   ]
  },
  {
   "cell_type": "code",
   "execution_count": null,
   "metadata": {},
   "outputs": [],
   "source": [
    "import os\n",
    "import pandas as pd\n",
    "test_data = pd.DataFrame()\n",
    "for vid in os.listdir('/home/alpaco/project/drunk_prj/data/abs_test_0넣기3'):\n",
    "    csv_path = os.path.join('/home/alpaco/project/drunk_prj/data/abs_test_0넣기3',vid)\n",
    "    tmp_csv = pd.read_csv(csv_path)\n",
    "    tmp_csv['FILENAME'] = (vid.split('/')[-1]).split('.')[0]\n",
    "    num_cols = tmp_csv.select_dtypes(include=['number']).columns  # 숫자형 열만 선택\n",
    "    tmp_csv[num_cols] = tmp_csv[num_cols].clip(lower=0)\n",
    "    test_data = pd.concat([test_data,tmp_csv],ignore_index=True)\n",
    "test_data = test_data.drop(['Unnamed: 37'],axis=1)\n",
    "#136051\n",
    "#스케일링 진행 후\n",
    "import numpy as np\n",
    "import pandas as pd\n",
    "from sklearn.preprocessing import StandardScaler\n",
    "coordinate_cols = [f'x{i}' for i in range(1, 18)] + [f'y{i}' for i in range(1, 18)]\n",
    "X = test_data[coordinate_cols].values  # 34개의 좌표 피처\n",
    "scaler_X = StandardScaler()\n",
    "X_normalized = scaler_X.fit_transform(X)\n",
    "#y_normalized = scaler_y.fit_transform(y.reshape(-1, 1)).flatten()\n",
    "test_data[coordinate_cols] = X_normalized\n",
    "columns_to_convert = test_data.columns.difference(['FILENAME','label'])\n",
    "# float으로 변환\n",
    "test_data[columns_to_convert] = test_data[columns_to_convert].astype(float)\n",
    "# 6. sequence length 생성하기\n",
    "import numpy as np\n",
    "#Sequence Lenght 설정 후 진행 예정\n",
    "def create_sequences(df, seq_length):\n",
    "    xs, ys = [], []\n",
    "    # 'FILENAME'과 'label' 기준으로 그룹화\n",
    "    for _, group in df.groupby(['FILENAME', 'label']):\n",
    "        # 그룹 내 'frame' 기준 정렬\n",
    "        group = group.sort_values(by=['frame']).reset_index(drop=True)\n",
    "        # frame, FILENAME, label, id, y 제외한 좌표 피처\n",
    "        data_X = group.drop(columns=['frame', 'FILENAME', 'label','y'], errors='ignore').values\n",
    "        data_y = group['y'].values  # 이진 분류 레이블\n",
    "        # 시퀀스 생성\n",
    "        for i in range(len(data_X) - seq_length):\n",
    "            x = data_X[i:i + seq_length]\n",
    "            y = data_y[i + seq_length - 1]  # 시퀀스의 마지막 레이블 사용\n",
    "            xs.append(x)\n",
    "            ys.append(y)\n",
    "    return np.array(xs), np.array(ys)\n",
    "sequence_length = 90\n",
    "test_x_seq,test_y_seq = create_sequences(test_data,sequence_length)"
   ]
  },
  {
   "cell_type": "code",
   "execution_count": 2,
   "metadata": {},
   "outputs": [
    {
     "name": "stdout",
     "output_type": "stream",
     "text": [
      "Logs have been saved to the database.\n"
     ]
    }
   ],
   "source": [
    "from util.insert_log_info import insert_log\n",
    "\n",
    "insert_log('2024-12-02','1번 모니터','[주취자] [주취자 차량 탑승] [주취자 차량 이동]','file_url')\n",
    "\n"
   ]
  }
 ],
 "metadata": {
  "kernelspec": {
   "display_name": "rsj-01",
   "language": "python",
   "name": "python3"
  },
  "language_info": {
   "codemirror_mode": {
    "name": "ipython",
    "version": 3
   },
   "file_extension": ".py",
   "mimetype": "text/x-python",
   "name": "python",
   "nbconvert_exporter": "python",
   "pygments_lexer": "ipython3",
   "version": "3.9.20"
  }
 },
 "nbformat": 4,
 "nbformat_minor": 2
}
