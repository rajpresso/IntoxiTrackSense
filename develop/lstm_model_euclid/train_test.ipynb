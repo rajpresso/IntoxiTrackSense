{
 "cells": [
  {
   "cell_type": "code",
   "execution_count": null,
   "metadata": {},
   "outputs": [],
   "source": [
    "%cd /home/alpaco/project/drunk_prj/models/rsj_model_euclid\n",
    "!./run_all.shc"
   ]
  },
  {
   "cell_type": "code",
   "execution_count": null,
   "metadata": {},
   "outputs": [],
   "source": [
    "!./run_all.sh train"
   ]
  },
  {
   "cell_type": "code",
   "execution_count": null,
   "metadata": {},
   "outputs": [
    {
     "name": "stdout",
     "output_type": "stream",
     "text": [
      "query: SELECT data FROM csv_data WHERE version = %s AND category = %s \n",
      "y = 0 데이터 import 완료 \n",
      "version:3.0, category : normal \n",
      "df.shape y=0 : (54224, 38) \n",
      "query: SELECT data FROM csv_data WHERE version = %s AND category = %s \n",
      "y= 1 데이터 import 완료 \n",
      "version:2.0, category : croki \n",
      "df.shape y=1 : (34580, 38) \n",
      "center_node\n",
      "transform_keypoints\n",
      "create_sequences\n",
      "Coordinate columns: ['m1', 's1', 'm2', 's2', 'm3', 's3', 'm4', 's4', 'm5', 's5', 'm6', 's6', 'm7', 's7', 'm8', 's8', 'm9', 's9', 'm10', 's10', 'm11', 's11', 'm12', 's12', 'm13', 's13', 'm14', 's14', 'm15', 's15', 'm16', 's16', 'm17', 's17', 'y']\n",
      "Target column: y\n",
      "Label column: label\n",
      "filename column: filename\n",
      "Data columns: ['m1', 's1', 'm2', 's2', 'm3', 's3', 'm4', 's4', 'm5', 's5', 'm6', 's6', 'm7', 's7', 'm8', 's8', 'm9', 's9', 'm10', 's10', 'm11', 's11', 'm12', 's12', 'm13', 's13', 'm14', 's14', 'm15', 's15', 'm16', 's16', 'm17', 's17', 'label', 'filename', 'y', 'xm', 'ym']\n",
      "Using columns for sequences: ['m1', 's1', 'm2', 's2', 'm3', 's3', 'm4', 's4', 'm5', 's5', 'm6', 's6', 'm7', 's7', 'm8', 's8', 'm9', 's9', 'm10', 's10', 'm11', 's11', 'm12', 's12', 'm13', 's13', 'm14', 's14', 'm15', 's15', 'm16', 's16', 'm17', 's17', 'y']\n",
      "Traceback (most recent call last):\n",
      "  File \"/home/alpaco/project/drunk_prj/models/rsj_model_euclid/train.py\", line 149, in <module>\n",
      "    train()\n",
      "  File \"/home/alpaco/project/drunk_prj/models/rsj_model_euclid/train.py\", line 86, in train\n",
      "    X_seq, y_seq = create_sequences(mdf, seq_length)\n",
      "  File \"/home/alpaco/project/drunk_prj/models/rsj_model_euclid/util/util.py\", line 100, in create_sequences\n",
      "    group = group.sort_values(by=['frame']).reset_index(drop=True)\n",
      "  File \"/home/alpaco/anaconda3/envs/rsj-01/lib/python3.9/site-packages/pandas/core/frame.py\", line 7189, in sort_values\n",
      "    k = self._get_label_or_level_values(by[0], axis=axis)\n",
      "  File \"/home/alpaco/anaconda3/envs/rsj-01/lib/python3.9/site-packages/pandas/core/generic.py\", line 1911, in _get_label_or_level_values\n",
      "    raise KeyError(key)\n",
      "KeyError: 'frame'\n"
     ]
    }
   ],
   "source": [
    "LOG_DIR=\"/home/alpaco/project/drunk_prj/models/rsj_model_euclid/log\"\n",
    "!mkdir -p \"$LOG_DIR\"  # 디렉터리가 없으면 생성\n",
    "LOG_FILE=\"$LOG_DIR/log_$(date +'%Y-%m-%d_%H-%M-%S').txt\"\n",
    "# !python /home/alpaco/project/drunk_prj/models/rsj_model_euclid/train.py &> \"$LOG_FILE\"\n",
    "\n",
    "!python /home/alpaco/project/drunk_prj/models/rsj_model_euclid/train.py"
   ]
  },
  {
   "cell_type": "code",
   "execution_count": 2,
   "metadata": {},
   "outputs": [
    {
     "name": "stdout",
     "output_type": "stream",
     "text": [
      "/home/alpaco/project/drunk_prj/models/rsj_model_euclid\n"
     ]
    }
   ],
   "source": [
    "!pwd"
   ]
  },
  {
   "cell_type": "code",
   "execution_count": null,
   "metadata": {},
   "outputs": [],
   "source": [
    "from train import testing\n",
    "path = '';\n",
    "testing();"
   ]
  },
  {
   "cell_type": "code",
   "execution_count": 9,
   "metadata": {},
   "outputs": [
    {
     "name": "stdout",
     "output_type": "stream",
     "text": [
      "Data path: /home/alpaco/project/drunk_prj/models/rsj_model_euclid/testdata/618-8_cam01_drunken01_place03_night_spring_4102_4957_totter.csv\n",
      "center_node\n",
      "transform_keypoints\n",
      "create_sequences\n",
      "Coordinate columns: ['xm', 'ym', 'm1', 's1', 'm2', 's2', 'm3', 's3', 'm4', 's4', 'm5', 's5', 'm6', 's6', 'm7', 's7', 'm8', 's8', 'm9', 's9', 'm10', 's10', 'm11', 's11', 'm12', 's12', 'm13', 's13', 'm14', 's14', 'm15', 's15', 'm16', 's16', 'm17', 's17', 'y']\n",
      "Target column: y\n",
      "Label column: label\n",
      "Data columns: ['m1', 's1', 'm2', 's2', 'm3', 's3', 'm4', 's4', 'm5', 's5', 'm6', 's6', 'm7', 's7', 'm8', 's8', 'm9', 's9', 'm10', 's10', 'm11', 's11', 'm12', 's12', 'm13', 's13', 'm14', 's14', 'm15', 's15', 'm16', 's16', 'm17', 's17', 'label', 'y', 'xm', 'ym']\n",
      "Using columns for sequences: ['xm', 'ym', 'm1', 's1', 'm2', 's2', 'm3', 's3', 'm4', 's4', 'm5', 's5', 'm6', 's6', 'm7', 's7', 'm8', 's8', 'm9', 's9', 'm10', 's10', 'm11', 's11', 'm12', 's12', 'm13', 's13', 'm14', 's14', 'm15', 's15', 'm16', 's16', 'm17', 's17', 'y']\n"
     ]
    }
   ],
   "source": [
    "# train.py\n",
    "\n",
    "import torch\n",
    "import pandas as pd\n",
    "\n",
    "from datetime import datetime\n",
    "from torch.utils.data import TensorDataset, DataLoader\n",
    "\n",
    "# 프로젝트 구성 요소 임포트\n",
    "from config.config import DATA_CONFIG, MODEL_CONFIG, TRAINING_CONFIG, config_path\n",
    "\n",
    "\n",
    "from util.util import (\n",
    "    load_data,\n",
    "    center_node,\n",
    "    transform_keypoints,\n",
    "    create_sequences,\n",
    "    train_test_set\n",
    ")\n",
    "\n",
    "from  util.data_import import import_df,import_df_db\n",
    "\n",
    "from model.lstm_model import (\n",
    "    BinaryLSTMModel,\n",
    "    evaluate,\n",
    "    train_model,\n",
    "    save_model_and_config,\n",
    "    evaluate_and_save_confusion_matrix\n",
    ")\n",
    "\n",
    "\n",
    "# 디바이스 설정: CUDA 또는 CPU\n",
    "device = torch.device(\"cuda:1\" if torch.cuda.is_available() else \"cpu\")\n",
    "\n",
    "# 데이터 경로 및 시퀀스 길이 설정\n",
    "data_path = DATA_CONFIG[\"data_path\"]\n",
    "print(f\"Data path: {data_path}\")\n",
    "\n",
    "# CSV 파일 읽어오기\n",
    "# df = pd.read_csv(data_path)\n",
    "\n",
    "# df = import_df()\n",
    "\n",
    "df = import_df_db(2.0)\n",
    "\n",
    "# 키포인트 데이터의 중심점 계산\n",
    "xm, ym = center_node(df)\n",
    "\n",
    "# 키포인트 데이터를 기울기와 유클리드 거리로 변환\n",
    "mdf = transform_keypoints(df, xm, ym)\n",
    "\n",
    "# 시퀀스 데이터 생성\n",
    "seq_length = DATA_CONFIG[\"seq_length\"]\n",
    "X_seq, y_seq = create_sequences(mdf, seq_length)\n",
    "print(\"X_seq shape:\", X_seq.shape)  # 입력 데이터 형태 확인\n",
    "print(\"y_seq shape:\", y_seq.shape)  # 타겟 데이터 형태 확인\n",
    "\n",
    "# 데이터셋 분리 및 DataLoader 생성\n",
    "train_loader, valid_loader = train_test_set(X_seq, y_seq)\n",
    "\n",
    "# 모델 학습\n",
    "model = train_model(train_loader, valid_loader, X_seq, device)\n",
    "\n",
    "# 학습된 모델과 설정 저장\n",
    "save_dir = save_model_and_config(model)\n",
    "\n"
   ]
  },
  {
   "cell_type": "code",
   "execution_count": null,
   "metadata": {},
   "outputs": [
    {
     "name": "stdout",
     "output_type": "stream",
     "text": [
      "[[[-739.5 -356.0 0.587 ... 0.76 980.219 1.0]\n",
      "  [-737.5 -354.0 0.592 ... 0.759 976.015 1.0]\n",
      "  [-736.5 -350.5 0.5 ... 0.749 970.1 1.0]\n",
      "  ...\n",
      "  [37.5 119.5 -19.222 ... -10.13 117.066 1.0]\n",
      "  [37.0 119.5 -45.25 ... -10.5 116.023 1.0]\n",
      "  [41.0 118.0 88.0 ... -7.533 113.991 1.0]]\n",
      "\n",
      " [[-737.5 -354.0 0.592 ... 0.759 976.015 1.0]\n",
      "  [-736.5 -350.5 0.5 ... 0.749 970.1 1.0]\n",
      "  [-729.0 -349.5 0.597 ... 0.763 958.533 1.0]\n",
      "  ...\n",
      "  [37.0 119.5 -45.25 ... -10.5 116.023 1.0]\n",
      "  [41.0 118.0 88.0 ... -7.533 113.991 1.0]\n",
      "  [38.5 116.5 -58.333 ... -7.258 113.563 1.0]]\n",
      "\n",
      " [[-736.5 -350.5 0.5 ... 0.749 970.1 1.0]\n",
      "  [-729.0 -349.5 0.597 ... 0.763 958.533 1.0]\n",
      "  [-727.5 -348.5 0.496 ... 0.759 954.917 1.0]\n",
      "  ...\n",
      "  [41.0 118.0 88.0 ... -7.533 113.991 1.0]\n",
      "  [38.5 116.5 -58.333 ... -7.258 113.563 1.0]\n",
      "  [37.5 120.5 -36.6 ... -7.065 110.592 1.0]]\n",
      "\n",
      " ...\n",
      "\n",
      " [[115.0 312.0 0.239 ... 11.955 263.919 1]\n",
      "  [110.5 314.5 0.239 ... 9.473 261.948 1]\n",
      "  [110.5 314.0 0.239 ... 6.444 264.124 1]\n",
      "  ...\n",
      "  [-998.0 65.0 0.25 ... 0.438 1290.522 1]\n",
      "  [-995.0 64.5 0.251 ... 0.435 1290.038 1]\n",
      "  [-993.0 61.5 0.25 ... 0.437 1292.154 1]]\n",
      "\n",
      " [[110.5 314.5 0.239 ... 9.473 261.948 1]\n",
      "  [110.5 314.0 0.239 ... 6.444 264.124 1]\n",
      "  [110.5 310.0 0.237 ... 6.0 270.683 1]\n",
      "  ...\n",
      "  [-995.0 64.5 0.251 ... 0.435 1290.038 1]\n",
      "  [-993.0 61.5 0.25 ... 0.437 1292.154 1]\n",
      "  [-988.5 61.0 0.251 ... 0.434 1299.748 1]]\n",
      "\n",
      " [[110.5 314.0 0.239 ... 6.444 264.124 1]\n",
      "  [110.5 310.0 0.237 ... 6.0 270.683 1]\n",
      "  [113.0 308.5 0.236 ... 7.486 271.894 1]\n",
      "  ...\n",
      "  [-993.0 61.5 0.25 ... 0.437 1292.154 1]\n",
      "  [-988.5 61.0 0.251 ... 0.434 1299.748 1]\n",
      "  [-979.5 58.5 0.25 ... 0.434 1301.263 1]]]\n"
     ]
    }
   ],
   "source": [
    "def_data_insert_table"
   ]
  },
  {
   "cell_type": "code",
   "execution_count": null,
   "metadata": {},
   "outputs": [
    {
     "name": "stdout",
     "output_type": "stream",
     "text": [
      "        frame  x1  y1  x2  y2  x3  y3  x4  y4    x5  ...  y14  x15  y15  x16  \\\n",
      "0           1   0   0   0   0   0   0   0   0    76  ...  377  118  356   81   \n",
      "1           2   0   0   0   0   0   0   0   0    76  ...  368   98  364  113   \n",
      "2           3  95  52   0   0  86  44   0   0    63  ...  360   75  376  142   \n",
      "3           4  94  53   0   0  86  44   0   0    66  ...  361   81  375  139   \n",
      "4           5  92  52   0   0  82  44   0   0    59  ...  355   70  375  143   \n",
      "...       ...  ..  ..  ..  ..  ..  ..  ..  ..   ...  ...  ...  ...  ...  ...   \n",
      "635462    924  55  61  56  45  44  56  86  17 -1369  ...  304  117  266  194   \n",
      "635463    925  51  52  53  35  38  47  84  12 -1372  ...  299  114  263  192   \n",
      "635464    926  50  41  55  24  38  35  88  10 -1373  ...  298  115  263  193   \n",
      "635465    927  49  40  54  22  36  34  87   9 -1373  ...  297  114  263  193   \n",
      "635466    928  52  45  55  28  39  41  86  11 -1372  ...  297  117  262  193   \n",
      "\n",
      "        y16  x17  y17       label  \\\n",
      "0       483  126  468   ID: 469.0   \n",
      "1       474   97  480   ID: 469.0   \n",
      "2       460   76  492   ID: 469.0   \n",
      "3       459   84  491   ID: 469.0   \n",
      "4       454   77  491   ID: 469.0   \n",
      "...     ...  ...  ...         ...   \n",
      "635462  432  133  364  ID: 4239.0   \n",
      "635463  428  132  362  ID: 4239.0   \n",
      "635464  426  131  363  ID: 4239.0   \n",
      "635465  425  133  362  ID: 4239.0   \n",
      "635466  424  134  359  ID: 4239.0   \n",
      "\n",
      "                                                 FILENAME  y  \n",
      "0       233-6_cam02_drunken03_place02_night_summer_469...  1  \n",
      "1       233-6_cam02_drunken03_place02_night_summer_469...  1  \n",
      "2       233-6_cam02_drunken03_place02_night_summer_469...  1  \n",
      "3       233-6_cam02_drunken03_place02_night_summer_469...  1  \n",
      "4       233-6_cam02_drunken03_place02_night_summer_469...  1  \n",
      "...                                                   ... ..  \n",
      "635462  229-2_cam03_drunken04_place03_night_spring_93_...  1  \n",
      "635463  229-2_cam03_drunken04_place03_night_spring_93_...  1  \n",
      "635464  229-2_cam03_drunken04_place03_night_spring_93_...  1  \n",
      "635465  229-2_cam03_drunken04_place03_night_spring_93_...  1  \n",
      "635466  229-2_cam03_drunken04_place03_night_spring_93_...  1  \n",
      "\n",
      "[635467 rows x 38 columns]\n",
      "Database connection error: 2055: Lost connection to MySQL server at '112.175.29.231:3306', system error: Errno 1: [SSL: BAD_LENGTH] bad length (_ssl.c:2501)\n"
     ]
    }
   ],
   "source": [
    "from  util.data_import import import_df,import_df_db\n",
    "from util.def_data_insert_table import import_data ,temp\n",
    "\n",
    "version = '1.0'\n",
    "major_category = 'abs'\n",
    "df = import_data(version, major_category)\n"
   ]
  },
  {
   "cell_type": "code",
   "execution_count": 20,
   "metadata": {},
   "outputs": [
    {
     "ename": "ImportError",
     "evalue": "cannot import name 'temp' from 'util.def_data_insert_table' (/home/alpaco/project/drunk_prj/models/rsj_model_euclid/util/def_data_insert_table.py)",
     "output_type": "error",
     "traceback": [
      "\u001b[0;31m---------------------------------------------------------------------------\u001b[0m",
      "\u001b[0;31mImportError\u001b[0m                               Traceback (most recent call last)",
      "Cell \u001b[0;32mIn[20], line 1\u001b[0m\n\u001b[0;32m----> 1\u001b[0m \u001b[38;5;28;01mfrom\u001b[39;00m \u001b[38;5;21;01mutil\u001b[39;00m\u001b[38;5;21;01m.\u001b[39;00m\u001b[38;5;21;01mdef_data_insert_table\u001b[39;00m \u001b[38;5;28;01mimport\u001b[39;00m import_data ,temp\n\u001b[1;32m      2\u001b[0m temp()\n",
      "\u001b[0;31mImportError\u001b[0m: cannot import name 'temp' from 'util.def_data_insert_table' (/home/alpaco/project/drunk_prj/models/rsj_model_euclid/util/def_data_insert_table.py)"
     ]
    }
   ],
   "source": [
    "from util.def_data_insert_table import import_data ,temp\n"
   ]
  },
  {
   "cell_type": "code",
   "execution_count": null,
   "metadata": {},
   "outputs": [],
   "source": [
    "folder_path = \"/home/alpaco/project/drunk_prj/data/comfirm_video1/totter/Rel\"\n",
    "\n",
    "version = '2.0'\n",
    "major_category = 'abs'\n",
    "sub_category =''\n",
    "\n",
    "data_inserter.insert_data(folder_path , version, major_category, sub_category)"
   ]
  },
  {
   "cell_type": "code",
   "execution_count": 4,
   "metadata": {},
   "outputs": [
    {
     "name": "stdout",
     "output_type": "stream",
     "text": [
      "query: SELECT data FROM csv_data WHERE version = %s AND category = %s \n",
      "0        209-5_cam02_drunken01_place03_night_spring_503...\n",
      "1        209-5_cam02_drunken01_place03_night_spring_503...\n",
      "2        209-5_cam02_drunken01_place03_night_spring_503...\n",
      "3        209-5_cam02_drunken01_place03_night_spring_503...\n",
      "4        209-5_cam02_drunken01_place03_night_spring_503...\n",
      "                               ...                        \n",
      "34575    212-5_cam02_drunken03_place03_night_summer_167...\n",
      "34576    212-5_cam02_drunken03_place03_night_summer_167...\n",
      "34577    212-5_cam02_drunken03_place03_night_summer_167...\n",
      "34578    212-5_cam02_drunken03_place03_night_summer_167...\n",
      "34579    212-5_cam02_drunken03_place03_night_summer_167...\n",
      "Name: filename, Length: 34580, dtype: object\n"
     ]
    }
   ],
   "source": [
    "from util.data_import import import_data\n",
    "version = '2.0'\n",
    "category = 'croki'\n",
    "sub_category ='abs1'\n",
    "\n",
    "df = import_data(version, category)\n",
    "# df['label'] = df['label'].astype(str).str.replace(\"[: ]\", \"\", regex=True)\n",
    "df['y'] = 1\n",
    "print(df['filename'])"
   ]
  },
  {
   "cell_type": "code",
   "execution_count": 3,
   "metadata": {},
   "outputs": [
    {
     "name": "stdout",
     "output_type": "stream",
     "text": [
      "query: SELECT data FROM csv_data WHERE version = %s AND category = %s \n",
      "0         C_32_7_smp_su_09-11_11-01-00_c_for_DF2_(53_143)\n",
      "1         C_32_7_smp_su_09-11_11-01-00_c_for_DF2_(53_143)\n",
      "2         C_32_7_smp_su_09-11_11-01-00_c_for_DF2_(53_143)\n",
      "3         C_32_7_smp_su_09-11_11-01-00_c_for_DF2_(53_143)\n",
      "4         C_32_7_smp_su_09-11_11-01-00_c_for_DF2_(53_143)\n",
      "                               ...                       \n",
      "102370    C_32_8_smp_su_09-11_11-27-00_a_for_DF2_(56_146)\n",
      "102371    C_32_8_smp_su_09-11_11-27-00_a_for_DF2_(56_146)\n",
      "102372    C_32_8_smp_su_09-11_11-27-00_a_for_DF2_(56_146)\n",
      "102373    C_32_8_smp_su_09-11_11-27-00_a_for_DF2_(56_146)\n",
      "102374    C_32_8_smp_su_09-11_11-27-00_a_for_DF2_(56_146)\n",
      "Name: filename, Length: 102375, dtype: object\n"
     ]
    }
   ],
   "source": [
    "\n",
    "from util.data_import import import_data\n",
    "version = '2.0'\n",
    "category = 'normal'\n",
    "\n",
    "df = import_data(version, category)\n",
    "df['label'] = df['label'].astype(str).str.replace(\"[: ]\", \"\", regex=True)\n",
    "df['y'] = 0\n",
    "print(df['filename'])"
   ]
  },
  {
   "cell_type": "code",
   "execution_count": 1,
   "metadata": {},
   "outputs": [
    {
     "name": "stdout",
     "output_type": "stream",
     "text": [
      "query: SELECT data FROM csv_data WHERE version = %s AND category = %s \n",
      "query: SELECT data FROM csv_data WHERE version = %s AND category = %s \n",
      "center_node\n",
      "transform_keypoints\n",
      "0         209-5_cam02_drunken01_place03_night_spring_503...\n",
      "1         209-5_cam02_drunken01_place03_night_spring_503...\n",
      "2         209-5_cam02_drunken01_place03_night_spring_503...\n",
      "3         209-5_cam02_drunken01_place03_night_spring_503...\n",
      "4         209-5_cam02_drunken01_place03_night_spring_503...\n",
      "                                ...                        \n",
      "136950      C_32_8_smp_su_09-11_11-27-00_a_for_DF2_(56_146)\n",
      "136951      C_32_8_smp_su_09-11_11-27-00_a_for_DF2_(56_146)\n",
      "136952      C_32_8_smp_su_09-11_11-27-00_a_for_DF2_(56_146)\n",
      "136953      C_32_8_smp_su_09-11_11-27-00_a_for_DF2_(56_146)\n",
      "136954      C_32_8_smp_su_09-11_11-27-00_a_for_DF2_(56_146)\n",
      "Name: filename, Length: 136955, dtype: object\n",
      "create_sequences\n",
      "Coordinate columns: ['label', 'filename', 'xm', 'ym', 'm1', 's1', 'm2', 's2', 'm3', 's3', 'm4', 's4', 'm5', 's5', 'm6', 's6', 'm7', 's7', 'm8', 's8', 'm9', 's9', 'm10', 's10', 'm11', 's11', 'm12', 's12', 'm13', 's13', 'm14', 's14', 'm15', 's15', 'm16', 's16', 'm17', 's17', 'y']\n",
      "Target column: y\n",
      "Label column: label\n",
      "filename column: filename\n",
      "Data columns: ['m1', 's1', 'm2', 's2', 'm3', 's3', 'm4', 's4', 'm5', 's5', 'm6', 's6', 'm7', 's7', 'm8', 's8', 'm9', 's9', 'm10', 's10', 'm11', 's11', 'm12', 's12', 'm13', 's13', 'm14', 's14', 'm15', 's15', 'm16', 's16', 'm17', 's17', 'label', 'filename', 'y', 'xm', 'ym']\n",
      "Using columns for sequences: ['label', 'filename', 'xm', 'ym', 'm1', 's1', 'm2', 's2', 'm3', 's3', 'm4', 's4', 'm5', 's5', 'm6', 's6', 'm7', 's7', 'm8', 's8', 'm9', 's9', 'm10', 's10', 'm11', 's11', 'm12', 's12', 'm13', 's13', 'm14', 's14', 'm15', 's15', 'm16', 's16', 'm17', 's17', 'y']\n"
     ]
    }
   ],
   "source": [
    "# train.py\n",
    "\n",
    "import torch\n",
    "import pandas as pd\n",
    "\n",
    "from datetime import datetime\n",
    "from torch.utils.data import TensorDataset, DataLoader\n",
    "\n",
    "# 프로젝트 구성 요소 임포트\n",
    "from config.config import DATA_CONFIG, MODEL_CONFIG, TRAINING_CONFIG, config_path\n",
    "\n",
    "\n",
    "from util.util import (\n",
    "    load_data,\n",
    "    center_node,\n",
    "    transform_keypoints,\n",
    "    create_sequences,\n",
    "    train_test_set\n",
    ")\n",
    "\n",
    "from  util.def_data_insert_table import import_data\n",
    "\n",
    "from model.lstm_model import (\n",
    "    BinaryLSTMModel,\n",
    "    evaluate,\n",
    "    train_model,\n",
    "    save_model_and_config,\n",
    "    evaluate_and_save_confusion_matrix\n",
    ")\n",
    "\n",
    "from util.data_import import import_data\n",
    "import pandas as pd\n",
    "version = '2.0'\n",
    "category = 'normal'\n",
    "\n",
    "df_n = import_data(version, category)\n",
    "df_n['y'] = 0\n",
    "category = 'croki'\n",
    "\n",
    "df_c = import_data(version, category)\n",
    "df_c['y'] = 1\n",
    "\n",
    "\n",
    "# 1. 공통 컬럼 추출\n",
    "common_columns = df_c.columns.intersection(df_n.columns)\n",
    "\n",
    "# 2. 공통 컬럼만 유지\n",
    "df1_filtered = df_c[common_columns]\n",
    "df2_filtered = df_n[common_columns]\n",
    "\n",
    "# 3. 위아래로 결합 (concat)\n",
    "df = pd.concat([df1_filtered, df2_filtered], ignore_index=True)\n",
    "\n",
    "# 키포인트 데이터의 중심점 계산\n",
    "xm, ym = center_node(df)\n",
    "\n",
    "mdf = transform_keypoints(df, xm, ym)\n",
    "\n",
    "# 시퀀스 데이터 생성\n",
    "seq_length = DATA_CONFIG[\"seq_length\"]\n",
    "print(mdf['filename'])\n",
    "X_seq, y_seq = create_sequences(mdf, seq_length)\n"
   ]
  },
  {
   "cell_type": "code",
   "execution_count": 10,
   "metadata": {},
   "outputs": [
    {
     "data": {
      "text/plain": [
       "0         209-5_cam02_drunken01_place03_night_spring_503...\n",
       "1         209-5_cam02_drunken01_place03_night_spring_503...\n",
       "2         209-5_cam02_drunken01_place03_night_spring_503...\n",
       "3         209-5_cam02_drunken01_place03_night_spring_503...\n",
       "4         209-5_cam02_drunken01_place03_night_spring_503...\n",
       "                                ...                        \n",
       "136950      C_32_8_smp_su_09-11_11-27-00_a_for_DF2_(56_146)\n",
       "136951      C_32_8_smp_su_09-11_11-27-00_a_for_DF2_(56_146)\n",
       "136952      C_32_8_smp_su_09-11_11-27-00_a_for_DF2_(56_146)\n",
       "136953      C_32_8_smp_su_09-11_11-27-00_a_for_DF2_(56_146)\n",
       "136954      C_32_8_smp_su_09-11_11-27-00_a_for_DF2_(56_146)\n",
       "Name: filename, Length: 136955, dtype: object"
      ]
     },
     "execution_count": 10,
     "metadata": {},
     "output_type": "execute_result"
    }
   ],
   "source": [
    "df['filename']"
   ]
  }
 ],
 "metadata": {
  "kernelspec": {
   "display_name": "rsj-01",
   "language": "python",
   "name": "python3"
  },
  "language_info": {
   "codemirror_mode": {
    "name": "ipython",
    "version": 3
   },
   "file_extension": ".py",
   "mimetype": "text/x-python",
   "name": "python",
   "nbconvert_exporter": "python",
   "pygments_lexer": "ipython3",
   "version": "3.9.20"
  }
 },
 "nbformat": 4,
 "nbformat_minor": 2
}
