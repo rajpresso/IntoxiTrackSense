{
 "cells": [
  {
   "cell_type": "code",
   "execution_count": null,
   "metadata": {},
   "outputs": [],
   "source": [
    "\n",
    "# Transformer 모델을 위한 설정\n",
    "class TransformerModel(torch.nn.Module):\n",
    "    def __init__(self, input_size, hidden_size, num_classes, num_heads=2, num_layers=4, dropout=0.1):\n",
    "        super(TransformerModel, self).__init__()\n",
    "        \n",
    "        # Multi-Head Attention 레이어\n",
    "        self.attention = torch.nn.MultiheadAttention(embed_dim=input_size, num_heads=num_heads, dropout=dropout)\n",
    "        \n",
    "        # Transformer Encoder\n",
    "        self.transformer = torch.nn.TransformerEncoder(\n",
    "            torch.nn.TransformerEncoderLayer(d_model=input_size, nhead=num_heads, dim_feedforward=hidden_size, dropout=dropout), \n",
    "            num_layers=num_layers\n",
    "        )\n",
    "        \n",
    "        # Fully connected layers\n",
    "        self.fc = torch.nn.Sequential(\n",
    "            torch.nn.Linear(input_size, hidden_size),\n",
    "            torch.nn.ReLU(),\n",
    "            torch.nn.Dropout(dropout),\n",
    "            torch.nn.Linear(hidden_size, num_classes)\n",
    "        )\n",
    "\n",
    "    def forward(self, x):\n",
    "        # 시퀀스 길이, 배치 크기, 특성 차원에 맞게 변환\n",
    "        x = x.transpose(0, 1)  # Transformer는 (seq_len, batch_size, features)의 형태를 기대함\n",
    "        \n",
    "        # Attention 통과\n",
    "        attn_output, _ = self.attention(x, x, x)\n",
    "        \n",
    "        # Transformer Encoder 통과\n",
    "        transformer_output = self.transformer(attn_output)\n",
    "        \n",
    "        # 마지막 시퀀스 출력을 사용 (기본적으로 클래스 레이블 예측)\n",
    "        output = transformer_output[-1, :, :]\n",
    "        \n",
    "        # Fully connected layers 통과\n",
    "        output = self.fc(output)\n",
    "        \n",
    "        return output\n"
   ]
  }
 ],
 "metadata": {
  "kernelspec": {
   "display_name": "rsj-04",
   "language": "python",
   "name": "python3"
  },
  "language_info": {
   "name": "python",
   "version": "3.8.3"
  }
 },
 "nbformat": 4,
 "nbformat_minor": 2
}
