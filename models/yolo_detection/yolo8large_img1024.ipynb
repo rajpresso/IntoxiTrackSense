{
 "cells": [
  {
   "cell_type": "code",
   "execution_count": 3,
   "metadata": {},
   "outputs": [
    {
     "name": "stdout",
     "output_type": "stream",
     "text": [
      "loading Roboflow workspace...\n",
      "loading Roboflow project...\n"
     ]
    }
   ],
   "source": [
    "from roboflow import Roboflow\n",
    "rf = Roboflow(api_key=\"your key\")\n",
    "project = rf.workspace(\"rena-hyun-0lmxr\").project(\"car_driver_seat\")\n",
    "version = project.version(12)\n",
    "dataset = version.download(\"yolov8\")\n",
    "                \n",
    "                "
   ]
  },
  {
   "cell_type": "markdown",
   "metadata": {},
   "source": [
    "#yolo v8 large"
   ]
  },
  {
   "cell_type": "code",
   "execution_count": 8,
   "metadata": {},
   "outputs": [
    {
     "name": "stdout",
     "output_type": "stream",
     "text": [
      "CUDA is available.\n",
      "Number of CUDA devices: 3\n",
      "Device 0: NVIDIA GeForce RTX 3090\n",
      "  - Memory Allocated: 21016.31 MB\n",
      "  - Memory Cached: 21478.00 MB\n",
      "Device 1: NVIDIA GeForce RTX 3090\n",
      "  - Memory Allocated: 0.00 MB\n",
      "  - Memory Cached: 0.00 MB\n",
      "Device 2: NVIDIA GeForce RTX 3090\n",
      "  - Memory Allocated: 0.00 MB\n",
      "  - Memory Cached: 0.00 MB\n"
     ]
    }
   ],
   "source": [
    "import torch\n",
    "# CUDA 사용 가능 여부 확인\n",
    "if torch.cuda.is_available():\n",
    "    print(\"CUDA is available.\")\n",
    "    # CUDA 디바이스 수 확인\n",
    "    num_devices = torch.cuda.device_count()\n",
    "    print(f\"Number of CUDA devices: {num_devices}\")\n",
    "    # 각 디바이스 정보 출력\n",
    "    for i in range(num_devices):\n",
    "        print(f\"Device {i}: {torch.cuda.get_device_name(i)}\")\n",
    "        print(f\"  - Memory Allocated: {torch.cuda.memory_allocated(i) / 1024**2:.2f} MB\")\n",
    "        print(f\"  - Memory Cached: {torch.cuda.memory_reserved(i) / 1024**2:.2f} MB\")\n",
    "else:\n",
    "    print(\"CUDA is not available.\")\n",
    "\n",
    "\n"
   ]
  },
  {
   "cell_type": "code",
   "execution_count": 9,
   "metadata": {},
   "outputs": [
    {
     "name": "stdout",
     "output_type": "stream",
     "text": [
      "cuda:2\n"
     ]
    }
   ],
   "source": [
    "# 2번 GPU를 사용하려면 'cuda:2'로 설정\n",
    "device = torch.device(\"cuda:2\" if torch.cuda.is_available() else \"cpu\")\n",
    "print(device)"
   ]
  },
  {
   "cell_type": "code",
   "execution_count": 4,
   "metadata": {},
   "outputs": [
    {
     "name": "stdout",
     "output_type": "stream",
     "text": [
      "cuda:2\n"
     ]
    }
   ],
   "source": [
    "from ultralytics import YOLO\n",
    "model = YOLO('yolov8l.pt')\n",
    "model.to(device)\n",
    "print(device)"
   ]
  },
  {
   "cell_type": "code",
   "execution_count": 5,
   "metadata": {},
   "outputs": [
    {
     "name": "stdout",
     "output_type": "stream",
     "text": [
      "New https://pypi.org/project/ultralytics/8.3.37 available 😃 Update with 'pip install -U ultralytics'\n",
      "WARNING ⚠️ Upgrade to torch>=2.0.0 for deterministic training.\n",
      "\u001b[34m\u001b[1mengine/trainer: \u001b[0mtask=detect, mode=train, model=yolov8l.pt, data=/home/alpaco/hbr/Car Detection/car_driver_seat-12/data.yaml, epochs=50, time=None, patience=100, batch=16, imgsz=1024, save=True, save_period=-1, cache=False, device=cuda:2, workers=8, project=/home/alpaco/hbr/YOLOv8_results, name=experiment241125_1024_l2_final3, exist_ok=False, pretrained=True, optimizer=auto, verbose=True, seed=0, deterministic=True, single_cls=False, rect=False, cos_lr=False, close_mosaic=10, resume=False, amp=True, fraction=1.0, profile=False, freeze=None, multi_scale=False, overlap_mask=True, mask_ratio=4, dropout=0.0, val=True, split=val, save_json=False, save_hybrid=False, conf=None, iou=0.7, max_det=300, half=False, dnn=False, plots=True, source=None, vid_stride=1, stream_buffer=False, visualize=False, augment=False, agnostic_nms=False, classes=None, retina_masks=False, embed=None, show=False, save_frames=False, save_txt=False, save_conf=False, save_crop=False, show_labels=True, show_conf=True, show_boxes=True, line_width=None, format=torchscript, keras=False, optimize=False, int8=False, dynamic=False, simplify=True, opset=None, workspace=4, nms=False, lr0=0.01, lrf=0.01, momentum=0.937, weight_decay=0.0005, warmup_epochs=3.0, warmup_momentum=0.8, warmup_bias_lr=0.1, box=7.5, cls=0.5, dfl=1.5, pose=12.0, kobj=1.0, label_smoothing=0.0, nbs=64, hsv_h=0.015, hsv_s=0.7, hsv_v=0.4, degrees=0.0, translate=0.1, scale=0.5, shear=0.0, perspective=0.0, flipud=0.0, fliplr=0.5, bgr=0.0, mosaic=1.0, mixup=0.0, copy_paste=0.0, copy_paste_mode=flip, auto_augment=randaugment, erasing=0.4, crop_fraction=1.0, cfg=None, tracker=botsort.yaml, save_dir=/home/alpaco/hbr/YOLOv8_results/experiment241125_1024_l2_final3\n",
      "Overriding model.yaml nc=80 with nc=5\n",
      "\n",
      "                   from  n    params  module                                       arguments                     \n",
      "  0                  -1  1      1856  ultralytics.nn.modules.conv.Conv             [3, 64, 3, 2]                 \n",
      "  1                  -1  1     73984  ultralytics.nn.modules.conv.Conv             [64, 128, 3, 2]               \n",
      "  2                  -1  3    279808  ultralytics.nn.modules.block.C2f             [128, 128, 3, True]           \n",
      "  3                  -1  1    295424  ultralytics.nn.modules.conv.Conv             [128, 256, 3, 2]              \n",
      "  4                  -1  6   2101248  ultralytics.nn.modules.block.C2f             [256, 256, 6, True]           \n",
      "  5                  -1  1   1180672  ultralytics.nn.modules.conv.Conv             [256, 512, 3, 2]              \n",
      "  6                  -1  6   8396800  ultralytics.nn.modules.block.C2f             [512, 512, 6, True]           \n",
      "  7                  -1  1   2360320  ultralytics.nn.modules.conv.Conv             [512, 512, 3, 2]              \n",
      "  8                  -1  3   4461568  ultralytics.nn.modules.block.C2f             [512, 512, 3, True]           \n",
      "  9                  -1  1    656896  ultralytics.nn.modules.block.SPPF            [512, 512, 5]                 \n",
      " 10                  -1  1         0  torch.nn.modules.upsampling.Upsample         [None, 2, 'nearest']          \n",
      " 11             [-1, 6]  1         0  ultralytics.nn.modules.conv.Concat           [1]                           \n",
      " 12                  -1  3   4723712  ultralytics.nn.modules.block.C2f             [1024, 512, 3]                \n",
      " 13                  -1  1         0  torch.nn.modules.upsampling.Upsample         [None, 2, 'nearest']          \n",
      " 14             [-1, 4]  1         0  ultralytics.nn.modules.conv.Concat           [1]                           \n",
      " 15                  -1  3   1247744  ultralytics.nn.modules.block.C2f             [768, 256, 3]                 \n",
      " 16                  -1  1    590336  ultralytics.nn.modules.conv.Conv             [256, 256, 3, 2]              \n",
      " 17            [-1, 12]  1         0  ultralytics.nn.modules.conv.Concat           [1]                           \n",
      " 18                  -1  3   4592640  ultralytics.nn.modules.block.C2f             [768, 512, 3]                 \n",
      " 19                  -1  1   2360320  ultralytics.nn.modules.conv.Conv             [512, 512, 3, 2]              \n",
      " 20             [-1, 9]  1         0  ultralytics.nn.modules.conv.Concat           [1]                           \n",
      " 21                  -1  3   4723712  ultralytics.nn.modules.block.C2f             [1024, 512, 3]                \n",
      " 22        [15, 18, 21]  1   5586655  ultralytics.nn.modules.head.Detect           [5, [256, 512, 512]]          \n",
      "Model summary: 365 layers, 43,633,695 parameters, 43,633,679 gradients, 165.4 GFLOPs\n",
      "\n",
      "Transferred 589/595 items from pretrained weights\n",
      "Freezing layer 'model.22.dfl.conv.weight'\n",
      "\u001b[34m\u001b[1mAMP: \u001b[0mrunning Automatic Mixed Precision (AMP) checks...\n",
      "\u001b[34m\u001b[1mAMP: \u001b[0mchecks passed ✅\n"
     ]
    },
    {
     "name": "stderr",
     "output_type": "stream",
     "text": [
      "\u001b[34m\u001b[1mtrain: \u001b[0mScanning /home/alpaco/hbr/Car Detection/car_driver_seat-12/train/labels.cache... 2089 images, 0 backgrounds, 0 corrupt: 100%|██████████| 2089/2089 [00:00<?, ?it/s]\n",
      "\u001b[34m\u001b[1mval: \u001b[0mScanning /home/alpaco/hbr/Car Detection/car_driver_seat-12/valid/labels.cache... 592 images, 0 backgrounds, 0 corrupt: 100%|██████████| 592/592 [00:00<?, ?it/s]\n"
     ]
    },
    {
     "name": "stdout",
     "output_type": "stream",
     "text": [
      "Plotting labels to /home/alpaco/hbr/YOLOv8_results/experiment241125_1024_l2_final3/labels.jpg... \n",
      "\u001b[34m\u001b[1moptimizer:\u001b[0m 'optimizer=auto' found, ignoring 'lr0=0.01' and 'momentum=0.937' and determining best 'optimizer', 'lr0' and 'momentum' automatically... \n",
      "\u001b[34m\u001b[1moptimizer:\u001b[0m AdamW(lr=0.001111, momentum=0.9) with parameter groups 97 weight(decay=0.0), 104 weight(decay=0.0005), 103 bias(decay=0.0)\n",
      "Image sizes 1024 train, 1024 val\n",
      "Using 2 dataloader workers\n",
      "Logging results to \u001b[1m/home/alpaco/hbr/YOLOv8_results/experiment241125_1024_l2_final3\u001b[0m\n",
      "Starting training for 50 epochs...\n",
      "\n",
      "      Epoch    GPU_mem   box_loss   cls_loss   dfl_loss  Instances       Size\n"
     ]
    },
    {
     "name": "stderr",
     "output_type": "stream",
     "text": [
      "       1/50         0G      1.275       1.45      1.499         79       1024: 100%|██████████| 131/131 [01:22<00:00,  1.58it/s]\n",
      "                 Class     Images  Instances      Box(P          R      mAP50  mAP50-95): 100%|██████████| 19/19 [00:09<00:00,  1.99it/s]"
     ]
    },
    {
     "name": "stdout",
     "output_type": "stream",
     "text": [
      "                   all        592       3298      0.664      0.603      0.597      0.331\n"
     ]
    },
    {
     "name": "stderr",
     "output_type": "stream",
     "text": [
      "\n"
     ]
    },
    {
     "name": "stdout",
     "output_type": "stream",
     "text": [
      "\n",
      "      Epoch    GPU_mem   box_loss   cls_loss   dfl_loss  Instances       Size\n"
     ]
    },
    {
     "name": "stderr",
     "output_type": "stream",
     "text": [
      "       2/50         0G      1.204      1.088      1.472         85       1024: 100%|██████████| 131/131 [01:20<00:00,  1.63it/s]\n",
      "                 Class     Images  Instances      Box(P          R      mAP50  mAP50-95): 100%|██████████| 19/19 [00:09<00:00,  1.99it/s]"
     ]
    },
    {
     "name": "stdout",
     "output_type": "stream",
     "text": [
      "                   all        592       3298      0.699      0.444      0.472       0.26\n"
     ]
    },
    {
     "name": "stderr",
     "output_type": "stream",
     "text": [
      "\n"
     ]
    },
    {
     "name": "stdout",
     "output_type": "stream",
     "text": [
      "\n",
      "      Epoch    GPU_mem   box_loss   cls_loss   dfl_loss  Instances       Size\n"
     ]
    },
    {
     "name": "stderr",
     "output_type": "stream",
     "text": [
      "       3/50         0G       1.19      1.049      1.457        113       1024: 100%|██████████| 131/131 [01:19<00:00,  1.65it/s]\n",
      "                 Class     Images  Instances      Box(P          R      mAP50  mAP50-95): 100%|██████████| 19/19 [00:09<00:00,  2.01it/s]"
     ]
    },
    {
     "name": "stdout",
     "output_type": "stream",
     "text": [
      "                   all        592       3298      0.687      0.537      0.597      0.347\n"
     ]
    },
    {
     "name": "stderr",
     "output_type": "stream",
     "text": [
      "\n"
     ]
    },
    {
     "name": "stdout",
     "output_type": "stream",
     "text": [
      "\n",
      "      Epoch    GPU_mem   box_loss   cls_loss   dfl_loss  Instances       Size\n"
     ]
    },
    {
     "name": "stderr",
     "output_type": "stream",
     "text": [
      "       4/50         0G       1.12     0.9291       1.41         86       1024: 100%|██████████| 131/131 [01:19<00:00,  1.66it/s]\n",
      "                 Class     Images  Instances      Box(P          R      mAP50  mAP50-95): 100%|██████████| 19/19 [00:09<00:00,  2.05it/s]"
     ]
    },
    {
     "name": "stdout",
     "output_type": "stream",
     "text": [
      "                   all        592       3298      0.767      0.747      0.782       0.47\n"
     ]
    },
    {
     "name": "stderr",
     "output_type": "stream",
     "text": [
      "\n"
     ]
    },
    {
     "name": "stdout",
     "output_type": "stream",
     "text": [
      "\n",
      "      Epoch    GPU_mem   box_loss   cls_loss   dfl_loss  Instances       Size\n"
     ]
    },
    {
     "name": "stderr",
     "output_type": "stream",
     "text": [
      "       5/50         0G      1.061     0.8658      1.366         85       1024: 100%|██████████| 131/131 [01:19<00:00,  1.65it/s]\n",
      "                 Class     Images  Instances      Box(P          R      mAP50  mAP50-95): 100%|██████████| 19/19 [00:09<00:00,  2.03it/s]"
     ]
    },
    {
     "name": "stdout",
     "output_type": "stream",
     "text": [
      "                   all        592       3298      0.841      0.728       0.78      0.469\n"
     ]
    },
    {
     "name": "stderr",
     "output_type": "stream",
     "text": [
      "\n"
     ]
    },
    {
     "name": "stdout",
     "output_type": "stream",
     "text": [
      "\n",
      "      Epoch    GPU_mem   box_loss   cls_loss   dfl_loss  Instances       Size\n"
     ]
    },
    {
     "name": "stderr",
     "output_type": "stream",
     "text": [
      "       6/50         0G      1.018     0.8027      1.336         71       1024: 100%|██████████| 131/131 [01:18<00:00,  1.66it/s]\n",
      "                 Class     Images  Instances      Box(P          R      mAP50  mAP50-95): 100%|██████████| 19/19 [00:09<00:00,  2.06it/s]"
     ]
    },
    {
     "name": "stdout",
     "output_type": "stream",
     "text": [
      "                   all        592       3298      0.888      0.725      0.776        0.5\n"
     ]
    },
    {
     "name": "stderr",
     "output_type": "stream",
     "text": [
      "\n"
     ]
    },
    {
     "name": "stdout",
     "output_type": "stream",
     "text": [
      "\n",
      "      Epoch    GPU_mem   box_loss   cls_loss   dfl_loss  Instances       Size\n"
     ]
    },
    {
     "name": "stderr",
     "output_type": "stream",
     "text": [
      "       7/50         0G     0.9835      0.753      1.302        101       1024: 100%|██████████| 131/131 [01:18<00:00,  1.66it/s]\n",
      "                 Class     Images  Instances      Box(P          R      mAP50  mAP50-95): 100%|██████████| 19/19 [00:09<00:00,  2.05it/s]"
     ]
    },
    {
     "name": "stdout",
     "output_type": "stream",
     "text": [
      "                   all        592       3298      0.866        0.8      0.828      0.521\n"
     ]
    },
    {
     "name": "stderr",
     "output_type": "stream",
     "text": [
      "\n"
     ]
    },
    {
     "name": "stdout",
     "output_type": "stream",
     "text": [
      "\n",
      "      Epoch    GPU_mem   box_loss   cls_loss   dfl_loss  Instances       Size\n"
     ]
    },
    {
     "name": "stderr",
     "output_type": "stream",
     "text": [
      "       8/50         0G     0.9602     0.7167      1.301         48       1024: 100%|██████████| 131/131 [01:18<00:00,  1.66it/s]\n",
      "                 Class     Images  Instances      Box(P          R      mAP50  mAP50-95): 100%|██████████| 19/19 [00:09<00:00,  2.05it/s]"
     ]
    },
    {
     "name": "stdout",
     "output_type": "stream",
     "text": [
      "                   all        592       3298      0.896      0.819      0.855      0.556\n"
     ]
    },
    {
     "name": "stderr",
     "output_type": "stream",
     "text": [
      "\n"
     ]
    },
    {
     "name": "stdout",
     "output_type": "stream",
     "text": [
      "\n",
      "      Epoch    GPU_mem   box_loss   cls_loss   dfl_loss  Instances       Size\n"
     ]
    },
    {
     "name": "stderr",
     "output_type": "stream",
     "text": [
      "       9/50         0G     0.9444     0.6931      1.277         95       1024: 100%|██████████| 131/131 [01:18<00:00,  1.66it/s]\n",
      "                 Class     Images  Instances      Box(P          R      mAP50  mAP50-95): 100%|██████████| 19/19 [00:09<00:00,  2.07it/s]"
     ]
    },
    {
     "name": "stdout",
     "output_type": "stream",
     "text": [
      "                   all        592       3298      0.905      0.811      0.849       0.55\n"
     ]
    },
    {
     "name": "stderr",
     "output_type": "stream",
     "text": [
      "\n"
     ]
    },
    {
     "name": "stdout",
     "output_type": "stream",
     "text": [
      "\n",
      "      Epoch    GPU_mem   box_loss   cls_loss   dfl_loss  Instances       Size\n"
     ]
    },
    {
     "name": "stderr",
     "output_type": "stream",
     "text": [
      "      10/50         0G     0.9237     0.6792      1.274         74       1024: 100%|██████████| 131/131 [01:18<00:00,  1.66it/s]\n",
      "                 Class     Images  Instances      Box(P          R      mAP50  mAP50-95): 100%|██████████| 19/19 [00:09<00:00,  2.07it/s]"
     ]
    },
    {
     "name": "stdout",
     "output_type": "stream",
     "text": [
      "                   all        592       3298      0.893      0.816      0.862      0.551\n"
     ]
    },
    {
     "name": "stderr",
     "output_type": "stream",
     "text": [
      "\n"
     ]
    },
    {
     "name": "stdout",
     "output_type": "stream",
     "text": [
      "\n",
      "      Epoch    GPU_mem   box_loss   cls_loss   dfl_loss  Instances       Size\n"
     ]
    },
    {
     "name": "stderr",
     "output_type": "stream",
     "text": [
      "      11/50         0G     0.9017     0.6492      1.254         90       1024: 100%|██████████| 131/131 [01:18<00:00,  1.66it/s]\n",
      "                 Class     Images  Instances      Box(P          R      mAP50  mAP50-95): 100%|██████████| 19/19 [00:09<00:00,  2.04it/s]"
     ]
    },
    {
     "name": "stdout",
     "output_type": "stream",
     "text": [
      "                   all        592       3298      0.865      0.826      0.864      0.555\n"
     ]
    },
    {
     "name": "stderr",
     "output_type": "stream",
     "text": [
      "\n"
     ]
    },
    {
     "name": "stdout",
     "output_type": "stream",
     "text": [
      "\n",
      "      Epoch    GPU_mem   box_loss   cls_loss   dfl_loss  Instances       Size\n"
     ]
    },
    {
     "name": "stderr",
     "output_type": "stream",
     "text": [
      "      12/50         0G     0.8838     0.6358      1.247         76       1024: 100%|██████████| 131/131 [01:18<00:00,  1.66it/s]\n",
      "                 Class     Images  Instances      Box(P          R      mAP50  mAP50-95): 100%|██████████| 19/19 [00:09<00:00,  2.05it/s]"
     ]
    },
    {
     "name": "stdout",
     "output_type": "stream",
     "text": [
      "                   all        592       3298      0.906      0.833      0.867      0.565\n"
     ]
    },
    {
     "name": "stderr",
     "output_type": "stream",
     "text": [
      "\n"
     ]
    },
    {
     "name": "stdout",
     "output_type": "stream",
     "text": [
      "\n",
      "      Epoch    GPU_mem   box_loss   cls_loss   dfl_loss  Instances       Size\n"
     ]
    },
    {
     "name": "stderr",
     "output_type": "stream",
     "text": [
      "      13/50         0G     0.8625     0.6154      1.233         45       1024: 100%|██████████| 131/131 [01:18<00:00,  1.66it/s]\n",
      "                 Class     Images  Instances      Box(P          R      mAP50  mAP50-95): 100%|██████████| 19/19 [00:09<00:00,  2.06it/s]"
     ]
    },
    {
     "name": "stdout",
     "output_type": "stream",
     "text": [
      "                   all        592       3298      0.876      0.829      0.865      0.555\n"
     ]
    },
    {
     "name": "stderr",
     "output_type": "stream",
     "text": [
      "\n"
     ]
    },
    {
     "name": "stdout",
     "output_type": "stream",
     "text": [
      "\n",
      "      Epoch    GPU_mem   box_loss   cls_loss   dfl_loss  Instances       Size\n"
     ]
    },
    {
     "name": "stderr",
     "output_type": "stream",
     "text": [
      "      14/50         0G     0.8617     0.6078      1.222         91       1024: 100%|██████████| 131/131 [01:18<00:00,  1.66it/s]\n",
      "                 Class     Images  Instances      Box(P          R      mAP50  mAP50-95): 100%|██████████| 19/19 [00:09<00:00,  2.07it/s]"
     ]
    },
    {
     "name": "stdout",
     "output_type": "stream",
     "text": [
      "                   all        592       3298      0.901      0.833      0.878      0.581\n"
     ]
    },
    {
     "name": "stderr",
     "output_type": "stream",
     "text": [
      "\n"
     ]
    },
    {
     "name": "stdout",
     "output_type": "stream",
     "text": [
      "\n",
      "      Epoch    GPU_mem   box_loss   cls_loss   dfl_loss  Instances       Size\n"
     ]
    },
    {
     "name": "stderr",
     "output_type": "stream",
     "text": [
      "      15/50         0G     0.8401     0.5852      1.222         96       1024: 100%|██████████| 131/131 [01:18<00:00,  1.66it/s]\n",
      "                 Class     Images  Instances      Box(P          R      mAP50  mAP50-95): 100%|██████████| 19/19 [00:09<00:00,  2.07it/s]"
     ]
    },
    {
     "name": "stdout",
     "output_type": "stream",
     "text": [
      "                   all        592       3298      0.904      0.842      0.888      0.587\n"
     ]
    },
    {
     "name": "stderr",
     "output_type": "stream",
     "text": [
      "\n"
     ]
    },
    {
     "name": "stdout",
     "output_type": "stream",
     "text": [
      "\n",
      "      Epoch    GPU_mem   box_loss   cls_loss   dfl_loss  Instances       Size\n"
     ]
    },
    {
     "name": "stderr",
     "output_type": "stream",
     "text": [
      "      16/50         0G     0.8278     0.5696      1.204        112       1024: 100%|██████████| 131/131 [01:18<00:00,  1.66it/s]\n",
      "                 Class     Images  Instances      Box(P          R      mAP50  mAP50-95): 100%|██████████| 19/19 [00:09<00:00,  2.07it/s]"
     ]
    },
    {
     "name": "stdout",
     "output_type": "stream",
     "text": [
      "                   all        592       3298       0.91      0.845      0.889      0.575\n"
     ]
    },
    {
     "name": "stderr",
     "output_type": "stream",
     "text": [
      "\n"
     ]
    },
    {
     "name": "stdout",
     "output_type": "stream",
     "text": [
      "\n",
      "      Epoch    GPU_mem   box_loss   cls_loss   dfl_loss  Instances       Size\n"
     ]
    },
    {
     "name": "stderr",
     "output_type": "stream",
     "text": [
      "      17/50         0G     0.8324     0.5692      1.208         42       1024: 100%|██████████| 131/131 [01:18<00:00,  1.66it/s]\n",
      "                 Class     Images  Instances      Box(P          R      mAP50  mAP50-95): 100%|██████████| 19/19 [00:09<00:00,  2.04it/s]"
     ]
    },
    {
     "name": "stdout",
     "output_type": "stream",
     "text": [
      "                   all        592       3298      0.924      0.808      0.891      0.588\n"
     ]
    },
    {
     "name": "stderr",
     "output_type": "stream",
     "text": [
      "\n"
     ]
    },
    {
     "name": "stdout",
     "output_type": "stream",
     "text": [
      "\n",
      "      Epoch    GPU_mem   box_loss   cls_loss   dfl_loss  Instances       Size\n"
     ]
    },
    {
     "name": "stderr",
     "output_type": "stream",
     "text": [
      "      18/50         0G     0.8012     0.5548      1.199         94       1024: 100%|██████████| 131/131 [01:18<00:00,  1.66it/s]\n",
      "                 Class     Images  Instances      Box(P          R      mAP50  mAP50-95): 100%|██████████| 19/19 [00:09<00:00,  2.04it/s]"
     ]
    },
    {
     "name": "stdout",
     "output_type": "stream",
     "text": [
      "                   all        592       3298      0.915      0.851      0.892      0.592\n"
     ]
    },
    {
     "name": "stderr",
     "output_type": "stream",
     "text": [
      "\n"
     ]
    },
    {
     "name": "stdout",
     "output_type": "stream",
     "text": [
      "\n",
      "      Epoch    GPU_mem   box_loss   cls_loss   dfl_loss  Instances       Size\n"
     ]
    },
    {
     "name": "stderr",
     "output_type": "stream",
     "text": [
      "      19/50         0G     0.7991     0.5452      1.187         64       1024: 100%|██████████| 131/131 [01:18<00:00,  1.66it/s]\n",
      "                 Class     Images  Instances      Box(P          R      mAP50  mAP50-95): 100%|██████████| 19/19 [00:09<00:00,  2.05it/s]"
     ]
    },
    {
     "name": "stdout",
     "output_type": "stream",
     "text": [
      "                   all        592       3298      0.915      0.855      0.893      0.581\n"
     ]
    },
    {
     "name": "stderr",
     "output_type": "stream",
     "text": [
      "\n"
     ]
    },
    {
     "name": "stdout",
     "output_type": "stream",
     "text": [
      "\n",
      "      Epoch    GPU_mem   box_loss   cls_loss   dfl_loss  Instances       Size\n"
     ]
    },
    {
     "name": "stderr",
     "output_type": "stream",
     "text": [
      "      20/50         0G     0.8133     0.5457      1.193         72       1024: 100%|██████████| 131/131 [01:19<00:00,  1.66it/s]\n",
      "                 Class     Images  Instances      Box(P          R      mAP50  mAP50-95): 100%|██████████| 19/19 [00:09<00:00,  2.03it/s]"
     ]
    },
    {
     "name": "stdout",
     "output_type": "stream",
     "text": [
      "                   all        592       3298      0.906      0.866      0.893      0.594\n"
     ]
    },
    {
     "name": "stderr",
     "output_type": "stream",
     "text": [
      "\n"
     ]
    },
    {
     "name": "stdout",
     "output_type": "stream",
     "text": [
      "\n",
      "      Epoch    GPU_mem   box_loss   cls_loss   dfl_loss  Instances       Size\n"
     ]
    },
    {
     "name": "stderr",
     "output_type": "stream",
     "text": [
      "      21/50         0G     0.8085     0.5358      1.188         61       1024: 100%|██████████| 131/131 [01:19<00:00,  1.65it/s]\n",
      "                 Class     Images  Instances      Box(P          R      mAP50  mAP50-95): 100%|██████████| 19/19 [00:09<00:00,  2.05it/s]"
     ]
    },
    {
     "name": "stdout",
     "output_type": "stream",
     "text": [
      "                   all        592       3298      0.878      0.874      0.885      0.587\n"
     ]
    },
    {
     "name": "stderr",
     "output_type": "stream",
     "text": [
      "\n"
     ]
    },
    {
     "name": "stdout",
     "output_type": "stream",
     "text": [
      "\n",
      "      Epoch    GPU_mem   box_loss   cls_loss   dfl_loss  Instances       Size\n"
     ]
    },
    {
     "name": "stderr",
     "output_type": "stream",
     "text": [
      "      22/50         0G     0.7987     0.5333       1.18        105       1024: 100%|██████████| 131/131 [01:18<00:00,  1.66it/s]\n",
      "                 Class     Images  Instances      Box(P          R      mAP50  mAP50-95): 100%|██████████| 19/19 [00:09<00:00,  2.07it/s]"
     ]
    },
    {
     "name": "stdout",
     "output_type": "stream",
     "text": [
      "                   all        592       3298      0.908      0.856      0.892      0.603\n"
     ]
    },
    {
     "name": "stderr",
     "output_type": "stream",
     "text": [
      "\n"
     ]
    },
    {
     "name": "stdout",
     "output_type": "stream",
     "text": [
      "\n",
      "      Epoch    GPU_mem   box_loss   cls_loss   dfl_loss  Instances       Size\n"
     ]
    },
    {
     "name": "stderr",
     "output_type": "stream",
     "text": [
      "      23/50         0G     0.7854     0.5246      1.176         78       1024: 100%|██████████| 131/131 [01:18<00:00,  1.66it/s]\n",
      "                 Class     Images  Instances      Box(P          R      mAP50  mAP50-95): 100%|██████████| 19/19 [00:09<00:00,  2.06it/s]"
     ]
    },
    {
     "name": "stdout",
     "output_type": "stream",
     "text": [
      "                   all        592       3298      0.921      0.855      0.899      0.601\n"
     ]
    },
    {
     "name": "stderr",
     "output_type": "stream",
     "text": [
      "\n"
     ]
    },
    {
     "name": "stdout",
     "output_type": "stream",
     "text": [
      "\n",
      "      Epoch    GPU_mem   box_loss   cls_loss   dfl_loss  Instances       Size\n"
     ]
    },
    {
     "name": "stderr",
     "output_type": "stream",
     "text": [
      "      24/50         0G     0.7887     0.5161      1.178         68       1024: 100%|██████████| 131/131 [01:18<00:00,  1.66it/s]\n",
      "                 Class     Images  Instances      Box(P          R      mAP50  mAP50-95): 100%|██████████| 19/19 [00:09<00:00,  2.02it/s]"
     ]
    },
    {
     "name": "stdout",
     "output_type": "stream",
     "text": [
      "                   all        592       3298      0.907      0.871      0.901      0.602\n"
     ]
    },
    {
     "name": "stderr",
     "output_type": "stream",
     "text": [
      "\n"
     ]
    },
    {
     "name": "stdout",
     "output_type": "stream",
     "text": [
      "\n",
      "      Epoch    GPU_mem   box_loss   cls_loss   dfl_loss  Instances       Size\n"
     ]
    },
    {
     "name": "stderr",
     "output_type": "stream",
     "text": [
      "      25/50         0G     0.7835     0.5122      1.169         99       1024: 100%|██████████| 131/131 [01:18<00:00,  1.66it/s]\n",
      "                 Class     Images  Instances      Box(P          R      mAP50  mAP50-95): 100%|██████████| 19/19 [00:09<00:00,  2.06it/s]"
     ]
    },
    {
     "name": "stdout",
     "output_type": "stream",
     "text": [
      "                   all        592       3298      0.912      0.869      0.903       0.61\n"
     ]
    },
    {
     "name": "stderr",
     "output_type": "stream",
     "text": [
      "\n"
     ]
    },
    {
     "name": "stdout",
     "output_type": "stream",
     "text": [
      "\n",
      "      Epoch    GPU_mem   box_loss   cls_loss   dfl_loss  Instances       Size\n"
     ]
    },
    {
     "name": "stderr",
     "output_type": "stream",
     "text": [
      "      26/50         0G      0.751     0.4948      1.157         74       1024: 100%|██████████| 131/131 [01:19<00:00,  1.66it/s]\n",
      "                 Class     Images  Instances      Box(P          R      mAP50  mAP50-95): 100%|██████████| 19/19 [00:09<00:00,  2.06it/s]"
     ]
    },
    {
     "name": "stdout",
     "output_type": "stream",
     "text": [
      "                   all        592       3298      0.918      0.864      0.897      0.599\n"
     ]
    },
    {
     "name": "stderr",
     "output_type": "stream",
     "text": [
      "\n"
     ]
    },
    {
     "name": "stdout",
     "output_type": "stream",
     "text": [
      "\n",
      "      Epoch    GPU_mem   box_loss   cls_loss   dfl_loss  Instances       Size\n"
     ]
    },
    {
     "name": "stderr",
     "output_type": "stream",
     "text": [
      "      27/50         0G     0.7709      0.503      1.158         87       1024: 100%|██████████| 131/131 [01:18<00:00,  1.66it/s]\n",
      "                 Class     Images  Instances      Box(P          R      mAP50  mAP50-95): 100%|██████████| 19/19 [00:09<00:00,  2.06it/s]"
     ]
    },
    {
     "name": "stdout",
     "output_type": "stream",
     "text": [
      "                   all        592       3298        0.9      0.874      0.903      0.597\n"
     ]
    },
    {
     "name": "stderr",
     "output_type": "stream",
     "text": [
      "\n"
     ]
    },
    {
     "name": "stdout",
     "output_type": "stream",
     "text": [
      "\n",
      "      Epoch    GPU_mem   box_loss   cls_loss   dfl_loss  Instances       Size\n"
     ]
    },
    {
     "name": "stderr",
     "output_type": "stream",
     "text": [
      "      28/50         0G     0.7581     0.4963       1.16         92       1024: 100%|██████████| 131/131 [01:18<00:00,  1.66it/s]\n",
      "                 Class     Images  Instances      Box(P          R      mAP50  mAP50-95): 100%|██████████| 19/19 [00:09<00:00,  2.06it/s]"
     ]
    },
    {
     "name": "stdout",
     "output_type": "stream",
     "text": [
      "                   all        592       3298      0.938      0.861      0.906      0.611\n"
     ]
    },
    {
     "name": "stderr",
     "output_type": "stream",
     "text": [
      "\n"
     ]
    },
    {
     "name": "stdout",
     "output_type": "stream",
     "text": [
      "\n",
      "      Epoch    GPU_mem   box_loss   cls_loss   dfl_loss  Instances       Size\n"
     ]
    },
    {
     "name": "stderr",
     "output_type": "stream",
     "text": [
      "      29/50         0G     0.7518     0.4836      1.151         70       1024: 100%|██████████| 131/131 [01:18<00:00,  1.66it/s]\n",
      "                 Class     Images  Instances      Box(P          R      mAP50  mAP50-95): 100%|██████████| 19/19 [00:09<00:00,  2.08it/s]"
     ]
    },
    {
     "name": "stdout",
     "output_type": "stream",
     "text": [
      "                   all        592       3298      0.931       0.87      0.903      0.608\n"
     ]
    },
    {
     "name": "stderr",
     "output_type": "stream",
     "text": [
      "\n"
     ]
    },
    {
     "name": "stdout",
     "output_type": "stream",
     "text": [
      "\n",
      "      Epoch    GPU_mem   box_loss   cls_loss   dfl_loss  Instances       Size\n"
     ]
    },
    {
     "name": "stderr",
     "output_type": "stream",
     "text": [
      "      30/50         0G     0.7519     0.4832      1.156         68       1024: 100%|██████████| 131/131 [01:18<00:00,  1.66it/s]\n",
      "                 Class     Images  Instances      Box(P          R      mAP50  mAP50-95): 100%|██████████| 19/19 [00:09<00:00,  2.04it/s]"
     ]
    },
    {
     "name": "stdout",
     "output_type": "stream",
     "text": [
      "                   all        592       3298      0.913      0.878      0.905      0.611\n"
     ]
    },
    {
     "name": "stderr",
     "output_type": "stream",
     "text": [
      "\n"
     ]
    },
    {
     "name": "stdout",
     "output_type": "stream",
     "text": [
      "\n",
      "      Epoch    GPU_mem   box_loss   cls_loss   dfl_loss  Instances       Size\n"
     ]
    },
    {
     "name": "stderr",
     "output_type": "stream",
     "text": [
      "      31/50         0G     0.7371     0.4674      1.147         73       1024: 100%|██████████| 131/131 [01:18<00:00,  1.66it/s]\n",
      "                 Class     Images  Instances      Box(P          R      mAP50  mAP50-95): 100%|██████████| 19/19 [00:09<00:00,  2.06it/s]"
     ]
    },
    {
     "name": "stdout",
     "output_type": "stream",
     "text": [
      "                   all        592       3298      0.909      0.882      0.901      0.614\n"
     ]
    },
    {
     "name": "stderr",
     "output_type": "stream",
     "text": [
      "\n"
     ]
    },
    {
     "name": "stdout",
     "output_type": "stream",
     "text": [
      "\n",
      "      Epoch    GPU_mem   box_loss   cls_loss   dfl_loss  Instances       Size\n"
     ]
    },
    {
     "name": "stderr",
     "output_type": "stream",
     "text": [
      "      32/50         0G     0.7213      0.458      1.134         87       1024: 100%|██████████| 131/131 [01:18<00:00,  1.66it/s]\n",
      "                 Class     Images  Instances      Box(P          R      mAP50  mAP50-95): 100%|██████████| 19/19 [00:09<00:00,  1.93it/s]"
     ]
    },
    {
     "name": "stdout",
     "output_type": "stream",
     "text": [
      "                   all        592       3298      0.907      0.887      0.911      0.614\n"
     ]
    },
    {
     "name": "stderr",
     "output_type": "stream",
     "text": [
      "\n"
     ]
    },
    {
     "name": "stdout",
     "output_type": "stream",
     "text": [
      "\n",
      "      Epoch    GPU_mem   box_loss   cls_loss   dfl_loss  Instances       Size\n"
     ]
    },
    {
     "name": "stderr",
     "output_type": "stream",
     "text": [
      "      33/50         0G     0.7284     0.4585      1.132         58       1024: 100%|██████████| 131/131 [01:18<00:00,  1.66it/s]\n",
      "                 Class     Images  Instances      Box(P          R      mAP50  mAP50-95): 100%|██████████| 19/19 [00:09<00:00,  2.06it/s]"
     ]
    },
    {
     "name": "stdout",
     "output_type": "stream",
     "text": [
      "                   all        592       3298      0.904      0.889      0.906      0.607\n"
     ]
    },
    {
     "name": "stderr",
     "output_type": "stream",
     "text": [
      "\n"
     ]
    },
    {
     "name": "stdout",
     "output_type": "stream",
     "text": [
      "\n",
      "      Epoch    GPU_mem   box_loss   cls_loss   dfl_loss  Instances       Size\n"
     ]
    },
    {
     "name": "stderr",
     "output_type": "stream",
     "text": [
      "      34/50         0G     0.7202     0.4556       1.13         85       1024: 100%|██████████| 131/131 [01:19<00:00,  1.65it/s]\n",
      "                 Class     Images  Instances      Box(P          R      mAP50  mAP50-95): 100%|██████████| 19/19 [00:09<00:00,  2.06it/s]"
     ]
    },
    {
     "name": "stdout",
     "output_type": "stream",
     "text": [
      "                   all        592       3298      0.922       0.88      0.908      0.615\n"
     ]
    },
    {
     "name": "stderr",
     "output_type": "stream",
     "text": [
      "\n"
     ]
    },
    {
     "name": "stdout",
     "output_type": "stream",
     "text": [
      "\n",
      "      Epoch    GPU_mem   box_loss   cls_loss   dfl_loss  Instances       Size\n"
     ]
    },
    {
     "name": "stderr",
     "output_type": "stream",
     "text": [
      "      35/50         0G     0.7123     0.4493      1.126        110       1024: 100%|██████████| 131/131 [01:19<00:00,  1.65it/s]\n",
      "                 Class     Images  Instances      Box(P          R      mAP50  mAP50-95): 100%|██████████| 19/19 [00:09<00:00,  2.02it/s]"
     ]
    },
    {
     "name": "stdout",
     "output_type": "stream",
     "text": [
      "                   all        592       3298      0.919      0.884       0.91      0.614\n"
     ]
    },
    {
     "name": "stderr",
     "output_type": "stream",
     "text": [
      "\n"
     ]
    },
    {
     "name": "stdout",
     "output_type": "stream",
     "text": [
      "\n",
      "      Epoch    GPU_mem   box_loss   cls_loss   dfl_loss  Instances       Size\n"
     ]
    },
    {
     "name": "stderr",
     "output_type": "stream",
     "text": [
      "      36/50         0G     0.7043     0.4388      1.129         66       1024: 100%|██████████| 131/131 [01:19<00:00,  1.65it/s]\n",
      "                 Class     Images  Instances      Box(P          R      mAP50  mAP50-95): 100%|██████████| 19/19 [00:09<00:00,  2.03it/s]"
     ]
    },
    {
     "name": "stdout",
     "output_type": "stream",
     "text": [
      "                   all        592       3298       0.92      0.883      0.916      0.616\n"
     ]
    },
    {
     "name": "stderr",
     "output_type": "stream",
     "text": [
      "\n"
     ]
    },
    {
     "name": "stdout",
     "output_type": "stream",
     "text": [
      "\n",
      "      Epoch    GPU_mem   box_loss   cls_loss   dfl_loss  Instances       Size\n"
     ]
    },
    {
     "name": "stderr",
     "output_type": "stream",
     "text": [
      "      37/50         0G     0.6897     0.4294      1.117         61       1024: 100%|██████████| 131/131 [01:19<00:00,  1.65it/s]\n",
      "                 Class     Images  Instances      Box(P          R      mAP50  mAP50-95): 100%|██████████| 19/19 [00:09<00:00,  2.07it/s]"
     ]
    },
    {
     "name": "stdout",
     "output_type": "stream",
     "text": [
      "                   all        592       3298      0.923      0.875      0.912      0.619\n"
     ]
    },
    {
     "name": "stderr",
     "output_type": "stream",
     "text": [
      "\n"
     ]
    },
    {
     "name": "stdout",
     "output_type": "stream",
     "text": [
      "\n",
      "      Epoch    GPU_mem   box_loss   cls_loss   dfl_loss  Instances       Size\n"
     ]
    },
    {
     "name": "stderr",
     "output_type": "stream",
     "text": [
      "      38/50         0G      0.689     0.4289      1.116         99       1024: 100%|██████████| 131/131 [01:19<00:00,  1.65it/s]\n",
      "                 Class     Images  Instances      Box(P          R      mAP50  mAP50-95): 100%|██████████| 19/19 [00:09<00:00,  2.06it/s]"
     ]
    },
    {
     "name": "stdout",
     "output_type": "stream",
     "text": [
      "                   all        592       3298      0.913      0.883      0.913      0.618\n"
     ]
    },
    {
     "name": "stderr",
     "output_type": "stream",
     "text": [
      "\n"
     ]
    },
    {
     "name": "stdout",
     "output_type": "stream",
     "text": [
      "\n",
      "      Epoch    GPU_mem   box_loss   cls_loss   dfl_loss  Instances       Size\n"
     ]
    },
    {
     "name": "stderr",
     "output_type": "stream",
     "text": [
      "      39/50         0G     0.6875     0.4282      1.111         98       1024: 100%|██████████| 131/131 [01:18<00:00,  1.66it/s]\n",
      "                 Class     Images  Instances      Box(P          R      mAP50  mAP50-95): 100%|██████████| 19/19 [00:09<00:00,  2.05it/s]"
     ]
    },
    {
     "name": "stdout",
     "output_type": "stream",
     "text": [
      "                   all        592       3298      0.925      0.887      0.913      0.614\n"
     ]
    },
    {
     "name": "stderr",
     "output_type": "stream",
     "text": [
      "\n"
     ]
    },
    {
     "name": "stdout",
     "output_type": "stream",
     "text": [
      "\n",
      "      Epoch    GPU_mem   box_loss   cls_loss   dfl_loss  Instances       Size\n"
     ]
    },
    {
     "name": "stderr",
     "output_type": "stream",
     "text": [
      "      40/50         0G     0.6997     0.4323       1.12         71       1024: 100%|██████████| 131/131 [01:18<00:00,  1.66it/s]\n",
      "                 Class     Images  Instances      Box(P          R      mAP50  mAP50-95): 100%|██████████| 19/19 [00:09<00:00,  2.06it/s]"
     ]
    },
    {
     "name": "stdout",
     "output_type": "stream",
     "text": [
      "                   all        592       3298      0.915      0.894      0.913      0.616\n"
     ]
    },
    {
     "name": "stderr",
     "output_type": "stream",
     "text": [
      "\n"
     ]
    },
    {
     "name": "stdout",
     "output_type": "stream",
     "text": [
      "Closing dataloader mosaic\n",
      "\n",
      "      Epoch    GPU_mem   box_loss   cls_loss   dfl_loss  Instances       Size\n"
     ]
    },
    {
     "name": "stderr",
     "output_type": "stream",
     "text": [
      "      41/50         0G     0.7063     0.3893      1.121         44       1024: 100%|██████████| 131/131 [01:20<00:00,  1.63it/s]\n",
      "                 Class     Images  Instances      Box(P          R      mAP50  mAP50-95): 100%|██████████| 19/19 [00:09<00:00,  2.06it/s]"
     ]
    },
    {
     "name": "stdout",
     "output_type": "stream",
     "text": [
      "                   all        592       3298      0.925      0.885      0.915      0.627\n"
     ]
    },
    {
     "name": "stderr",
     "output_type": "stream",
     "text": [
      "\n"
     ]
    },
    {
     "name": "stdout",
     "output_type": "stream",
     "text": [
      "\n",
      "      Epoch    GPU_mem   box_loss   cls_loss   dfl_loss  Instances       Size\n"
     ]
    },
    {
     "name": "stderr",
     "output_type": "stream",
     "text": [
      "      42/50         0G     0.6871     0.3753      1.108         76       1024: 100%|██████████| 131/131 [01:18<00:00,  1.66it/s]\n",
      "                 Class     Images  Instances      Box(P          R      mAP50  mAP50-95): 100%|██████████| 19/19 [00:09<00:00,  2.05it/s]"
     ]
    },
    {
     "name": "stdout",
     "output_type": "stream",
     "text": [
      "                   all        592       3298      0.924      0.881      0.911      0.621\n"
     ]
    },
    {
     "name": "stderr",
     "output_type": "stream",
     "text": [
      "\n"
     ]
    },
    {
     "name": "stdout",
     "output_type": "stream",
     "text": [
      "\n",
      "      Epoch    GPU_mem   box_loss   cls_loss   dfl_loss  Instances       Size\n"
     ]
    },
    {
     "name": "stderr",
     "output_type": "stream",
     "text": [
      "      43/50         0G     0.6852     0.3744      1.112         41       1024: 100%|██████████| 131/131 [01:18<00:00,  1.66it/s]\n",
      "                 Class     Images  Instances      Box(P          R      mAP50  mAP50-95): 100%|██████████| 19/19 [00:09<00:00,  2.07it/s]"
     ]
    },
    {
     "name": "stdout",
     "output_type": "stream",
     "text": [
      "                   all        592       3298      0.925      0.889      0.916      0.625\n"
     ]
    },
    {
     "name": "stderr",
     "output_type": "stream",
     "text": [
      "\n"
     ]
    },
    {
     "name": "stdout",
     "output_type": "stream",
     "text": [
      "\n",
      "      Epoch    GPU_mem   box_loss   cls_loss   dfl_loss  Instances       Size\n"
     ]
    },
    {
     "name": "stderr",
     "output_type": "stream",
     "text": [
      "      44/50         0G     0.6759      0.365      1.096         54       1024: 100%|██████████| 131/131 [01:18<00:00,  1.66it/s]\n",
      "                 Class     Images  Instances      Box(P          R      mAP50  mAP50-95): 100%|██████████| 19/19 [00:09<00:00,  2.04it/s]"
     ]
    },
    {
     "name": "stdout",
     "output_type": "stream",
     "text": [
      "                   all        592       3298      0.927      0.887      0.916      0.625\n"
     ]
    },
    {
     "name": "stderr",
     "output_type": "stream",
     "text": [
      "\n"
     ]
    },
    {
     "name": "stdout",
     "output_type": "stream",
     "text": [
      "\n",
      "      Epoch    GPU_mem   box_loss   cls_loss   dfl_loss  Instances       Size\n"
     ]
    },
    {
     "name": "stderr",
     "output_type": "stream",
     "text": [
      "      45/50         0G     0.6691      0.363        1.1         83       1024: 100%|██████████| 131/131 [01:18<00:00,  1.67it/s]\n",
      "                 Class     Images  Instances      Box(P          R      mAP50  mAP50-95): 100%|██████████| 19/19 [00:09<00:00,  2.06it/s]"
     ]
    },
    {
     "name": "stdout",
     "output_type": "stream",
     "text": [
      "                   all        592       3298      0.913        0.9      0.919      0.626\n"
     ]
    },
    {
     "name": "stderr",
     "output_type": "stream",
     "text": [
      "\n"
     ]
    },
    {
     "name": "stdout",
     "output_type": "stream",
     "text": [
      "\n",
      "      Epoch    GPU_mem   box_loss   cls_loss   dfl_loss  Instances       Size\n"
     ]
    },
    {
     "name": "stderr",
     "output_type": "stream",
     "text": [
      "      46/50         0G     0.6596     0.3559      1.094         53       1024: 100%|██████████| 131/131 [01:18<00:00,  1.66it/s]\n",
      "                 Class     Images  Instances      Box(P          R      mAP50  mAP50-95): 100%|██████████| 19/19 [00:09<00:00,  2.07it/s]"
     ]
    },
    {
     "name": "stdout",
     "output_type": "stream",
     "text": [
      "                   all        592       3298      0.922      0.891      0.915      0.627\n"
     ]
    },
    {
     "name": "stderr",
     "output_type": "stream",
     "text": [
      "\n"
     ]
    },
    {
     "name": "stdout",
     "output_type": "stream",
     "text": [
      "\n",
      "      Epoch    GPU_mem   box_loss   cls_loss   dfl_loss  Instances       Size\n"
     ]
    },
    {
     "name": "stderr",
     "output_type": "stream",
     "text": [
      "      47/50         0G     0.6502     0.3475      1.089         37       1024: 100%|██████████| 131/131 [01:18<00:00,  1.66it/s]\n",
      "                 Class     Images  Instances      Box(P          R      mAP50  mAP50-95): 100%|██████████| 19/19 [00:09<00:00,  2.06it/s]"
     ]
    },
    {
     "name": "stdout",
     "output_type": "stream",
     "text": [
      "                   all        592       3298      0.921      0.898      0.922      0.629\n"
     ]
    },
    {
     "name": "stderr",
     "output_type": "stream",
     "text": [
      "\n"
     ]
    },
    {
     "name": "stdout",
     "output_type": "stream",
     "text": [
      "\n",
      "      Epoch    GPU_mem   box_loss   cls_loss   dfl_loss  Instances       Size\n"
     ]
    },
    {
     "name": "stderr",
     "output_type": "stream",
     "text": [
      "      48/50         0G     0.6472     0.3439      1.081         65       1024: 100%|██████████| 131/131 [01:18<00:00,  1.66it/s]\n",
      "                 Class     Images  Instances      Box(P          R      mAP50  mAP50-95): 100%|██████████| 19/19 [00:09<00:00,  2.04it/s]"
     ]
    },
    {
     "name": "stdout",
     "output_type": "stream",
     "text": [
      "                   all        592       3298      0.926       0.89      0.922      0.631\n"
     ]
    },
    {
     "name": "stderr",
     "output_type": "stream",
     "text": [
      "\n"
     ]
    },
    {
     "name": "stdout",
     "output_type": "stream",
     "text": [
      "\n",
      "      Epoch    GPU_mem   box_loss   cls_loss   dfl_loss  Instances       Size\n"
     ]
    },
    {
     "name": "stderr",
     "output_type": "stream",
     "text": [
      "      49/50         0G     0.6346     0.3394      1.078         46       1024: 100%|██████████| 131/131 [01:18<00:00,  1.66it/s]\n",
      "                 Class     Images  Instances      Box(P          R      mAP50  mAP50-95): 100%|██████████| 19/19 [00:09<00:00,  2.03it/s]"
     ]
    },
    {
     "name": "stdout",
     "output_type": "stream",
     "text": [
      "                   all        592       3298      0.928      0.889      0.919      0.629\n"
     ]
    },
    {
     "name": "stderr",
     "output_type": "stream",
     "text": [
      "\n"
     ]
    },
    {
     "name": "stdout",
     "output_type": "stream",
     "text": [
      "\n",
      "      Epoch    GPU_mem   box_loss   cls_loss   dfl_loss  Instances       Size\n"
     ]
    },
    {
     "name": "stderr",
     "output_type": "stream",
     "text": [
      "      50/50         0G     0.6311     0.3371      1.078         29       1024: 100%|██████████| 131/131 [01:18<00:00,  1.66it/s]\n",
      "                 Class     Images  Instances      Box(P          R      mAP50  mAP50-95): 100%|██████████| 19/19 [00:09<00:00,  2.08it/s]"
     ]
    },
    {
     "name": "stdout",
     "output_type": "stream",
     "text": [
      "                   all        592       3298      0.917      0.901      0.921      0.632\n"
     ]
    },
    {
     "name": "stderr",
     "output_type": "stream",
     "text": [
      "\n"
     ]
    },
    {
     "name": "stdout",
     "output_type": "stream",
     "text": [
      "\n",
      "50 epochs completed in 1.251 hours.\n",
      "Optimizer stripped from /home/alpaco/hbr/YOLOv8_results/experiment241125_1024_l2_final3/weights/last.pt, 87.7MB\n",
      "Optimizer stripped from /home/alpaco/hbr/YOLOv8_results/experiment241125_1024_l2_final3/weights/best.pt, 87.7MB\n",
      "\n",
      "Validating /home/alpaco/hbr/YOLOv8_results/experiment241125_1024_l2_final3/weights/best.pt...\n",
      "Ultralytics 8.3.29 🚀 Python-3.8.20 torch-1.13.1 CUDA:2 (NVIDIA GeForce RTX 3090, 24260MiB)\n",
      "Model summary (fused): 268 layers, 43,610,463 parameters, 0 gradients, 164.8 GFLOPs\n"
     ]
    },
    {
     "name": "stderr",
     "output_type": "stream",
     "text": [
      "                 Class     Images  Instances      Box(P          R      mAP50  mAP50-95): 100%|██████████| 19/19 [00:10<00:00,  1.76it/s]\n"
     ]
    },
    {
     "name": "stdout",
     "output_type": "stream",
     "text": [
      "                   all        592       3298      0.917      0.901      0.921      0.633\n",
      "                   car        526       2005      0.964      0.966      0.987      0.871\n",
      "       car_door_opened        280        282      0.857      0.972      0.893      0.561\n",
      "             motocycle        109        138      0.956       0.94      0.963      0.578\n",
      "      open_driver_seat        397        398      0.914      0.902      0.939      0.721\n",
      "                person        158        475      0.895      0.726      0.824      0.431\n",
      "Speed: 1.4ms preprocess, 11.7ms inference, 0.0ms loss, 0.8ms postprocess per image\n",
      "Results saved to \u001b[1m/home/alpaco/hbr/YOLOv8_results/experiment241125_1024_l2_final3\u001b[0m\n"
     ]
    },
    {
     "data": {
      "text/plain": [
       "ultralytics.utils.metrics.DetMetrics object with attributes:\n",
       "\n",
       "ap_class_index: array([0, 1, 2, 3, 4])\n",
       "box: ultralytics.utils.metrics.Metric object\n",
       "confusion_matrix: <ultralytics.utils.metrics.ConfusionMatrix object at 0x7fae7510f9a0>\n",
       "curves: ['Precision-Recall(B)', 'F1-Confidence(B)', 'Precision-Confidence(B)', 'Recall-Confidence(B)']\n",
       "curves_results: [[array([          0,    0.001001,    0.002002,    0.003003,    0.004004,    0.005005,    0.006006,    0.007007,    0.008008,    0.009009,     0.01001,    0.011011,    0.012012,    0.013013,    0.014014,    0.015015,    0.016016,    0.017017,    0.018018,    0.019019,     0.02002,    0.021021,    0.022022,    0.023023,\n",
       "          0.024024,    0.025025,    0.026026,    0.027027,    0.028028,    0.029029,     0.03003,    0.031031,    0.032032,    0.033033,    0.034034,    0.035035,    0.036036,    0.037037,    0.038038,    0.039039,     0.04004,    0.041041,    0.042042,    0.043043,    0.044044,    0.045045,    0.046046,    0.047047,\n",
       "          0.048048,    0.049049,     0.05005,    0.051051,    0.052052,    0.053053,    0.054054,    0.055055,    0.056056,    0.057057,    0.058058,    0.059059,     0.06006,    0.061061,    0.062062,    0.063063,    0.064064,    0.065065,    0.066066,    0.067067,    0.068068,    0.069069,     0.07007,    0.071071,\n",
       "          0.072072,    0.073073,    0.074074,    0.075075,    0.076076,    0.077077,    0.078078,    0.079079,     0.08008,    0.081081,    0.082082,    0.083083,    0.084084,    0.085085,    0.086086,    0.087087,    0.088088,    0.089089,     0.09009,    0.091091,    0.092092,    0.093093,    0.094094,    0.095095,\n",
       "          0.096096,    0.097097,    0.098098,    0.099099,      0.1001,      0.1011,      0.1021,      0.1031,      0.1041,     0.10511,     0.10611,     0.10711,     0.10811,     0.10911,     0.11011,     0.11111,     0.11211,     0.11311,     0.11411,     0.11512,     0.11612,     0.11712,     0.11812,     0.11912,\n",
       "           0.12012,     0.12112,     0.12212,     0.12312,     0.12412,     0.12513,     0.12613,     0.12713,     0.12813,     0.12913,     0.13013,     0.13113,     0.13213,     0.13313,     0.13413,     0.13514,     0.13614,     0.13714,     0.13814,     0.13914,     0.14014,     0.14114,     0.14214,     0.14314,\n",
       "           0.14414,     0.14515,     0.14615,     0.14715,     0.14815,     0.14915,     0.15015,     0.15115,     0.15215,     0.15315,     0.15415,     0.15516,     0.15616,     0.15716,     0.15816,     0.15916,     0.16016,     0.16116,     0.16216,     0.16316,     0.16416,     0.16517,     0.16617,     0.16717,\n",
       "           0.16817,     0.16917,     0.17017,     0.17117,     0.17217,     0.17317,     0.17417,     0.17518,     0.17618,     0.17718,     0.17818,     0.17918,     0.18018,     0.18118,     0.18218,     0.18318,     0.18418,     0.18519,     0.18619,     0.18719,     0.18819,     0.18919,     0.19019,     0.19119,\n",
       "           0.19219,     0.19319,     0.19419,      0.1952,      0.1962,      0.1972,      0.1982,      0.1992,      0.2002,      0.2012,      0.2022,      0.2032,      0.2042,     0.20521,     0.20621,     0.20721,     0.20821,     0.20921,     0.21021,     0.21121,     0.21221,     0.21321,     0.21421,     0.21522,\n",
       "           0.21622,     0.21722,     0.21822,     0.21922,     0.22022,     0.22122,     0.22222,     0.22322,     0.22422,     0.22523,     0.22623,     0.22723,     0.22823,     0.22923,     0.23023,     0.23123,     0.23223,     0.23323,     0.23423,     0.23524,     0.23624,     0.23724,     0.23824,     0.23924,\n",
       "           0.24024,     0.24124,     0.24224,     0.24324,     0.24424,     0.24525,     0.24625,     0.24725,     0.24825,     0.24925,     0.25025,     0.25125,     0.25225,     0.25325,     0.25425,     0.25526,     0.25626,     0.25726,     0.25826,     0.25926,     0.26026,     0.26126,     0.26226,     0.26326,\n",
       "           0.26426,     0.26527,     0.26627,     0.26727,     0.26827,     0.26927,     0.27027,     0.27127,     0.27227,     0.27327,     0.27427,     0.27528,     0.27628,     0.27728,     0.27828,     0.27928,     0.28028,     0.28128,     0.28228,     0.28328,     0.28428,     0.28529,     0.28629,     0.28729,\n",
       "           0.28829,     0.28929,     0.29029,     0.29129,     0.29229,     0.29329,     0.29429,      0.2953,      0.2963,      0.2973,      0.2983,      0.2993,      0.3003,      0.3013,      0.3023,      0.3033,      0.3043,     0.30531,     0.30631,     0.30731,     0.30831,     0.30931,     0.31031,     0.31131,\n",
       "           0.31231,     0.31331,     0.31431,     0.31532,     0.31632,     0.31732,     0.31832,     0.31932,     0.32032,     0.32132,     0.32232,     0.32332,     0.32432,     0.32533,     0.32633,     0.32733,     0.32833,     0.32933,     0.33033,     0.33133,     0.33233,     0.33333,     0.33433,     0.33534,\n",
       "           0.33634,     0.33734,     0.33834,     0.33934,     0.34034,     0.34134,     0.34234,     0.34334,     0.34434,     0.34535,     0.34635,     0.34735,     0.34835,     0.34935,     0.35035,     0.35135,     0.35235,     0.35335,     0.35435,     0.35536,     0.35636,     0.35736,     0.35836,     0.35936,\n",
       "           0.36036,     0.36136,     0.36236,     0.36336,     0.36436,     0.36537,     0.36637,     0.36737,     0.36837,     0.36937,     0.37037,     0.37137,     0.37237,     0.37337,     0.37437,     0.37538,     0.37638,     0.37738,     0.37838,     0.37938,     0.38038,     0.38138,     0.38238,     0.38338,\n",
       "           0.38438,     0.38539,     0.38639,     0.38739,     0.38839,     0.38939,     0.39039,     0.39139,     0.39239,     0.39339,     0.39439,      0.3954,      0.3964,      0.3974,      0.3984,      0.3994,      0.4004,      0.4014,      0.4024,      0.4034,      0.4044,     0.40541,     0.40641,     0.40741,\n",
       "           0.40841,     0.40941,     0.41041,     0.41141,     0.41241,     0.41341,     0.41441,     0.41542,     0.41642,     0.41742,     0.41842,     0.41942,     0.42042,     0.42142,     0.42242,     0.42342,     0.42442,     0.42543,     0.42643,     0.42743,     0.42843,     0.42943,     0.43043,     0.43143,\n",
       "           0.43243,     0.43343,     0.43443,     0.43544,     0.43644,     0.43744,     0.43844,     0.43944,     0.44044,     0.44144,     0.44244,     0.44344,     0.44444,     0.44545,     0.44645,     0.44745,     0.44845,     0.44945,     0.45045,     0.45145,     0.45245,     0.45345,     0.45445,     0.45546,\n",
       "           0.45646,     0.45746,     0.45846,     0.45946,     0.46046,     0.46146,     0.46246,     0.46346,     0.46446,     0.46547,     0.46647,     0.46747,     0.46847,     0.46947,     0.47047,     0.47147,     0.47247,     0.47347,     0.47447,     0.47548,     0.47648,     0.47748,     0.47848,     0.47948,\n",
       "           0.48048,     0.48148,     0.48248,     0.48348,     0.48448,     0.48549,     0.48649,     0.48749,     0.48849,     0.48949,     0.49049,     0.49149,     0.49249,     0.49349,     0.49449,      0.4955,      0.4965,      0.4975,      0.4985,      0.4995,      0.5005,      0.5015,      0.5025,      0.5035,\n",
       "            0.5045,     0.50551,     0.50651,     0.50751,     0.50851,     0.50951,     0.51051,     0.51151,     0.51251,     0.51351,     0.51451,     0.51552,     0.51652,     0.51752,     0.51852,     0.51952,     0.52052,     0.52152,     0.52252,     0.52352,     0.52452,     0.52553,     0.52653,     0.52753,\n",
       "           0.52853,     0.52953,     0.53053,     0.53153,     0.53253,     0.53353,     0.53453,     0.53554,     0.53654,     0.53754,     0.53854,     0.53954,     0.54054,     0.54154,     0.54254,     0.54354,     0.54454,     0.54555,     0.54655,     0.54755,     0.54855,     0.54955,     0.55055,     0.55155,\n",
       "           0.55255,     0.55355,     0.55455,     0.55556,     0.55656,     0.55756,     0.55856,     0.55956,     0.56056,     0.56156,     0.56256,     0.56356,     0.56456,     0.56557,     0.56657,     0.56757,     0.56857,     0.56957,     0.57057,     0.57157,     0.57257,     0.57357,     0.57457,     0.57558,\n",
       "           0.57658,     0.57758,     0.57858,     0.57958,     0.58058,     0.58158,     0.58258,     0.58358,     0.58458,     0.58559,     0.58659,     0.58759,     0.58859,     0.58959,     0.59059,     0.59159,     0.59259,     0.59359,     0.59459,      0.5956,      0.5966,      0.5976,      0.5986,      0.5996,\n",
       "            0.6006,      0.6016,      0.6026,      0.6036,      0.6046,     0.60561,     0.60661,     0.60761,     0.60861,     0.60961,     0.61061,     0.61161,     0.61261,     0.61361,     0.61461,     0.61562,     0.61662,     0.61762,     0.61862,     0.61962,     0.62062,     0.62162,     0.62262,     0.62362,\n",
       "           0.62462,     0.62563,     0.62663,     0.62763,     0.62863,     0.62963,     0.63063,     0.63163,     0.63263,     0.63363,     0.63463,     0.63564,     0.63664,     0.63764,     0.63864,     0.63964,     0.64064,     0.64164,     0.64264,     0.64364,     0.64464,     0.64565,     0.64665,     0.64765,\n",
       "           0.64865,     0.64965,     0.65065,     0.65165,     0.65265,     0.65365,     0.65465,     0.65566,     0.65666,     0.65766,     0.65866,     0.65966,     0.66066,     0.66166,     0.66266,     0.66366,     0.66466,     0.66567,     0.66667,     0.66767,     0.66867,     0.66967,     0.67067,     0.67167,\n",
       "           0.67267,     0.67367,     0.67467,     0.67568,     0.67668,     0.67768,     0.67868,     0.67968,     0.68068,     0.68168,     0.68268,     0.68368,     0.68468,     0.68569,     0.68669,     0.68769,     0.68869,     0.68969,     0.69069,     0.69169,     0.69269,     0.69369,     0.69469,      0.6957,\n",
       "            0.6967,      0.6977,      0.6987,      0.6997,      0.7007,      0.7017,      0.7027,      0.7037,      0.7047,     0.70571,     0.70671,     0.70771,     0.70871,     0.70971,     0.71071,     0.71171,     0.71271,     0.71371,     0.71471,     0.71572,     0.71672,     0.71772,     0.71872,     0.71972,\n",
       "           0.72072,     0.72172,     0.72272,     0.72372,     0.72472,     0.72573,     0.72673,     0.72773,     0.72873,     0.72973,     0.73073,     0.73173,     0.73273,     0.73373,     0.73473,     0.73574,     0.73674,     0.73774,     0.73874,     0.73974,     0.74074,     0.74174,     0.74274,     0.74374,\n",
       "           0.74474,     0.74575,     0.74675,     0.74775,     0.74875,     0.74975,     0.75075,     0.75175,     0.75275,     0.75375,     0.75475,     0.75576,     0.75676,     0.75776,     0.75876,     0.75976,     0.76076,     0.76176,     0.76276,     0.76376,     0.76476,     0.76577,     0.76677,     0.76777,\n",
       "           0.76877,     0.76977,     0.77077,     0.77177,     0.77277,     0.77377,     0.77477,     0.77578,     0.77678,     0.77778,     0.77878,     0.77978,     0.78078,     0.78178,     0.78278,     0.78378,     0.78478,     0.78579,     0.78679,     0.78779,     0.78879,     0.78979,     0.79079,     0.79179,\n",
       "           0.79279,     0.79379,     0.79479,      0.7958,      0.7968,      0.7978,      0.7988,      0.7998,      0.8008,      0.8018,      0.8028,      0.8038,      0.8048,     0.80581,     0.80681,     0.80781,     0.80881,     0.80981,     0.81081,     0.81181,     0.81281,     0.81381,     0.81481,     0.81582,\n",
       "           0.81682,     0.81782,     0.81882,     0.81982,     0.82082,     0.82182,     0.82282,     0.82382,     0.82482,     0.82583,     0.82683,     0.82783,     0.82883,     0.82983,     0.83083,     0.83183,     0.83283,     0.83383,     0.83483,     0.83584,     0.83684,     0.83784,     0.83884,     0.83984,\n",
       "           0.84084,     0.84184,     0.84284,     0.84384,     0.84484,     0.84585,     0.84685,     0.84785,     0.84885,     0.84985,     0.85085,     0.85185,     0.85285,     0.85385,     0.85485,     0.85586,     0.85686,     0.85786,     0.85886,     0.85986,     0.86086,     0.86186,     0.86286,     0.86386,\n",
       "           0.86486,     0.86587,     0.86687,     0.86787,     0.86887,     0.86987,     0.87087,     0.87187,     0.87287,     0.87387,     0.87487,     0.87588,     0.87688,     0.87788,     0.87888,     0.87988,     0.88088,     0.88188,     0.88288,     0.88388,     0.88488,     0.88589,     0.88689,     0.88789,\n",
       "           0.88889,     0.88989,     0.89089,     0.89189,     0.89289,     0.89389,     0.89489,      0.8959,      0.8969,      0.8979,      0.8989,      0.8999,      0.9009,      0.9019,      0.9029,      0.9039,      0.9049,     0.90591,     0.90691,     0.90791,     0.90891,     0.90991,     0.91091,     0.91191,\n",
       "           0.91291,     0.91391,     0.91491,     0.91592,     0.91692,     0.91792,     0.91892,     0.91992,     0.92092,     0.92192,     0.92292,     0.92392,     0.92492,     0.92593,     0.92693,     0.92793,     0.92893,     0.92993,     0.93093,     0.93193,     0.93293,     0.93393,     0.93493,     0.93594,\n",
       "           0.93694,     0.93794,     0.93894,     0.93994,     0.94094,     0.94194,     0.94294,     0.94394,     0.94494,     0.94595,     0.94695,     0.94795,     0.94895,     0.94995,     0.95095,     0.95195,     0.95295,     0.95395,     0.95495,     0.95596,     0.95696,     0.95796,     0.95896,     0.95996,\n",
       "           0.96096,     0.96196,     0.96296,     0.96396,     0.96496,     0.96597,     0.96697,     0.96797,     0.96897,     0.96997,     0.97097,     0.97197,     0.97297,     0.97397,     0.97497,     0.97598,     0.97698,     0.97798,     0.97898,     0.97998,     0.98098,     0.98198,     0.98298,     0.98398,\n",
       "           0.98498,     0.98599,     0.98699,     0.98799,     0.98899,     0.98999,     0.99099,     0.99199,     0.99299,     0.99399,     0.99499,       0.996,       0.997,       0.998,       0.999,           1]), array([[          1,           1,           1, ...,      0.1051,    0.052551,           0],\n",
       "       [          1,           1,           1, ...,     0.04379,    0.021895,           0],\n",
       "       [          1,           1,           1, ...,    0.029952,    0.014976,           0],\n",
       "       [          1,           1,           1, ...,    0.026682,    0.013341,           0],\n",
       "       [          1,           1,           1, ...,   0.0021438,   0.0010719,           0]]), 'Recall', 'Precision'], [array([          0,    0.001001,    0.002002,    0.003003,    0.004004,    0.005005,    0.006006,    0.007007,    0.008008,    0.009009,     0.01001,    0.011011,    0.012012,    0.013013,    0.014014,    0.015015,    0.016016,    0.017017,    0.018018,    0.019019,     0.02002,    0.021021,    0.022022,    0.023023,\n",
       "          0.024024,    0.025025,    0.026026,    0.027027,    0.028028,    0.029029,     0.03003,    0.031031,    0.032032,    0.033033,    0.034034,    0.035035,    0.036036,    0.037037,    0.038038,    0.039039,     0.04004,    0.041041,    0.042042,    0.043043,    0.044044,    0.045045,    0.046046,    0.047047,\n",
       "          0.048048,    0.049049,     0.05005,    0.051051,    0.052052,    0.053053,    0.054054,    0.055055,    0.056056,    0.057057,    0.058058,    0.059059,     0.06006,    0.061061,    0.062062,    0.063063,    0.064064,    0.065065,    0.066066,    0.067067,    0.068068,    0.069069,     0.07007,    0.071071,\n",
       "          0.072072,    0.073073,    0.074074,    0.075075,    0.076076,    0.077077,    0.078078,    0.079079,     0.08008,    0.081081,    0.082082,    0.083083,    0.084084,    0.085085,    0.086086,    0.087087,    0.088088,    0.089089,     0.09009,    0.091091,    0.092092,    0.093093,    0.094094,    0.095095,\n",
       "          0.096096,    0.097097,    0.098098,    0.099099,      0.1001,      0.1011,      0.1021,      0.1031,      0.1041,     0.10511,     0.10611,     0.10711,     0.10811,     0.10911,     0.11011,     0.11111,     0.11211,     0.11311,     0.11411,     0.11512,     0.11612,     0.11712,     0.11812,     0.11912,\n",
       "           0.12012,     0.12112,     0.12212,     0.12312,     0.12412,     0.12513,     0.12613,     0.12713,     0.12813,     0.12913,     0.13013,     0.13113,     0.13213,     0.13313,     0.13413,     0.13514,     0.13614,     0.13714,     0.13814,     0.13914,     0.14014,     0.14114,     0.14214,     0.14314,\n",
       "           0.14414,     0.14515,     0.14615,     0.14715,     0.14815,     0.14915,     0.15015,     0.15115,     0.15215,     0.15315,     0.15415,     0.15516,     0.15616,     0.15716,     0.15816,     0.15916,     0.16016,     0.16116,     0.16216,     0.16316,     0.16416,     0.16517,     0.16617,     0.16717,\n",
       "           0.16817,     0.16917,     0.17017,     0.17117,     0.17217,     0.17317,     0.17417,     0.17518,     0.17618,     0.17718,     0.17818,     0.17918,     0.18018,     0.18118,     0.18218,     0.18318,     0.18418,     0.18519,     0.18619,     0.18719,     0.18819,     0.18919,     0.19019,     0.19119,\n",
       "           0.19219,     0.19319,     0.19419,      0.1952,      0.1962,      0.1972,      0.1982,      0.1992,      0.2002,      0.2012,      0.2022,      0.2032,      0.2042,     0.20521,     0.20621,     0.20721,     0.20821,     0.20921,     0.21021,     0.21121,     0.21221,     0.21321,     0.21421,     0.21522,\n",
       "           0.21622,     0.21722,     0.21822,     0.21922,     0.22022,     0.22122,     0.22222,     0.22322,     0.22422,     0.22523,     0.22623,     0.22723,     0.22823,     0.22923,     0.23023,     0.23123,     0.23223,     0.23323,     0.23423,     0.23524,     0.23624,     0.23724,     0.23824,     0.23924,\n",
       "           0.24024,     0.24124,     0.24224,     0.24324,     0.24424,     0.24525,     0.24625,     0.24725,     0.24825,     0.24925,     0.25025,     0.25125,     0.25225,     0.25325,     0.25425,     0.25526,     0.25626,     0.25726,     0.25826,     0.25926,     0.26026,     0.26126,     0.26226,     0.26326,\n",
       "           0.26426,     0.26527,     0.26627,     0.26727,     0.26827,     0.26927,     0.27027,     0.27127,     0.27227,     0.27327,     0.27427,     0.27528,     0.27628,     0.27728,     0.27828,     0.27928,     0.28028,     0.28128,     0.28228,     0.28328,     0.28428,     0.28529,     0.28629,     0.28729,\n",
       "           0.28829,     0.28929,     0.29029,     0.29129,     0.29229,     0.29329,     0.29429,      0.2953,      0.2963,      0.2973,      0.2983,      0.2993,      0.3003,      0.3013,      0.3023,      0.3033,      0.3043,     0.30531,     0.30631,     0.30731,     0.30831,     0.30931,     0.31031,     0.31131,\n",
       "           0.31231,     0.31331,     0.31431,     0.31532,     0.31632,     0.31732,     0.31832,     0.31932,     0.32032,     0.32132,     0.32232,     0.32332,     0.32432,     0.32533,     0.32633,     0.32733,     0.32833,     0.32933,     0.33033,     0.33133,     0.33233,     0.33333,     0.33433,     0.33534,\n",
       "           0.33634,     0.33734,     0.33834,     0.33934,     0.34034,     0.34134,     0.34234,     0.34334,     0.34434,     0.34535,     0.34635,     0.34735,     0.34835,     0.34935,     0.35035,     0.35135,     0.35235,     0.35335,     0.35435,     0.35536,     0.35636,     0.35736,     0.35836,     0.35936,\n",
       "           0.36036,     0.36136,     0.36236,     0.36336,     0.36436,     0.36537,     0.36637,     0.36737,     0.36837,     0.36937,     0.37037,     0.37137,     0.37237,     0.37337,     0.37437,     0.37538,     0.37638,     0.37738,     0.37838,     0.37938,     0.38038,     0.38138,     0.38238,     0.38338,\n",
       "           0.38438,     0.38539,     0.38639,     0.38739,     0.38839,     0.38939,     0.39039,     0.39139,     0.39239,     0.39339,     0.39439,      0.3954,      0.3964,      0.3974,      0.3984,      0.3994,      0.4004,      0.4014,      0.4024,      0.4034,      0.4044,     0.40541,     0.40641,     0.40741,\n",
       "           0.40841,     0.40941,     0.41041,     0.41141,     0.41241,     0.41341,     0.41441,     0.41542,     0.41642,     0.41742,     0.41842,     0.41942,     0.42042,     0.42142,     0.42242,     0.42342,     0.42442,     0.42543,     0.42643,     0.42743,     0.42843,     0.42943,     0.43043,     0.43143,\n",
       "           0.43243,     0.43343,     0.43443,     0.43544,     0.43644,     0.43744,     0.43844,     0.43944,     0.44044,     0.44144,     0.44244,     0.44344,     0.44444,     0.44545,     0.44645,     0.44745,     0.44845,     0.44945,     0.45045,     0.45145,     0.45245,     0.45345,     0.45445,     0.45546,\n",
       "           0.45646,     0.45746,     0.45846,     0.45946,     0.46046,     0.46146,     0.46246,     0.46346,     0.46446,     0.46547,     0.46647,     0.46747,     0.46847,     0.46947,     0.47047,     0.47147,     0.47247,     0.47347,     0.47447,     0.47548,     0.47648,     0.47748,     0.47848,     0.47948,\n",
       "           0.48048,     0.48148,     0.48248,     0.48348,     0.48448,     0.48549,     0.48649,     0.48749,     0.48849,     0.48949,     0.49049,     0.49149,     0.49249,     0.49349,     0.49449,      0.4955,      0.4965,      0.4975,      0.4985,      0.4995,      0.5005,      0.5015,      0.5025,      0.5035,\n",
       "            0.5045,     0.50551,     0.50651,     0.50751,     0.50851,     0.50951,     0.51051,     0.51151,     0.51251,     0.51351,     0.51451,     0.51552,     0.51652,     0.51752,     0.51852,     0.51952,     0.52052,     0.52152,     0.52252,     0.52352,     0.52452,     0.52553,     0.52653,     0.52753,\n",
       "           0.52853,     0.52953,     0.53053,     0.53153,     0.53253,     0.53353,     0.53453,     0.53554,     0.53654,     0.53754,     0.53854,     0.53954,     0.54054,     0.54154,     0.54254,     0.54354,     0.54454,     0.54555,     0.54655,     0.54755,     0.54855,     0.54955,     0.55055,     0.55155,\n",
       "           0.55255,     0.55355,     0.55455,     0.55556,     0.55656,     0.55756,     0.55856,     0.55956,     0.56056,     0.56156,     0.56256,     0.56356,     0.56456,     0.56557,     0.56657,     0.56757,     0.56857,     0.56957,     0.57057,     0.57157,     0.57257,     0.57357,     0.57457,     0.57558,\n",
       "           0.57658,     0.57758,     0.57858,     0.57958,     0.58058,     0.58158,     0.58258,     0.58358,     0.58458,     0.58559,     0.58659,     0.58759,     0.58859,     0.58959,     0.59059,     0.59159,     0.59259,     0.59359,     0.59459,      0.5956,      0.5966,      0.5976,      0.5986,      0.5996,\n",
       "            0.6006,      0.6016,      0.6026,      0.6036,      0.6046,     0.60561,     0.60661,     0.60761,     0.60861,     0.60961,     0.61061,     0.61161,     0.61261,     0.61361,     0.61461,     0.61562,     0.61662,     0.61762,     0.61862,     0.61962,     0.62062,     0.62162,     0.62262,     0.62362,\n",
       "           0.62462,     0.62563,     0.62663,     0.62763,     0.62863,     0.62963,     0.63063,     0.63163,     0.63263,     0.63363,     0.63463,     0.63564,     0.63664,     0.63764,     0.63864,     0.63964,     0.64064,     0.64164,     0.64264,     0.64364,     0.64464,     0.64565,     0.64665,     0.64765,\n",
       "           0.64865,     0.64965,     0.65065,     0.65165,     0.65265,     0.65365,     0.65465,     0.65566,     0.65666,     0.65766,     0.65866,     0.65966,     0.66066,     0.66166,     0.66266,     0.66366,     0.66466,     0.66567,     0.66667,     0.66767,     0.66867,     0.66967,     0.67067,     0.67167,\n",
       "           0.67267,     0.67367,     0.67467,     0.67568,     0.67668,     0.67768,     0.67868,     0.67968,     0.68068,     0.68168,     0.68268,     0.68368,     0.68468,     0.68569,     0.68669,     0.68769,     0.68869,     0.68969,     0.69069,     0.69169,     0.69269,     0.69369,     0.69469,      0.6957,\n",
       "            0.6967,      0.6977,      0.6987,      0.6997,      0.7007,      0.7017,      0.7027,      0.7037,      0.7047,     0.70571,     0.70671,     0.70771,     0.70871,     0.70971,     0.71071,     0.71171,     0.71271,     0.71371,     0.71471,     0.71572,     0.71672,     0.71772,     0.71872,     0.71972,\n",
       "           0.72072,     0.72172,     0.72272,     0.72372,     0.72472,     0.72573,     0.72673,     0.72773,     0.72873,     0.72973,     0.73073,     0.73173,     0.73273,     0.73373,     0.73473,     0.73574,     0.73674,     0.73774,     0.73874,     0.73974,     0.74074,     0.74174,     0.74274,     0.74374,\n",
       "           0.74474,     0.74575,     0.74675,     0.74775,     0.74875,     0.74975,     0.75075,     0.75175,     0.75275,     0.75375,     0.75475,     0.75576,     0.75676,     0.75776,     0.75876,     0.75976,     0.76076,     0.76176,     0.76276,     0.76376,     0.76476,     0.76577,     0.76677,     0.76777,\n",
       "           0.76877,     0.76977,     0.77077,     0.77177,     0.77277,     0.77377,     0.77477,     0.77578,     0.77678,     0.77778,     0.77878,     0.77978,     0.78078,     0.78178,     0.78278,     0.78378,     0.78478,     0.78579,     0.78679,     0.78779,     0.78879,     0.78979,     0.79079,     0.79179,\n",
       "           0.79279,     0.79379,     0.79479,      0.7958,      0.7968,      0.7978,      0.7988,      0.7998,      0.8008,      0.8018,      0.8028,      0.8038,      0.8048,     0.80581,     0.80681,     0.80781,     0.80881,     0.80981,     0.81081,     0.81181,     0.81281,     0.81381,     0.81481,     0.81582,\n",
       "           0.81682,     0.81782,     0.81882,     0.81982,     0.82082,     0.82182,     0.82282,     0.82382,     0.82482,     0.82583,     0.82683,     0.82783,     0.82883,     0.82983,     0.83083,     0.83183,     0.83283,     0.83383,     0.83483,     0.83584,     0.83684,     0.83784,     0.83884,     0.83984,\n",
       "           0.84084,     0.84184,     0.84284,     0.84384,     0.84484,     0.84585,     0.84685,     0.84785,     0.84885,     0.84985,     0.85085,     0.85185,     0.85285,     0.85385,     0.85485,     0.85586,     0.85686,     0.85786,     0.85886,     0.85986,     0.86086,     0.86186,     0.86286,     0.86386,\n",
       "           0.86486,     0.86587,     0.86687,     0.86787,     0.86887,     0.86987,     0.87087,     0.87187,     0.87287,     0.87387,     0.87487,     0.87588,     0.87688,     0.87788,     0.87888,     0.87988,     0.88088,     0.88188,     0.88288,     0.88388,     0.88488,     0.88589,     0.88689,     0.88789,\n",
       "           0.88889,     0.88989,     0.89089,     0.89189,     0.89289,     0.89389,     0.89489,      0.8959,      0.8969,      0.8979,      0.8989,      0.8999,      0.9009,      0.9019,      0.9029,      0.9039,      0.9049,     0.90591,     0.90691,     0.90791,     0.90891,     0.90991,     0.91091,     0.91191,\n",
       "           0.91291,     0.91391,     0.91491,     0.91592,     0.91692,     0.91792,     0.91892,     0.91992,     0.92092,     0.92192,     0.92292,     0.92392,     0.92492,     0.92593,     0.92693,     0.92793,     0.92893,     0.92993,     0.93093,     0.93193,     0.93293,     0.93393,     0.93493,     0.93594,\n",
       "           0.93694,     0.93794,     0.93894,     0.93994,     0.94094,     0.94194,     0.94294,     0.94394,     0.94494,     0.94595,     0.94695,     0.94795,     0.94895,     0.94995,     0.95095,     0.95195,     0.95295,     0.95395,     0.95495,     0.95596,     0.95696,     0.95796,     0.95896,     0.95996,\n",
       "           0.96096,     0.96196,     0.96296,     0.96396,     0.96496,     0.96597,     0.96697,     0.96797,     0.96897,     0.96997,     0.97097,     0.97197,     0.97297,     0.97397,     0.97497,     0.97598,     0.97698,     0.97798,     0.97898,     0.97998,     0.98098,     0.98198,     0.98298,     0.98398,\n",
       "           0.98498,     0.98599,     0.98699,     0.98799,     0.98899,     0.98999,     0.99099,     0.99199,     0.99299,     0.99399,     0.99499,       0.996,       0.997,       0.998,       0.999,           1]), array([[    0.66233,     0.66233,     0.74329, ...,           0,           0,           0],\n",
       "       [    0.37677,     0.37677,     0.43727, ...,           0,           0,           0],\n",
       "       [    0.59955,     0.59955,     0.70097, ...,           0,           0,           0],\n",
       "       [    0.33376,     0.33376,     0.39096, ...,           0,           0,           0],\n",
       "       [    0.19317,     0.19317,     0.24766, ...,           0,           0,           0]]), 'Confidence', 'F1'], [array([          0,    0.001001,    0.002002,    0.003003,    0.004004,    0.005005,    0.006006,    0.007007,    0.008008,    0.009009,     0.01001,    0.011011,    0.012012,    0.013013,    0.014014,    0.015015,    0.016016,    0.017017,    0.018018,    0.019019,     0.02002,    0.021021,    0.022022,    0.023023,\n",
       "          0.024024,    0.025025,    0.026026,    0.027027,    0.028028,    0.029029,     0.03003,    0.031031,    0.032032,    0.033033,    0.034034,    0.035035,    0.036036,    0.037037,    0.038038,    0.039039,     0.04004,    0.041041,    0.042042,    0.043043,    0.044044,    0.045045,    0.046046,    0.047047,\n",
       "          0.048048,    0.049049,     0.05005,    0.051051,    0.052052,    0.053053,    0.054054,    0.055055,    0.056056,    0.057057,    0.058058,    0.059059,     0.06006,    0.061061,    0.062062,    0.063063,    0.064064,    0.065065,    0.066066,    0.067067,    0.068068,    0.069069,     0.07007,    0.071071,\n",
       "          0.072072,    0.073073,    0.074074,    0.075075,    0.076076,    0.077077,    0.078078,    0.079079,     0.08008,    0.081081,    0.082082,    0.083083,    0.084084,    0.085085,    0.086086,    0.087087,    0.088088,    0.089089,     0.09009,    0.091091,    0.092092,    0.093093,    0.094094,    0.095095,\n",
       "          0.096096,    0.097097,    0.098098,    0.099099,      0.1001,      0.1011,      0.1021,      0.1031,      0.1041,     0.10511,     0.10611,     0.10711,     0.10811,     0.10911,     0.11011,     0.11111,     0.11211,     0.11311,     0.11411,     0.11512,     0.11612,     0.11712,     0.11812,     0.11912,\n",
       "           0.12012,     0.12112,     0.12212,     0.12312,     0.12412,     0.12513,     0.12613,     0.12713,     0.12813,     0.12913,     0.13013,     0.13113,     0.13213,     0.13313,     0.13413,     0.13514,     0.13614,     0.13714,     0.13814,     0.13914,     0.14014,     0.14114,     0.14214,     0.14314,\n",
       "           0.14414,     0.14515,     0.14615,     0.14715,     0.14815,     0.14915,     0.15015,     0.15115,     0.15215,     0.15315,     0.15415,     0.15516,     0.15616,     0.15716,     0.15816,     0.15916,     0.16016,     0.16116,     0.16216,     0.16316,     0.16416,     0.16517,     0.16617,     0.16717,\n",
       "           0.16817,     0.16917,     0.17017,     0.17117,     0.17217,     0.17317,     0.17417,     0.17518,     0.17618,     0.17718,     0.17818,     0.17918,     0.18018,     0.18118,     0.18218,     0.18318,     0.18418,     0.18519,     0.18619,     0.18719,     0.18819,     0.18919,     0.19019,     0.19119,\n",
       "           0.19219,     0.19319,     0.19419,      0.1952,      0.1962,      0.1972,      0.1982,      0.1992,      0.2002,      0.2012,      0.2022,      0.2032,      0.2042,     0.20521,     0.20621,     0.20721,     0.20821,     0.20921,     0.21021,     0.21121,     0.21221,     0.21321,     0.21421,     0.21522,\n",
       "           0.21622,     0.21722,     0.21822,     0.21922,     0.22022,     0.22122,     0.22222,     0.22322,     0.22422,     0.22523,     0.22623,     0.22723,     0.22823,     0.22923,     0.23023,     0.23123,     0.23223,     0.23323,     0.23423,     0.23524,     0.23624,     0.23724,     0.23824,     0.23924,\n",
       "           0.24024,     0.24124,     0.24224,     0.24324,     0.24424,     0.24525,     0.24625,     0.24725,     0.24825,     0.24925,     0.25025,     0.25125,     0.25225,     0.25325,     0.25425,     0.25526,     0.25626,     0.25726,     0.25826,     0.25926,     0.26026,     0.26126,     0.26226,     0.26326,\n",
       "           0.26426,     0.26527,     0.26627,     0.26727,     0.26827,     0.26927,     0.27027,     0.27127,     0.27227,     0.27327,     0.27427,     0.27528,     0.27628,     0.27728,     0.27828,     0.27928,     0.28028,     0.28128,     0.28228,     0.28328,     0.28428,     0.28529,     0.28629,     0.28729,\n",
       "           0.28829,     0.28929,     0.29029,     0.29129,     0.29229,     0.29329,     0.29429,      0.2953,      0.2963,      0.2973,      0.2983,      0.2993,      0.3003,      0.3013,      0.3023,      0.3033,      0.3043,     0.30531,     0.30631,     0.30731,     0.30831,     0.30931,     0.31031,     0.31131,\n",
       "           0.31231,     0.31331,     0.31431,     0.31532,     0.31632,     0.31732,     0.31832,     0.31932,     0.32032,     0.32132,     0.32232,     0.32332,     0.32432,     0.32533,     0.32633,     0.32733,     0.32833,     0.32933,     0.33033,     0.33133,     0.33233,     0.33333,     0.33433,     0.33534,\n",
       "           0.33634,     0.33734,     0.33834,     0.33934,     0.34034,     0.34134,     0.34234,     0.34334,     0.34434,     0.34535,     0.34635,     0.34735,     0.34835,     0.34935,     0.35035,     0.35135,     0.35235,     0.35335,     0.35435,     0.35536,     0.35636,     0.35736,     0.35836,     0.35936,\n",
       "           0.36036,     0.36136,     0.36236,     0.36336,     0.36436,     0.36537,     0.36637,     0.36737,     0.36837,     0.36937,     0.37037,     0.37137,     0.37237,     0.37337,     0.37437,     0.37538,     0.37638,     0.37738,     0.37838,     0.37938,     0.38038,     0.38138,     0.38238,     0.38338,\n",
       "           0.38438,     0.38539,     0.38639,     0.38739,     0.38839,     0.38939,     0.39039,     0.39139,     0.39239,     0.39339,     0.39439,      0.3954,      0.3964,      0.3974,      0.3984,      0.3994,      0.4004,      0.4014,      0.4024,      0.4034,      0.4044,     0.40541,     0.40641,     0.40741,\n",
       "           0.40841,     0.40941,     0.41041,     0.41141,     0.41241,     0.41341,     0.41441,     0.41542,     0.41642,     0.41742,     0.41842,     0.41942,     0.42042,     0.42142,     0.42242,     0.42342,     0.42442,     0.42543,     0.42643,     0.42743,     0.42843,     0.42943,     0.43043,     0.43143,\n",
       "           0.43243,     0.43343,     0.43443,     0.43544,     0.43644,     0.43744,     0.43844,     0.43944,     0.44044,     0.44144,     0.44244,     0.44344,     0.44444,     0.44545,     0.44645,     0.44745,     0.44845,     0.44945,     0.45045,     0.45145,     0.45245,     0.45345,     0.45445,     0.45546,\n",
       "           0.45646,     0.45746,     0.45846,     0.45946,     0.46046,     0.46146,     0.46246,     0.46346,     0.46446,     0.46547,     0.46647,     0.46747,     0.46847,     0.46947,     0.47047,     0.47147,     0.47247,     0.47347,     0.47447,     0.47548,     0.47648,     0.47748,     0.47848,     0.47948,\n",
       "           0.48048,     0.48148,     0.48248,     0.48348,     0.48448,     0.48549,     0.48649,     0.48749,     0.48849,     0.48949,     0.49049,     0.49149,     0.49249,     0.49349,     0.49449,      0.4955,      0.4965,      0.4975,      0.4985,      0.4995,      0.5005,      0.5015,      0.5025,      0.5035,\n",
       "            0.5045,     0.50551,     0.50651,     0.50751,     0.50851,     0.50951,     0.51051,     0.51151,     0.51251,     0.51351,     0.51451,     0.51552,     0.51652,     0.51752,     0.51852,     0.51952,     0.52052,     0.52152,     0.52252,     0.52352,     0.52452,     0.52553,     0.52653,     0.52753,\n",
       "           0.52853,     0.52953,     0.53053,     0.53153,     0.53253,     0.53353,     0.53453,     0.53554,     0.53654,     0.53754,     0.53854,     0.53954,     0.54054,     0.54154,     0.54254,     0.54354,     0.54454,     0.54555,     0.54655,     0.54755,     0.54855,     0.54955,     0.55055,     0.55155,\n",
       "           0.55255,     0.55355,     0.55455,     0.55556,     0.55656,     0.55756,     0.55856,     0.55956,     0.56056,     0.56156,     0.56256,     0.56356,     0.56456,     0.56557,     0.56657,     0.56757,     0.56857,     0.56957,     0.57057,     0.57157,     0.57257,     0.57357,     0.57457,     0.57558,\n",
       "           0.57658,     0.57758,     0.57858,     0.57958,     0.58058,     0.58158,     0.58258,     0.58358,     0.58458,     0.58559,     0.58659,     0.58759,     0.58859,     0.58959,     0.59059,     0.59159,     0.59259,     0.59359,     0.59459,      0.5956,      0.5966,      0.5976,      0.5986,      0.5996,\n",
       "            0.6006,      0.6016,      0.6026,      0.6036,      0.6046,     0.60561,     0.60661,     0.60761,     0.60861,     0.60961,     0.61061,     0.61161,     0.61261,     0.61361,     0.61461,     0.61562,     0.61662,     0.61762,     0.61862,     0.61962,     0.62062,     0.62162,     0.62262,     0.62362,\n",
       "           0.62462,     0.62563,     0.62663,     0.62763,     0.62863,     0.62963,     0.63063,     0.63163,     0.63263,     0.63363,     0.63463,     0.63564,     0.63664,     0.63764,     0.63864,     0.63964,     0.64064,     0.64164,     0.64264,     0.64364,     0.64464,     0.64565,     0.64665,     0.64765,\n",
       "           0.64865,     0.64965,     0.65065,     0.65165,     0.65265,     0.65365,     0.65465,     0.65566,     0.65666,     0.65766,     0.65866,     0.65966,     0.66066,     0.66166,     0.66266,     0.66366,     0.66466,     0.66567,     0.66667,     0.66767,     0.66867,     0.66967,     0.67067,     0.67167,\n",
       "           0.67267,     0.67367,     0.67467,     0.67568,     0.67668,     0.67768,     0.67868,     0.67968,     0.68068,     0.68168,     0.68268,     0.68368,     0.68468,     0.68569,     0.68669,     0.68769,     0.68869,     0.68969,     0.69069,     0.69169,     0.69269,     0.69369,     0.69469,      0.6957,\n",
       "            0.6967,      0.6977,      0.6987,      0.6997,      0.7007,      0.7017,      0.7027,      0.7037,      0.7047,     0.70571,     0.70671,     0.70771,     0.70871,     0.70971,     0.71071,     0.71171,     0.71271,     0.71371,     0.71471,     0.71572,     0.71672,     0.71772,     0.71872,     0.71972,\n",
       "           0.72072,     0.72172,     0.72272,     0.72372,     0.72472,     0.72573,     0.72673,     0.72773,     0.72873,     0.72973,     0.73073,     0.73173,     0.73273,     0.73373,     0.73473,     0.73574,     0.73674,     0.73774,     0.73874,     0.73974,     0.74074,     0.74174,     0.74274,     0.74374,\n",
       "           0.74474,     0.74575,     0.74675,     0.74775,     0.74875,     0.74975,     0.75075,     0.75175,     0.75275,     0.75375,     0.75475,     0.75576,     0.75676,     0.75776,     0.75876,     0.75976,     0.76076,     0.76176,     0.76276,     0.76376,     0.76476,     0.76577,     0.76677,     0.76777,\n",
       "           0.76877,     0.76977,     0.77077,     0.77177,     0.77277,     0.77377,     0.77477,     0.77578,     0.77678,     0.77778,     0.77878,     0.77978,     0.78078,     0.78178,     0.78278,     0.78378,     0.78478,     0.78579,     0.78679,     0.78779,     0.78879,     0.78979,     0.79079,     0.79179,\n",
       "           0.79279,     0.79379,     0.79479,      0.7958,      0.7968,      0.7978,      0.7988,      0.7998,      0.8008,      0.8018,      0.8028,      0.8038,      0.8048,     0.80581,     0.80681,     0.80781,     0.80881,     0.80981,     0.81081,     0.81181,     0.81281,     0.81381,     0.81481,     0.81582,\n",
       "           0.81682,     0.81782,     0.81882,     0.81982,     0.82082,     0.82182,     0.82282,     0.82382,     0.82482,     0.82583,     0.82683,     0.82783,     0.82883,     0.82983,     0.83083,     0.83183,     0.83283,     0.83383,     0.83483,     0.83584,     0.83684,     0.83784,     0.83884,     0.83984,\n",
       "           0.84084,     0.84184,     0.84284,     0.84384,     0.84484,     0.84585,     0.84685,     0.84785,     0.84885,     0.84985,     0.85085,     0.85185,     0.85285,     0.85385,     0.85485,     0.85586,     0.85686,     0.85786,     0.85886,     0.85986,     0.86086,     0.86186,     0.86286,     0.86386,\n",
       "           0.86486,     0.86587,     0.86687,     0.86787,     0.86887,     0.86987,     0.87087,     0.87187,     0.87287,     0.87387,     0.87487,     0.87588,     0.87688,     0.87788,     0.87888,     0.87988,     0.88088,     0.88188,     0.88288,     0.88388,     0.88488,     0.88589,     0.88689,     0.88789,\n",
       "           0.88889,     0.88989,     0.89089,     0.89189,     0.89289,     0.89389,     0.89489,      0.8959,      0.8969,      0.8979,      0.8989,      0.8999,      0.9009,      0.9019,      0.9029,      0.9039,      0.9049,     0.90591,     0.90691,     0.90791,     0.90891,     0.90991,     0.91091,     0.91191,\n",
       "           0.91291,     0.91391,     0.91491,     0.91592,     0.91692,     0.91792,     0.91892,     0.91992,     0.92092,     0.92192,     0.92292,     0.92392,     0.92492,     0.92593,     0.92693,     0.92793,     0.92893,     0.92993,     0.93093,     0.93193,     0.93293,     0.93393,     0.93493,     0.93594,\n",
       "           0.93694,     0.93794,     0.93894,     0.93994,     0.94094,     0.94194,     0.94294,     0.94394,     0.94494,     0.94595,     0.94695,     0.94795,     0.94895,     0.94995,     0.95095,     0.95195,     0.95295,     0.95395,     0.95495,     0.95596,     0.95696,     0.95796,     0.95896,     0.95996,\n",
       "           0.96096,     0.96196,     0.96296,     0.96396,     0.96496,     0.96597,     0.96697,     0.96797,     0.96897,     0.96997,     0.97097,     0.97197,     0.97297,     0.97397,     0.97497,     0.97598,     0.97698,     0.97798,     0.97898,     0.97998,     0.98098,     0.98198,     0.98298,     0.98398,\n",
       "           0.98498,     0.98599,     0.98699,     0.98799,     0.98899,     0.98999,     0.99099,     0.99199,     0.99299,     0.99399,     0.99499,       0.996,       0.997,       0.998,       0.999,           1]), array([[    0.49749,     0.49749,     0.59501, ...,           1,           1,           1],\n",
       "       [    0.23269,     0.23269,     0.28066, ...,           1,           1,           1],\n",
       "       [    0.43366,     0.43366,     0.54844, ...,           1,           1,           1],\n",
       "       [    0.20092,     0.20092,     0.24419, ...,           1,           1,           1],\n",
       "       [    0.10821,     0.10821,     0.14377, ...,           1,           1,           1]]), 'Confidence', 'Precision'], [array([          0,    0.001001,    0.002002,    0.003003,    0.004004,    0.005005,    0.006006,    0.007007,    0.008008,    0.009009,     0.01001,    0.011011,    0.012012,    0.013013,    0.014014,    0.015015,    0.016016,    0.017017,    0.018018,    0.019019,     0.02002,    0.021021,    0.022022,    0.023023,\n",
       "          0.024024,    0.025025,    0.026026,    0.027027,    0.028028,    0.029029,     0.03003,    0.031031,    0.032032,    0.033033,    0.034034,    0.035035,    0.036036,    0.037037,    0.038038,    0.039039,     0.04004,    0.041041,    0.042042,    0.043043,    0.044044,    0.045045,    0.046046,    0.047047,\n",
       "          0.048048,    0.049049,     0.05005,    0.051051,    0.052052,    0.053053,    0.054054,    0.055055,    0.056056,    0.057057,    0.058058,    0.059059,     0.06006,    0.061061,    0.062062,    0.063063,    0.064064,    0.065065,    0.066066,    0.067067,    0.068068,    0.069069,     0.07007,    0.071071,\n",
       "          0.072072,    0.073073,    0.074074,    0.075075,    0.076076,    0.077077,    0.078078,    0.079079,     0.08008,    0.081081,    0.082082,    0.083083,    0.084084,    0.085085,    0.086086,    0.087087,    0.088088,    0.089089,     0.09009,    0.091091,    0.092092,    0.093093,    0.094094,    0.095095,\n",
       "          0.096096,    0.097097,    0.098098,    0.099099,      0.1001,      0.1011,      0.1021,      0.1031,      0.1041,     0.10511,     0.10611,     0.10711,     0.10811,     0.10911,     0.11011,     0.11111,     0.11211,     0.11311,     0.11411,     0.11512,     0.11612,     0.11712,     0.11812,     0.11912,\n",
       "           0.12012,     0.12112,     0.12212,     0.12312,     0.12412,     0.12513,     0.12613,     0.12713,     0.12813,     0.12913,     0.13013,     0.13113,     0.13213,     0.13313,     0.13413,     0.13514,     0.13614,     0.13714,     0.13814,     0.13914,     0.14014,     0.14114,     0.14214,     0.14314,\n",
       "           0.14414,     0.14515,     0.14615,     0.14715,     0.14815,     0.14915,     0.15015,     0.15115,     0.15215,     0.15315,     0.15415,     0.15516,     0.15616,     0.15716,     0.15816,     0.15916,     0.16016,     0.16116,     0.16216,     0.16316,     0.16416,     0.16517,     0.16617,     0.16717,\n",
       "           0.16817,     0.16917,     0.17017,     0.17117,     0.17217,     0.17317,     0.17417,     0.17518,     0.17618,     0.17718,     0.17818,     0.17918,     0.18018,     0.18118,     0.18218,     0.18318,     0.18418,     0.18519,     0.18619,     0.18719,     0.18819,     0.18919,     0.19019,     0.19119,\n",
       "           0.19219,     0.19319,     0.19419,      0.1952,      0.1962,      0.1972,      0.1982,      0.1992,      0.2002,      0.2012,      0.2022,      0.2032,      0.2042,     0.20521,     0.20621,     0.20721,     0.20821,     0.20921,     0.21021,     0.21121,     0.21221,     0.21321,     0.21421,     0.21522,\n",
       "           0.21622,     0.21722,     0.21822,     0.21922,     0.22022,     0.22122,     0.22222,     0.22322,     0.22422,     0.22523,     0.22623,     0.22723,     0.22823,     0.22923,     0.23023,     0.23123,     0.23223,     0.23323,     0.23423,     0.23524,     0.23624,     0.23724,     0.23824,     0.23924,\n",
       "           0.24024,     0.24124,     0.24224,     0.24324,     0.24424,     0.24525,     0.24625,     0.24725,     0.24825,     0.24925,     0.25025,     0.25125,     0.25225,     0.25325,     0.25425,     0.25526,     0.25626,     0.25726,     0.25826,     0.25926,     0.26026,     0.26126,     0.26226,     0.26326,\n",
       "           0.26426,     0.26527,     0.26627,     0.26727,     0.26827,     0.26927,     0.27027,     0.27127,     0.27227,     0.27327,     0.27427,     0.27528,     0.27628,     0.27728,     0.27828,     0.27928,     0.28028,     0.28128,     0.28228,     0.28328,     0.28428,     0.28529,     0.28629,     0.28729,\n",
       "           0.28829,     0.28929,     0.29029,     0.29129,     0.29229,     0.29329,     0.29429,      0.2953,      0.2963,      0.2973,      0.2983,      0.2993,      0.3003,      0.3013,      0.3023,      0.3033,      0.3043,     0.30531,     0.30631,     0.30731,     0.30831,     0.30931,     0.31031,     0.31131,\n",
       "           0.31231,     0.31331,     0.31431,     0.31532,     0.31632,     0.31732,     0.31832,     0.31932,     0.32032,     0.32132,     0.32232,     0.32332,     0.32432,     0.32533,     0.32633,     0.32733,     0.32833,     0.32933,     0.33033,     0.33133,     0.33233,     0.33333,     0.33433,     0.33534,\n",
       "           0.33634,     0.33734,     0.33834,     0.33934,     0.34034,     0.34134,     0.34234,     0.34334,     0.34434,     0.34535,     0.34635,     0.34735,     0.34835,     0.34935,     0.35035,     0.35135,     0.35235,     0.35335,     0.35435,     0.35536,     0.35636,     0.35736,     0.35836,     0.35936,\n",
       "           0.36036,     0.36136,     0.36236,     0.36336,     0.36436,     0.36537,     0.36637,     0.36737,     0.36837,     0.36937,     0.37037,     0.37137,     0.37237,     0.37337,     0.37437,     0.37538,     0.37638,     0.37738,     0.37838,     0.37938,     0.38038,     0.38138,     0.38238,     0.38338,\n",
       "           0.38438,     0.38539,     0.38639,     0.38739,     0.38839,     0.38939,     0.39039,     0.39139,     0.39239,     0.39339,     0.39439,      0.3954,      0.3964,      0.3974,      0.3984,      0.3994,      0.4004,      0.4014,      0.4024,      0.4034,      0.4044,     0.40541,     0.40641,     0.40741,\n",
       "           0.40841,     0.40941,     0.41041,     0.41141,     0.41241,     0.41341,     0.41441,     0.41542,     0.41642,     0.41742,     0.41842,     0.41942,     0.42042,     0.42142,     0.42242,     0.42342,     0.42442,     0.42543,     0.42643,     0.42743,     0.42843,     0.42943,     0.43043,     0.43143,\n",
       "           0.43243,     0.43343,     0.43443,     0.43544,     0.43644,     0.43744,     0.43844,     0.43944,     0.44044,     0.44144,     0.44244,     0.44344,     0.44444,     0.44545,     0.44645,     0.44745,     0.44845,     0.44945,     0.45045,     0.45145,     0.45245,     0.45345,     0.45445,     0.45546,\n",
       "           0.45646,     0.45746,     0.45846,     0.45946,     0.46046,     0.46146,     0.46246,     0.46346,     0.46446,     0.46547,     0.46647,     0.46747,     0.46847,     0.46947,     0.47047,     0.47147,     0.47247,     0.47347,     0.47447,     0.47548,     0.47648,     0.47748,     0.47848,     0.47948,\n",
       "           0.48048,     0.48148,     0.48248,     0.48348,     0.48448,     0.48549,     0.48649,     0.48749,     0.48849,     0.48949,     0.49049,     0.49149,     0.49249,     0.49349,     0.49449,      0.4955,      0.4965,      0.4975,      0.4985,      0.4995,      0.5005,      0.5015,      0.5025,      0.5035,\n",
       "            0.5045,     0.50551,     0.50651,     0.50751,     0.50851,     0.50951,     0.51051,     0.51151,     0.51251,     0.51351,     0.51451,     0.51552,     0.51652,     0.51752,     0.51852,     0.51952,     0.52052,     0.52152,     0.52252,     0.52352,     0.52452,     0.52553,     0.52653,     0.52753,\n",
       "           0.52853,     0.52953,     0.53053,     0.53153,     0.53253,     0.53353,     0.53453,     0.53554,     0.53654,     0.53754,     0.53854,     0.53954,     0.54054,     0.54154,     0.54254,     0.54354,     0.54454,     0.54555,     0.54655,     0.54755,     0.54855,     0.54955,     0.55055,     0.55155,\n",
       "           0.55255,     0.55355,     0.55455,     0.55556,     0.55656,     0.55756,     0.55856,     0.55956,     0.56056,     0.56156,     0.56256,     0.56356,     0.56456,     0.56557,     0.56657,     0.56757,     0.56857,     0.56957,     0.57057,     0.57157,     0.57257,     0.57357,     0.57457,     0.57558,\n",
       "           0.57658,     0.57758,     0.57858,     0.57958,     0.58058,     0.58158,     0.58258,     0.58358,     0.58458,     0.58559,     0.58659,     0.58759,     0.58859,     0.58959,     0.59059,     0.59159,     0.59259,     0.59359,     0.59459,      0.5956,      0.5966,      0.5976,      0.5986,      0.5996,\n",
       "            0.6006,      0.6016,      0.6026,      0.6036,      0.6046,     0.60561,     0.60661,     0.60761,     0.60861,     0.60961,     0.61061,     0.61161,     0.61261,     0.61361,     0.61461,     0.61562,     0.61662,     0.61762,     0.61862,     0.61962,     0.62062,     0.62162,     0.62262,     0.62362,\n",
       "           0.62462,     0.62563,     0.62663,     0.62763,     0.62863,     0.62963,     0.63063,     0.63163,     0.63263,     0.63363,     0.63463,     0.63564,     0.63664,     0.63764,     0.63864,     0.63964,     0.64064,     0.64164,     0.64264,     0.64364,     0.64464,     0.64565,     0.64665,     0.64765,\n",
       "           0.64865,     0.64965,     0.65065,     0.65165,     0.65265,     0.65365,     0.65465,     0.65566,     0.65666,     0.65766,     0.65866,     0.65966,     0.66066,     0.66166,     0.66266,     0.66366,     0.66466,     0.66567,     0.66667,     0.66767,     0.66867,     0.66967,     0.67067,     0.67167,\n",
       "           0.67267,     0.67367,     0.67467,     0.67568,     0.67668,     0.67768,     0.67868,     0.67968,     0.68068,     0.68168,     0.68268,     0.68368,     0.68468,     0.68569,     0.68669,     0.68769,     0.68869,     0.68969,     0.69069,     0.69169,     0.69269,     0.69369,     0.69469,      0.6957,\n",
       "            0.6967,      0.6977,      0.6987,      0.6997,      0.7007,      0.7017,      0.7027,      0.7037,      0.7047,     0.70571,     0.70671,     0.70771,     0.70871,     0.70971,     0.71071,     0.71171,     0.71271,     0.71371,     0.71471,     0.71572,     0.71672,     0.71772,     0.71872,     0.71972,\n",
       "           0.72072,     0.72172,     0.72272,     0.72372,     0.72472,     0.72573,     0.72673,     0.72773,     0.72873,     0.72973,     0.73073,     0.73173,     0.73273,     0.73373,     0.73473,     0.73574,     0.73674,     0.73774,     0.73874,     0.73974,     0.74074,     0.74174,     0.74274,     0.74374,\n",
       "           0.74474,     0.74575,     0.74675,     0.74775,     0.74875,     0.74975,     0.75075,     0.75175,     0.75275,     0.75375,     0.75475,     0.75576,     0.75676,     0.75776,     0.75876,     0.75976,     0.76076,     0.76176,     0.76276,     0.76376,     0.76476,     0.76577,     0.76677,     0.76777,\n",
       "           0.76877,     0.76977,     0.77077,     0.77177,     0.77277,     0.77377,     0.77477,     0.77578,     0.77678,     0.77778,     0.77878,     0.77978,     0.78078,     0.78178,     0.78278,     0.78378,     0.78478,     0.78579,     0.78679,     0.78779,     0.78879,     0.78979,     0.79079,     0.79179,\n",
       "           0.79279,     0.79379,     0.79479,      0.7958,      0.7968,      0.7978,      0.7988,      0.7998,      0.8008,      0.8018,      0.8028,      0.8038,      0.8048,     0.80581,     0.80681,     0.80781,     0.80881,     0.80981,     0.81081,     0.81181,     0.81281,     0.81381,     0.81481,     0.81582,\n",
       "           0.81682,     0.81782,     0.81882,     0.81982,     0.82082,     0.82182,     0.82282,     0.82382,     0.82482,     0.82583,     0.82683,     0.82783,     0.82883,     0.82983,     0.83083,     0.83183,     0.83283,     0.83383,     0.83483,     0.83584,     0.83684,     0.83784,     0.83884,     0.83984,\n",
       "           0.84084,     0.84184,     0.84284,     0.84384,     0.84484,     0.84585,     0.84685,     0.84785,     0.84885,     0.84985,     0.85085,     0.85185,     0.85285,     0.85385,     0.85485,     0.85586,     0.85686,     0.85786,     0.85886,     0.85986,     0.86086,     0.86186,     0.86286,     0.86386,\n",
       "           0.86486,     0.86587,     0.86687,     0.86787,     0.86887,     0.86987,     0.87087,     0.87187,     0.87287,     0.87387,     0.87487,     0.87588,     0.87688,     0.87788,     0.87888,     0.87988,     0.88088,     0.88188,     0.88288,     0.88388,     0.88488,     0.88589,     0.88689,     0.88789,\n",
       "           0.88889,     0.88989,     0.89089,     0.89189,     0.89289,     0.89389,     0.89489,      0.8959,      0.8969,      0.8979,      0.8989,      0.8999,      0.9009,      0.9019,      0.9029,      0.9039,      0.9049,     0.90591,     0.90691,     0.90791,     0.90891,     0.90991,     0.91091,     0.91191,\n",
       "           0.91291,     0.91391,     0.91491,     0.91592,     0.91692,     0.91792,     0.91892,     0.91992,     0.92092,     0.92192,     0.92292,     0.92392,     0.92492,     0.92593,     0.92693,     0.92793,     0.92893,     0.92993,     0.93093,     0.93193,     0.93293,     0.93393,     0.93493,     0.93594,\n",
       "           0.93694,     0.93794,     0.93894,     0.93994,     0.94094,     0.94194,     0.94294,     0.94394,     0.94494,     0.94595,     0.94695,     0.94795,     0.94895,     0.94995,     0.95095,     0.95195,     0.95295,     0.95395,     0.95495,     0.95596,     0.95696,     0.95796,     0.95896,     0.95996,\n",
       "           0.96096,     0.96196,     0.96296,     0.96396,     0.96496,     0.96597,     0.96697,     0.96797,     0.96897,     0.96997,     0.97097,     0.97197,     0.97297,     0.97397,     0.97497,     0.97598,     0.97698,     0.97798,     0.97898,     0.97998,     0.98098,     0.98198,     0.98298,     0.98398,\n",
       "           0.98498,     0.98599,     0.98699,     0.98799,     0.98899,     0.98999,     0.99099,     0.99199,     0.99299,     0.99399,     0.99499,       0.996,       0.997,       0.998,       0.999,           1]), array([[    0.99052,     0.99052,     0.99002, ...,           0,           0,           0],\n",
       "       [    0.98936,     0.98936,     0.98936, ...,           0,           0,           0],\n",
       "       [    0.97101,     0.97101,     0.97101, ...,           0,           0,           0],\n",
       "       [    0.98492,     0.98492,      0.9799, ...,           0,           0,           0],\n",
       "       [    0.89895,     0.89895,     0.89263, ...,           0,           0,           0]]), 'Confidence', 'Recall']]\n",
       "fitness: 0.6613687199683753\n",
       "keys: ['metrics/precision(B)', 'metrics/recall(B)', 'metrics/mAP50(B)', 'metrics/mAP50-95(B)']\n",
       "maps: array([    0.87121,     0.56138,     0.57756,     0.72135,     0.43103])\n",
       "names: {0: 'car', 1: 'car_door_opened', 2: 'motocycle', 3: 'open_driver_seat', 4: 'person'}\n",
       "plot: True\n",
       "results_dict: {'metrics/precision(B)': 0.9171022068977944, 'metrics/recall(B)': 0.9011917678191687, 'metrics/mAP50(B)': 0.9211473317546695, 'metrics/mAP50-95(B)': 0.6325044297698982, 'fitness': 0.6613687199683753}\n",
       "save_dir: PosixPath('/home/alpaco/hbr/YOLOv8_results/experiment241125_1024_l2_final3')\n",
       "speed: {'preprocess': 1.396518704053518, 'inference': 11.69363791878159, 'loss': 0.0003894438614716401, 'postprocess': 0.7750218784486925}\n",
       "task: 'detect'"
      ]
     },
     "execution_count": 5,
     "metadata": {},
     "output_type": "execute_result"
    }
   ],
   "source": [
    "model.train(data=\"./yolo_detection/car_driver_seat-12/data.yaml\", epochs=50, imgsz=1024, batch=16, project=\"../result_model/yolo detection result\", name=\"test\")"
   ]
  },
  {
   "cell_type": "code",
   "execution_count": 7,
   "metadata": {},
   "outputs": [
    {
     "name": "stdout",
     "output_type": "stream",
     "text": [
      "\n",
      "image 1/239 /home/alpaco/hbr/Car Detection/car_driver_seat-12/test/images/-2024-11-01-4-21-34_png_jpg.rf.396681207710c5a6dc4cb58ca058944c.jpg: 1024x1024 6 cars, 2 open_driver_seats, 1 person, 24.6ms\n",
      "image 2/239 /home/alpaco/hbr/Car Detection/car_driver_seat-12/test/images/-2024-11-01-4-24-17_png_jpg.rf.d8c3b212fd618bc86c9c7b2a8383aad4.jpg: 1024x1024 3 cars, 1 car_door_opened, 2 persons, 24.5ms\n",
      "image 3/239 /home/alpaco/hbr/Car Detection/car_driver_seat-12/test/images/-2024-11-01-4-34-30_png_jpg.rf.b0f36d4e9987b68a2b1d169abe50f90f.jpg: 1024x1024 3 cars, 2 motocycles, 1 open_driver_seat, 1 person, 24.4ms\n",
      "image 4/239 /home/alpaco/hbr/Car Detection/car_driver_seat-12/test/images/-2024-11-01-5-35-42_png_jpg.rf.96fb16890d29e3a414ac219c6c64ff56.jpg: 1024x1024 4 cars, 2 motocycles, 1 person, 22.1ms\n",
      "image 5/239 /home/alpaco/hbr/Car Detection/car_driver_seat-12/test/images/-2024-11-01-5-35-55_png_jpg.rf.7b7d3e9b1bb460a2be76a28d4701f2b4.jpg: 1024x1024 4 cars, 2 motocycles, 1 open_driver_seat, 22.0ms\n",
      "image 6/239 /home/alpaco/hbr/Car Detection/car_driver_seat-12/test/images/-2024-11-01-5-37-07_png_jpg.rf.e54b1e4e1aba64f5d943ea5d00e53c07.jpg: 1024x1024 4 cars, 1 car_door_opened, 2 motocycles, 22.0ms\n",
      "image 7/239 /home/alpaco/hbr/Car Detection/car_driver_seat-12/test/images/-2024-11-01-5-37-09_png_jpg.rf.a95418cefe11fd899f7e568d1a4514b8.jpg: 1024x1024 4 cars, 1 car_door_opened, 1 motocycle, 22.0ms\n",
      "image 8/239 /home/alpaco/hbr/Car Detection/car_driver_seat-12/test/images/-2024-11-01-5-37-30_png_jpg.rf.fa8f4b459fb33d2bca61cd14fa9655a0.jpg: 1024x1024 4 cars, 2 motocycles, 1 open_driver_seat, 22.0ms\n",
      "image 9/239 /home/alpaco/hbr/Car Detection/car_driver_seat-12/test/images/-2024-11-01-5-37-32_png_jpg.rf.7e1bf07069097c64826ab8b4575f2b1c.jpg: 1024x1024 4 cars, 2 motocycles, 22.0ms\n",
      "image 10/239 /home/alpaco/hbr/Car Detection/car_driver_seat-12/test/images/-2024-11-01-5-38-24_png_jpg.rf.b96721ca793e7aed2fe3f4b01cc1c270.jpg: 1024x1024 3 cars, 2 motocycles, 1 open_driver_seat, 22.0ms\n",
      "image 11/239 /home/alpaco/hbr/Car Detection/car_driver_seat-12/test/images/-2024-11-01-5-43-22_png_jpg.rf.0df516b935b17af99d5d946b38d35385.jpg: 1024x1024 5 cars, 1 open_driver_seat, 5 persons, 22.0ms\n",
      "image 12/239 /home/alpaco/hbr/Car Detection/car_driver_seat-12/test/images/-2024-11-01-5-46-05_png_jpg.rf.61ce4f8b156f0c0383c4c9922bc2c0ba.jpg: 1024x1024 5 cars, 1 open_driver_seat, 22.2ms\n",
      "image 13/239 /home/alpaco/hbr/Car Detection/car_driver_seat-12/test/images/-2024-11-01-5-47-40_png_jpg.rf.671885cbbc5ec354a7674dc9670e0036.jpg: 1024x1024 7 cars, 1 open_driver_seat, 22.1ms\n",
      "image 14/239 /home/alpaco/hbr/Car Detection/car_driver_seat-12/test/images/-2024-11-01-5-47-48_png_jpg.rf.2b05411d57fd1e7af53e03f7a28c7c62.jpg: 1024x1024 7 cars, 1 open_driver_seat, 22.2ms\n",
      "image 15/239 /home/alpaco/hbr/Car Detection/car_driver_seat-12/test/images/-2024-11-01-5-48-14_png_jpg.rf.ddf21626f022381a1609c337f9bcf23e.jpg: 1024x1024 7 cars, 1 car_door_opened, 2 persons, 22.1ms\n",
      "image 16/239 /home/alpaco/hbr/Car Detection/car_driver_seat-12/test/images/-2024-11-03-12-24-56_png_jpg.rf.ef0164df87b9c00238d554daeca3cb1a.jpg: 1024x1024 5 cars, 1 open_driver_seat, 22.1ms\n",
      "image 17/239 /home/alpaco/hbr/Car Detection/car_driver_seat-12/test/images/-2024-11-03-12-25-25_png_jpg.rf.b05e1983e9678bd51ea3b3e3a31120ff.jpg: 1024x1024 5 cars, 1 car_door_opened, 1 person, 22.2ms\n",
      "image 18/239 /home/alpaco/hbr/Car Detection/car_driver_seat-12/test/images/-2024-11-03-12-27-58_png_jpg.rf.849a8688c13db9d0885cd72e8b11ed56.jpg: 1024x1024 7 cars, 1 motocycle, 1 open_driver_seat, 2 persons, 22.2ms\n",
      "image 19/239 /home/alpaco/hbr/Car Detection/car_driver_seat-12/test/images/14_jpg.rf.d39f4e7b28d24e64c63ebf82c1f1d597.jpg: 1024x1024 1 car, 1 open_driver_seat, 22.2ms\n",
      "image 20/239 /home/alpaco/hbr/Car Detection/car_driver_seat-12/test/images/18_jpg.rf.834eedb17985c2dcee2b76c0c8c2393f.jpg: 1024x1024 1 car, 1 open_driver_seat, 22.1ms\n",
      "image 21/239 /home/alpaco/hbr/Car Detection/car_driver_seat-12/test/images/19UDE2F76GA018463-2016-Acura-ILX-sp_turntable_pic-1521-16x9-3840x2160-4K-20220211100212_jpg.rf.85d2973d138ab1604de1962f61a927e1.jpg: 1024x1024 1 car, 2 car_door_openeds, 1 open_driver_seat, 22.1ms\n",
      "image 22/239 /home/alpaco/hbr/Car Detection/car_driver_seat-12/test/images/1C4AJWAG9GL141397-2016-Jeep-Wrangler-sp_turntable_pic-1511-16x9-3840x2160-4K-20211118141129_jpg.rf.d0eede0efd41c65f0d525f9fecf5b2ee.jpg: 1024x1024 1 car, 1 open_driver_seat, 22.2ms\n",
      "image 23/239 /home/alpaco/hbr/Car Detection/car_driver_seat-12/test/images/1C4AJWAG9GL141397-2016-Jeep-Wrangler-sp_turntable_pic-1514-16x9-3840x2160-4K-20211118141129_jpg.rf.21eb1f9d74e8613660698f98f4838e5f.jpg: 1024x1024 1 car, 1 open_driver_seat, 22.1ms\n",
      "image 24/239 /home/alpaco/hbr/Car Detection/car_driver_seat-12/test/images/1C4BJWDG3HL664769-2017-Jeep-WranglerUnlimited-sp_turntable_pic-1526-16x9-3840x2160-4K-20220208120234_jpg.rf.2bbaae440246ad0b0a28edf2c82581ce.jpg: 1024x1024 1 car, 1 car_door_opened, 1 open_driver_seat, 22.2ms\n",
      "image 25/239 /home/alpaco/hbr/Car Detection/car_driver_seat-12/test/images/1C4HJXDN6MW722106-2021-Jeep-Wrangler-sp_turntable_pic-1526-16x9-3840x2160-4K-20220110100141_jpg.rf.f5816db39b8b800f2decaae8fd8fe562.jpg: 1024x1024 1 car, 1 car_door_opened, 1 open_driver_seat, 22.1ms\n",
      "image 26/239 /home/alpaco/hbr/Car Detection/car_driver_seat-12/test/images/1C4HJXDN7MW837006-2021-Jeep-Wrangler-sp_turntable_pic-1523-16x9-3840x2160-4K-20211227101227_jpg.rf.08d2fafeff991a35df95c37c22378f1f.jpg: 1024x1024 1 car, 1 car_door_opened, 1 open_driver_seat, 22.2ms\n",
      "image 27/239 /home/alpaco/hbr/Car Detection/car_driver_seat-12/test/images/1C4HJXDN8MW816472-2021-Jeep-Wrangler-sp_turntable_pic-1526-16x9-3840x2160-4K-20211220101251_jpg.rf.a533cd776b9dce41e2ee1cf83163e653.jpg: 1024x1024 1 car, 1 car_door_opened, 1 open_driver_seat, 22.1ms\n",
      "image 28/239 /home/alpaco/hbr/Car Detection/car_driver_seat-12/test/images/1C4HJXDN8MW816472-2021-Jeep-Wrangler-sp_turntable_pic-1527-16x9-3840x2160-4K-20211220101251_jpg.rf.25958643dc18695f3613611f958c55e0.jpg: 1024x1024 1 car, 1 car_door_opened, 1 open_driver_seat, 22.1ms\n",
      "image 29/239 /home/alpaco/hbr/Car Detection/car_driver_seat-12/test/images/1C4HJXEG0JW149246-2018-Jeep-WranglerUnlimited-sp_turntable_pic-1511-16x9-3840x2160-4K-20211103101137_jpg.rf.1e671ca9179329c79c50ca8d9674dc02.jpg: 1024x1024 1 car, 1 car_door_opened, 1 open_driver_seat, 22.1ms\n",
      "image 30/239 /home/alpaco/hbr/Car Detection/car_driver_seat-12/test/images/1C4HJXEG0JW149246-2018-Jeep-WranglerUnlimited-sp_turntable_pic-1512-16x9-3840x2160-4K-20211103101137_jpg.rf.723eac49cd271b20b17bc15c9d4a9d07.jpg: 1024x1024 1 car, 1 car_door_opened, 1 open_driver_seat, 22.1ms\n",
      "image 31/239 /home/alpaco/hbr/Car Detection/car_driver_seat-12/test/images/1C4HJXEG0JW149246-2018-Jeep-WranglerUnlimited-sp_turntable_pic-1523-16x9-3840x2160-4K-20220126110138_jpg.rf.fe58b244b272971a7067511c08ea4165.jpg: 1024x1024 1 car, 1 car_door_opened, 1 open_driver_seat, 22.1ms\n",
      "image 32/239 /home/alpaco/hbr/Car Detection/car_driver_seat-12/test/images/1C4HJXEG4NW104526-2022-Jeep-Wrangler-sp_turntable_pic-1526-16x9-3840x2160-4K-20220127130121_jpg.rf.75765e1e5b8d96ef7f0b25af81c818d3.jpg: 1024x1024 1 car, 1 car_door_opened, 1 open_driver_seat, 22.1ms\n",
      "image 33/239 /home/alpaco/hbr/Car Detection/car_driver_seat-12/test/images/1C4HJXEG6NW104527-2022-Jeep-Wrangler-sp_turntable_pic-1525-16x9-3840x2160-4K-20220120100172_jpg.rf.f81185f97830d3190e0e9f6afa4cb019.jpg: 1024x1024 1 car, 1 car_door_opened, 1 open_driver_seat, 22.1ms\n",
      "image 34/239 /home/alpaco/hbr/Car Detection/car_driver_seat-12/test/images/1C4HJXEG6NW104527-2022-Jeep-Wrangler-sp_turntable_pic-1527-16x9-3840x2160-4K-20220120100172_jpg.rf.a3d30d0719a016758fc386bdb84c47e0.jpg: 1024x1024 1 car, 1 car_door_opened, 1 open_driver_seat, 22.1ms\n",
      "image 35/239 /home/alpaco/hbr/Car Detection/car_driver_seat-12/test/images/1C4HJXEG7KW504964-2019-Jeep-WranglerUnlimited-sp_turntable_pic-1526-16x9-3840x2160-4K-20211210151211_jpg.rf.7f4c7a084f9de1971002fe71b7edaa42.jpg: 1024x1024 1 car, 1 car_door_opened, 1 open_driver_seat, 22.1ms\n",
      "image 36/239 /home/alpaco/hbr/Car Detection/car_driver_seat-12/test/images/1C4HJXEG7KW504964-2019-Jeep-WranglerUnlimited-sp_turntable_pic-1526-16x9-3840x2160-4K-20211210151211_jpg.rf.ae3c0086be13f8b4cea0022388ff2a78.jpg: 1024x1024 1 car, 1 car_door_opened, 1 open_driver_seat, 22.1ms\n",
      "image 37/239 /home/alpaco/hbr/Car Detection/car_driver_seat-12/test/images/1C4HJXEG7KW686164-2019-Jeep-WranglerUnlimited-sp_turntable_pic-1513-16x9-3840x2160-4K-20210719150709_jpg.rf.ae793abcf5fd5a713db96a8618c537a9.jpg: 1024x1024 1 car, 1 car_door_opened, 1 open_driver_seat, 22.3ms\n",
      "image 38/239 /home/alpaco/hbr/Car Detection/car_driver_seat-12/test/images/1C4HJXEG9NW104523-2022-Jeep-Wrangler-sp_turntable_pic-1526-16x9-3840x2160-4K-20220120090138_jpg.rf.6387bbbc759f7893c4f728a86df69678.jpg: 1024x1024 1 car, 1 car_door_opened, 1 open_driver_seat, 22.1ms\n",
      "image 39/239 /home/alpaco/hbr/Car Detection/car_driver_seat-12/test/images/1C4HJXEN2NW132128-2022-Jeep-Wrangler-sp_turntable_pic-1524-16x9-3840x2160-4K-20220202140209_jpg.rf.5f4046afaafacd4dff8ba371a1a4314b.jpg: 1024x1024 1 car, 1 car_door_opened, 1 open_driver_seat, 22.2ms\n",
      "image 40/239 /home/alpaco/hbr/Car Detection/car_driver_seat-12/test/images/1C4HJXENXNW117361-2022-Jeep-Wrangler-sp_turntable_pic-1525-16x9-3840x2160-4K-20220121140180_jpg.rf.59a8cde3beb956826228bbbac294aab2.jpg: 1024x1024 1 car, 1 car_door_opened, 1 open_driver_seat, 22.1ms\n",
      "image 41/239 /home/alpaco/hbr/Car Detection/car_driver_seat-12/test/images/1C4HJXFG7LW109036-2020-Jeep-WranglerUnlimited-sp_turntable_pic-1512-16x9-3840x2160-4K-20210817090816_jpg.rf.1e459f8bc75122243a7cc64a0a9a2adc.jpg: 1024x1024 1 car, 1 car_door_opened, 1 open_driver_seat, 22.2ms\n",
      "image 42/239 /home/alpaco/hbr/Car Detection/car_driver_seat-12/test/images/1C4HJXFG7LW109036-2020-Jeep-WranglerUnlimited-sp_turntable_pic-1513-16x9-3840x2160-4K-20210817090816_jpg.rf.67aa4188d889cd1ded3530a979ea84ff.jpg: 1024x1024 1 car, 1 car_door_opened, 1 open_driver_seat, 22.2ms\n",
      "image 43/239 /home/alpaco/hbr/Car Detection/car_driver_seat-12/test/images/1C4HJXFN2LW223539-2020-Jeep-WranglerUnlimited-sp_turntable_pic-1510-16x9-3840x2160-4K-20211006111026_jpg.rf.8be1848670d252a84622bc6c925a74e8.jpg: 1024x1024 1 car, 1 car_door_opened, 1 open_driver_seat, 22.2ms\n",
      "image 44/239 /home/alpaco/hbr/Car Detection/car_driver_seat-12/test/images/1C4HJXFN2LW223539-2020-Jeep-WranglerUnlimited-sp_turntable_pic-1513-16x9-3840x2160-4K-20211006111026_jpg.rf.71f4ae25b3eaa73dd4a026c317c8a6a6.jpg: 1024x1024 1 car, 1 car_door_opened, 1 open_driver_seat, 22.2ms\n",
      "image 45/239 /home/alpaco/hbr/Car Detection/car_driver_seat-12/test/images/1C4HJXFN2LW223539-2020-Jeep-WranglerUnlimited-sp_turntable_pic-1513-16x9-3840x2160-4K-20211006111026_jpg.rf.9b1e96d041ff4962545464530e66ad3d.jpg: 1024x1024 1 car, 1 car_door_opened, 1 open_driver_seat, 22.1ms\n",
      "image 46/239 /home/alpaco/hbr/Car Detection/car_driver_seat-12/test/images/1C4HJXFN3MW744125-2021-Jeep-Wrangler-sp_turntable_pic-1524-16x9-3840x2160-4K-20211220101280_jpg.rf.0198aebc5b5be9e7051044415377e434.jpg: 1024x1024 1 car, 1 car_door_opened, 1 open_driver_seat, 22.1ms\n",
      "image 47/239 /home/alpaco/hbr/Car Detection/car_driver_seat-12/test/images/1C4HJXFNXKW585990-2019-Jeep-WranglerUnlimited-sp_turntable_pic-1522-16x9-3840x2160-4K-20220211150265_jpg.rf.b2493d3f5a132b25fe2ff6fa5d83f2a2.jpg: 1024x1024 1 car, 1 car_door_opened, 1 open_driver_seat, 22.2ms\n",
      "image 48/239 /home/alpaco/hbr/Car Detection/car_driver_seat-12/test/images/1C4HJXFNXKW585990-2019-Jeep-WranglerUnlimited-sp_turntable_pic-1526-16x9-3840x2160-4K-20220211150265_jpg.rf.bc7c61592319a823222bdf8c96fc76bd.jpg: 1024x1024 1 car, 1 car_door_opened, 1 open_driver_seat, 22.1ms\n",
      "image 49/239 /home/alpaco/hbr/Car Detection/car_driver_seat-12/test/images/1C4JJXFG1MW790345-2021-Jeep-Wrangler-sp_turntable_pic-1521-16x9-3840x2160-4K-20211227091270_jpg.rf.1dd8459bd46c1abfc069b5077db8d781.jpg: 1024x1024 1 car, 1 car_door_opened, 1 open_driver_seat, 22.1ms\n",
      "image 50/239 /home/alpaco/hbr/Car Detection/car_driver_seat-12/test/images/1C4JJXFG1MW790345-2021-Jeep-Wrangler-sp_turntable_pic-1525-16x9-3840x2160-4K-20211227091270_jpg.rf.2b2c11bb7e660edac840bff6f28119b4.jpg: 1024x1024 1 car, 1 car_door_opened, 1 open_driver_seat, 22.1ms\n",
      "image 51/239 /home/alpaco/hbr/Car Detection/car_driver_seat-12/test/images/1C4JJXFG1MW790345-2021-Jeep-Wrangler-sp_turntable_pic-1527-16x9-3840x2160-4K-20211227091270_jpg.rf.be1e22d02c7ef5a2931c484be1b83fb2.jpg: 1024x1024 1 car, 1 car_door_opened, 1 open_driver_seat, 22.1ms\n",
      "image 52/239 /home/alpaco/hbr/Car Detection/car_driver_seat-12/test/images/1C4JJXFM0MW702519-2021-Jeep-Wrangler-sp_turntable_pic-1521-16x9-3840x2160-4K-20220110100173_jpg.rf.f936ea8eb656fc9c884232ff02f15f82.jpg: 1024x1024 1 car, 1 car_door_opened, 1 open_driver_seat, 22.1ms\n",
      "image 53/239 /home/alpaco/hbr/Car Detection/car_driver_seat-12/test/images/1C4JJXFM0MW702519-2021-Jeep-Wrangler-sp_turntable_pic-1525-16x9-3840x2160-4K-20220110100173_jpg.rf.db3d659b6b98ba7caf16988ca7a1c4a9.jpg: 1024x1024 1 car, 1 car_door_opened, 1 open_driver_seat, 22.2ms\n",
      "image 54/239 /home/alpaco/hbr/Car Detection/car_driver_seat-12/test/images/1C4JJXFMXNW120090-2022-Jeep-Wrangler-sp_turntable_pic-1521-16x9-3840x2160-4K-20220215100285_jpg.rf.2e5215563fd13e6665fcd8eb2fe3cdf6.jpg: 1024x1024 1 car, 1 car_door_opened, 1 open_driver_seat, 22.1ms\n",
      "image 55/239 /home/alpaco/hbr/Car Detection/car_driver_seat-12/test/images/1C4JJXP61MW773373-2021-Jeep-Wrangler4xe-sp_turntable_pic-1525-16x9-3840x2160-4K-20211227101251_jpg.rf.fd212e67a7b4e9eb87c757eb0064845d.jpg: 1024x1024 1 car, 1 car_door_opened, 1 open_driver_seat, 22.2ms\n",
      "image 56/239 /home/alpaco/hbr/Car Detection/car_driver_seat-12/test/images/1C4JJXP64MW765963-2021-Jeep-Wrangler4xe-sp_turntable_pic-1522-16x9-3840x2160-4K-20220111110123_jpg.rf.053e119c2f50e4eea19185c1785578ec.jpg: 1024x1024 1 car, 1 car_door_opened, 1 open_driver_seat, 22.1ms\n",
      "image 57/239 /home/alpaco/hbr/Car Detection/car_driver_seat-12/test/images/1C4JJXP66MW802401-2021-Jeep-Wrangler4xe-sp_turntable_pic-1523-16x9-3840x2160-4K-20211220111263_jpg.rf.507583baa0482452dd168d6c729d07ed.jpg: 1024x1024 1 car, 1 car_door_opened, 1 open_driver_seat, 22.2ms\n",
      "image 58/239 /home/alpaco/hbr/Car Detection/car_driver_seat-12/test/images/1C4JJXP67MW765519-2021-Jeep-Wrangler4xe-sp_turntable_pic-1524-16x9-3840x2160-4K-20211220101218_jpg.rf.5ad8c24f6d86e488504ab8d67bc74c25.jpg: 1024x1024 1 car, 1 car_door_opened, 1 open_driver_seat, 22.1ms\n",
      "image 59/239 /home/alpaco/hbr/Car Detection/car_driver_seat-12/test/images/1C4JJXP69MW698986-2021-Jeep-Wrangler4xe-sp_turntable_pic-1523-16x9-3840x2160-4K-20211229101209_jpg.rf.207a297572e6aa4cb7514d8a72150b4c.jpg: 1024x1024 1 car, 1 car_door_opened, 1 open_driver_seat, 22.1ms\n",
      "image 60/239 /home/alpaco/hbr/Car Detection/car_driver_seat-12/test/images/1C4JJXP69MW698986-2021-Jeep-Wrangler4xe-sp_turntable_pic-1524-16x9-3840x2160-4K-20211229101209_jpg.rf.d1d9b04d49f074e9a61f22130957cb18.jpg: 1024x1024 1 car, 1 car_door_opened, 1 open_driver_seat, 22.1ms\n",
      "image 61/239 /home/alpaco/hbr/Car Detection/car_driver_seat-12/test/images/1C4JJXP69MW698986-2021-Jeep-Wrangler4xe-sp_turntable_pic-1525-16x9-3840x2160-4K-20211229101209_jpg.rf.822c373c7f1839ab32299e759a33d0e7.jpg: 1024x1024 1 car, 1 car_door_opened, 1 open_driver_seat, 22.1ms\n",
      "image 62/239 /home/alpaco/hbr/Car Detection/car_driver_seat-12/test/images/1C4JJXSJ1MW700029-NA-sp_turntable_pic-1526-16x9-3840x2160-4K-20220216140240_jpg.rf.15a2282ce51a75f1934e29818fa54f0d.jpg: 1024x1024 1 car, 1 car_door_opened, 1 open_driver_seat, 22.1ms\n",
      "image 63/239 /home/alpaco/hbr/Car Detection/car_driver_seat-12/test/images/1C4NJDBB5FD153760-2015-Jeep-Compass-sp_turntable_pic-1511-16x9-3840x2160-4K-20210910140957_jpg.rf.6b5ce34952d05dc1c9c120d926740ab7.jpg: 1024x1024 1 car, 1 car_door_opened, 1 open_driver_seat, 22.1ms\n",
      "image 64/239 /home/alpaco/hbr/Car Detection/car_driver_seat-12/test/images/1C4NJDBB5FD153760-2015-Jeep-Compass-sp_turntable_pic-1513-16x9-3840x2160-4K-20210910140957_jpg.rf.c16e9a7d25c3a8500423be84fba5bf14.jpg: 1024x1024 1 car, 1 car_door_opened, 1 open_driver_seat, 22.3ms\n",
      "image 65/239 /home/alpaco/hbr/Car Detection/car_driver_seat-12/test/images/1C4NJPBA9ED789637-2014-Jeep-Patriot-sp_turntable_pic-1523-16x9-3840x2160-4K-20220104090175_jpg.rf.3042f1853036808a9468710988b30334.jpg: 1024x1024 1 car, 1 car_door_opened, 1 open_driver_seat, 22.8ms\n",
      "image 66/239 /home/alpaco/hbr/Car Detection/car_driver_seat-12/test/images/1C4NJPBA9ED789637-2014-Jeep-Patriot-sp_turntable_pic-1525-16x9-3840x2160-4K-20220104090175_jpg.rf.e7b2cc8b43bd9e72f5dacb1b53e59290.jpg: 1024x1024 1 car, 1 car_door_opened, 1 open_driver_seat, 22.1ms\n",
      "image 67/239 /home/alpaco/hbr/Car Detection/car_driver_seat-12/test/images/1C4NJPBA9ED789637-2014-Jeep-Patriot-sp_turntable_pic-1526-16x9-3840x2160-4K-20220104090175_jpg.rf.84373ee615bd187ce1e74944c2bde31e.jpg: 1024x1024 1 car, 1 car_door_opened, 1 open_driver_seat, 22.1ms\n",
      "image 68/239 /home/alpaco/hbr/Car Detection/car_driver_seat-12/test/images/1C4NJPBA9ED789637-2014-Jeep-Patriot-sp_turntable_pic-1528-16x9-3840x2160-4K-20220104090175_jpg.rf.065f87c604457b55f78a5b472bea61a1.jpg: 1024x1024 1 car, 1 car_door_opened, 1 open_driver_seat, 22.1ms\n",
      "image 69/239 /home/alpaco/hbr/Car Detection/car_driver_seat-12/test/images/1C4NJPFB3ED827883-2014-Jeep-Patriot-sp_turntable_pic-1524-16x9-3840x2160-4K-20220201110256_jpg.rf.70e0e06e8a0bd048095e241435c2518c.jpg: 1024x1024 1 car, 1 car_door_opened, 1 open_driver_seat, 22.2ms\n",
      "image 70/239 /home/alpaco/hbr/Car Detection/car_driver_seat-12/test/images/1C4NJPFB3ED827883-2014-Jeep-Patriot-sp_turntable_pic-1526-16x9-3840x2160-4K-20220201110256_jpg.rf.b71a7aa03ef7c0171d0fcf29dce6a6b7.jpg: 1024x1024 1 car, 1 car_door_opened, 1 open_driver_seat, 22.1ms\n",
      "image 71/239 /home/alpaco/hbr/Car Detection/car_driver_seat-12/test/images/1C4NJPFB3ED827883-2014-Jeep-Patriot-sp_turntable_pic-1527-16x9-3840x2160-4K-20220201110256_jpg.rf.d70ffad0a4a749f932d6c34b8de6c8ef.jpg: 1024x1024 1 car, 1 car_door_opened, 1 open_driver_seat, 22.1ms\n",
      "image 72/239 /home/alpaco/hbr/Car Detection/car_driver_seat-12/test/images/1C4PJLCB0HW586251-2017-Jeep-Cherokee-sp_turntable_pic-1522-16x9-3840x2160-4K-20220131130182_jpg.rf.b334cc85935ca577290d834a2671671c.jpg: 1024x1024 1 car, 1 car_door_opened, 1 open_driver_seat, 22.1ms\n",
      "image 73/239 /home/alpaco/hbr/Car Detection/car_driver_seat-12/test/images/1C4PJLLB1KD143576-2019-Jeep-Cherokee-sp_turntable_pic-1522-16x9-3840x2160-4K-20220114150146_jpg.rf.a195ae6976336598a5df817df64d5129.jpg: 1024x1024 1 car, 1 car_door_opened, 1 open_driver_seat, 22.1ms\n",
      "image 74/239 /home/alpaco/hbr/Car Detection/car_driver_seat-12/test/images/1C4PJLLB1KD143576-2019-Jeep-Cherokee-sp_turntable_pic-1523-16x9-3840x2160-4K-20220114150146_jpg.rf.fac550dbab09bd1c37d74ca9a5226641.jpg: 1024x1024 1 car, 1 car_door_opened, 1 open_driver_seat, 22.2ms\n",
      "image 75/239 /home/alpaco/hbr/Car Detection/car_driver_seat-12/test/images/1C4PJLLB1KD143576-2019-Jeep-Cherokee-sp_turntable_pic-1526-16x9-3840x2160-4K-20220114150146_jpg.rf.4914adc1ad46adaa066a042951e441e4.jpg: 1024x1024 1 car, 1 car_door_opened, 1 open_driver_seat, 22.2ms\n",
      "image 76/239 /home/alpaco/hbr/Car Detection/car_driver_seat-12/test/images/1C4PJLMX2ND500603-2022-Jeep-Cherokee-sp_turntable_pic-1520-16x9-3840x2160-4K-20220223100262_jpg.rf.22c678a3a520f8e6080bb6a6981cb5c2.jpg: 1024x1024 1 car, 1 car_door_opened, 1 open_driver_seat, 22.1ms\n",
      "image 77/239 /home/alpaco/hbr/Car Detection/car_driver_seat-12/test/images/1C4PJLMX2ND500603-2022-Jeep-Cherokee-sp_turntable_pic-1522-16x9-3840x2160-4K-20220223100262_jpg.rf.bc5ce9a5467009497f982f5648bff268.jpg: 1024x1024 1 car, 1 car_door_opened, 1 open_driver_seat, 22.1ms\n",
      "image 78/239 /home/alpaco/hbr/Car Detection/car_driver_seat-12/test/images/1C4PJLMX2ND500603-2022-Jeep-Cherokee-sp_turntable_pic-1525-16x9-3840x2160-4K-20220223100262_jpg.rf.ac0c010afeab25ce16ecd5705dda03d5.jpg: 1024x1024 1 car, 1 car_door_opened, 1 open_driver_seat, 22.2ms\n",
      "image 79/239 /home/alpaco/hbr/Car Detection/car_driver_seat-12/test/images/1C4PJMAB7GW109159-2016-Jeep-Cherokee-sp_turntable_pic-1522-16x9-3840x2160-4K-20211215141242_jpg.rf.c612e317605953a629e2a350b031a6f7.jpg: 1024x1024 1 car, 1 car_door_opened, 1 open_driver_seat, 22.1ms\n",
      "image 80/239 /home/alpaco/hbr/Car Detection/car_driver_seat-12/test/images/1C4PJMAB7GW109159-2016-Jeep-Cherokee-sp_turntable_pic-1525-16x9-3840x2160-4K-20211215141242_jpg.rf.86593c04759b53bb204819b6cc7c3533.jpg: 1024x1024 1 car, 1 car_door_opened, 1 open_driver_seat, 22.1ms\n",
      "image 81/239 /home/alpaco/hbr/Car Detection/car_driver_seat-12/test/images/1C4PJMAB7GW109159-2016-Jeep-Cherokee-sp_turntable_pic-1527-16x9-3840x2160-4K-20211215141242_jpg.rf.7cf9a0aca10dc4dafb34df4cfee7bbbc.jpg: 1024x1024 1 car, 1 car_door_opened, 1 open_driver_seat, 22.1ms\n",
      "image 82/239 /home/alpaco/hbr/Car Detection/car_driver_seat-12/test/images/1C4PJMBB8JD559341-2018-Jeep-Cherokee-sp_turntable_pic-1513-16x9-3840x2160-4K-20211018151022_jpg.rf.fe4068c97bc851180e9faccf4aa8373c.jpg: 1024x1024 1 car, 1 car_door_opened, 1 open_driver_seat, 22.1ms\n",
      "image 83/239 /home/alpaco/hbr/Car Detection/car_driver_seat-12/test/images/1C4PJMBX7MD223485-2021-Jeep-Cherokee-sp_turntable_pic-1524-16x9-3840x2160-4K-20211227111220_jpg.rf.92f437fabe280f6c75e1424d9a14a0cf.jpg: 1024x1024 1 car, 1 car_door_opened, 1 open_driver_seat, 22.1ms\n",
      "image 84/239 /home/alpaco/hbr/Car Detection/car_driver_seat-12/test/images/1C4PJMBX9KD137401-2019-Jeep-Cherokee-sp_turntable_pic-1514-16x9-3840x2160-4K-20210719140758_jpg.rf.cff4f8f2b6961e3b318e835dac95f3ac.jpg: 1024x1024 1 car, 1 car_door_opened, 1 open_driver_seat, 22.1ms\n",
      "image 85/239 /home/alpaco/hbr/Car Detection/car_driver_seat-12/test/images/1C4PJMBX9KD137401-2019-Jeep-Cherokee-sp_turntable_pic-1515-16x9-3840x2160-4K-20210719140758_jpg.rf.ba8bbc336f47dbfeaa0bf57df041dbed.jpg: 1024x1024 1 car, 1 car_door_opened, 1 open_driver_seat, 22.2ms\n",
      "image 86/239 /home/alpaco/hbr/Car Detection/car_driver_seat-12/test/images/1C4PJMCB1EW286090-2014-Jeep-Cherokee-sp_turntable_pic-1510-16x9-3840x2160-4K-20210826150883_jpg.rf.52a9b94872a2ab48d90e024c29f8ac37.jpg: 1024x1024 1 car, 1 car_door_opened, 1 open_driver_seat, 22.1ms\n",
      "image 87/239 /home/alpaco/hbr/Car Detection/car_driver_seat-12/test/images/1C4PJMCB1EW286090-2014-Jeep-Cherokee-sp_turntable_pic-1511-16x9-3840x2160-4K-20210826150883_jpg.rf.76f5dda4e33e1c91160dc0c8eae73cb8.jpg: 1024x1024 1 car, 1 car_door_opened, 1 open_driver_seat, 22.1ms\n",
      "image 88/239 /home/alpaco/hbr/Car Detection/car_driver_seat-12/test/images/1C4PJMCB2JD618883-2018-Jeep-Cherokee-sp_turntable_pic-1504-16x9-3840x2160-4K-20210603090699_jpg.rf.8dc1f6c9cc85019cf52816d95a9ea5e2.jpg: 1024x1024 1 car_door_opened, 1 open_driver_seat, 22.1ms\n",
      "image 89/239 /home/alpaco/hbr/Car Detection/car_driver_seat-12/test/images/1C4PJMCB2JD618883-2018-Jeep-Cherokee-sp_turntable_pic-1505-16x9-3840x2160-4K-20210603090699_jpg.rf.86c4691db187dfa01ed6db6fd1fe89a6.jpg: 1024x1024 1 car_door_opened, 1 open_driver_seat, 22.1ms\n",
      "image 90/239 /home/alpaco/hbr/Car Detection/car_driver_seat-12/test/images/1C4PJMCB8KD158923-2019-Jeep-Cherokee-sp_turntable_pic-1522-16x9-3840x2160-4K-20220131120196_jpg.rf.445c8ca4486a1b15480633e73923bf0b.jpg: 1024x1024 1 car, 1 car_door_opened, 1 open_driver_seat, 22.2ms\n",
      "image 91/239 /home/alpaco/hbr/Car Detection/car_driver_seat-12/test/images/1C4PJMDB2EW257602-2014-Jeep-Cherokee-sp_turntable_pic-1511-16x9-3840x2160-4K-20210719110784_jpg.rf.7ada6ba666b111d224e6df5becef569e.jpg: 1024x1024 1 car_door_opened, 1 open_driver_seat, 22.2ms\n",
      "image 92/239 /home/alpaco/hbr/Car Detection/car_driver_seat-12/test/images/1C4PJMDB9GW205953-NA-sp_turntable_pic-1522-16x9-3840x2160-4K-20211230131239_jpg.rf.cc1331ef812e8a88f679fd0efa020fb7.jpg: 1024x1024 1 car, 1 car_door_opened, 1 open_driver_seat, 22.1ms\n",
      "image 93/239 /home/alpaco/hbr/Car Detection/car_driver_seat-12/test/images/1C4PJMDB9GW205953-NA-sp_turntable_pic-1526-16x9-3840x2160-4K-20211230131239_jpg.rf.f65a4e0e70dd201015aac2e7cb01adf3.jpg: 1024x1024 1 car, 1 car_door_opened, 1 open_driver_seat, 22.1ms\n",
      "image 94/239 /home/alpaco/hbr/Car Detection/car_driver_seat-12/test/images/1C4PJMDX2KD323309-2019-Jeep-Cherokee-sp_turntable_pic-1513-16x9-3840x2160-4K-20210811100811_jpg.rf.9d859d1f115abd76b51c648a03acae0f.jpg: 1024x1024 1 car, 1 car_door_opened, 1 open_driver_seat, 22.1ms\n",
      "image 95/239 /home/alpaco/hbr/Car Detection/car_driver_seat-12/test/images/1C4PJMDX2MD220247-2021-Jeep-Cherokee-sp_turntable_pic-1523-16x9-3840x2160-4K-20211228101233_jpg.rf.5373d526440db7bba4cce2d513534d05.jpg: 1024x1024 1 car, 1 car_door_opened, 1 open_driver_seat, 22.1ms\n",
      "image 96/239 /home/alpaco/hbr/Car Detection/car_driver_seat-12/test/images/1C4PJMDX3MD228129-2021-Jeep-Cherokee-sp_turntable_pic-1523-16x9-3840x2160-4K-20211220111284_jpg.rf.3ddeeab48f744c25f030671b1947e304.jpg: 1024x1024 1 car, 1 car_door_opened, 1 open_driver_seat, 22.2ms\n",
      "image 97/239 /home/alpaco/hbr/Car Detection/car_driver_seat-12/test/images/1C4PJMDX7MD240106-2021-Jeep-Cherokee-sp_turntable_pic-1524-16x9-3840x2160-4K-20220117150186_jpg.rf.df6054e4edb4950c8d5c858d09464f1b.jpg: 1024x1024 1 car, 1 car_door_opened, 1 open_driver_seat, 22.1ms\n",
      "image 98/239 /home/alpaco/hbr/Car Detection/car_driver_seat-12/test/images/1C4PJMDX9MD223484-2021-Jeep-Cherokee-sp_turntable_pic-1522-16x9-3840x2160-4K-20211220111221_jpg.rf.1e6a2de7408869aae7fc64f718e125c6.jpg: 1024x1024 1 car, 1 car_door_opened, 1 open_driver_seat, 22.2ms\n",
      "image 99/239 /home/alpaco/hbr/Car Detection/car_driver_seat-12/test/images/1C4PJMLB0KD101468-2019-Jeep-Cherokee-sp_turntable_pic-1512-16x9-3840x2160-4K-20210908150936_jpg.rf.6495620f2d4b93d849064eab2ec5f920.jpg: 1024x1024 1 car, 1 car_door_opened, 1 open_driver_seat, 22.1ms\n",
      "image 100/239 /home/alpaco/hbr/Car Detection/car_driver_seat-12/test/images/1C4PJMLB1MD236994-2021-Jeep-Cherokee-sp_turntable_pic-1523-16x9-3840x2160-4K-20211206121214_jpg.rf.5f06460620df2bb4c2aaf4e9a2d9271a.jpg: 1024x1024 1 car, 1 car_door_opened, 1 open_driver_seat, 22.1ms\n",
      "image 101/239 /home/alpaco/hbr/Car Detection/car_driver_seat-12/test/images/1C4PJMLB1MD236994-2021-Jeep-Cherokee-sp_turntable_pic-1524-16x9-3840x2160-4K-20211206121214_jpg.rf.696482de02f13f15353d4a5dbcd3e304.jpg: 1024x1024 1 car, 1 car_door_opened, 1 open_driver_seat, 22.1ms\n",
      "image 102/239 /home/alpaco/hbr/Car Detection/car_driver_seat-12/test/images/1C4PJMLB1MD236994-2021-Jeep-Cherokee-sp_turntable_pic-1525-16x9-3840x2160-4K-20211206121214_jpg.rf.bfe080f8f4d51204f0da45ba38a56786.jpg: 1024x1024 1 car, 1 car_door_opened, 1 open_driver_seat, 22.1ms\n",
      "image 103/239 /home/alpaco/hbr/Car Detection/car_driver_seat-12/test/images/1C4PJMLB2MD233666-2021-Jeep-Cherokee-sp_turntable_pic-1513-16x9-3840x2160-4K-20211203101285_jpg.rf.e6af4b6a1d647494bded3158315799c1.jpg: 1024x1024 1 car, 1 car_door_opened, 1 open_driver_seat, 22.1ms\n",
      "image 104/239 /home/alpaco/hbr/Car Detection/car_driver_seat-12/test/images/1C4PJMLB6KD158905-2019-Jeep-Cherokee-sp_turntable_pic-1511-16x9-3840x2160-4K-20210810100873_jpg.rf.34692d1ce186229695e580f016c7472b.jpg: 1024x1024 1 car, 1 car_door_opened, 1 open_driver_seat, 22.1ms\n",
      "image 105/239 /home/alpaco/hbr/Car Detection/car_driver_seat-12/test/images/1C4PJMLB9MD228125-2021-Jeep-Cherokee-sp_turntable_pic-1511-16x9-3840x2160-4K-20211130111156_jpg.rf.1276517a186c3d731cb4f0b91d9cb427.jpg: 1024x1024 1 car, 1 car_door_opened, 1 open_driver_seat, 22.2ms\n",
      "image 106/239 /home/alpaco/hbr/Car Detection/car_driver_seat-12/test/images/1C4PJMLB9MD233664-2021-Jeep-Cherokee-sp_turntable_pic-1510-16x9-3840x2160-4K-20211203111203_jpg.rf.50f067235c09181279b8db63dc2bb6e0.jpg: 1024x1024 1 car, 1 car_door_opened, 1 open_driver_seat, 22.1ms\n",
      "image 107/239 /home/alpaco/hbr/Car Detection/car_driver_seat-12/test/images/1C4PJMMX3MD201755-2021-Jeep-Cherokee-sp_turntable_pic-1512-16x9-3840x2160-4K-20210913110938_jpg.rf.b37b76b2a54508ceef73d1dff0a5bb98.jpg: 1024x1024 1 car, 1 car_door_opened, 1 open_driver_seat, 22.1ms\n",
      "image 108/239 /home/alpaco/hbr/Car Detection/car_driver_seat-12/test/images/1C4PJMMX4MD223487-2021-Jeep-Cherokee-sp_turntable_pic-1526-16x9-3840x2160-4K-20211227111286_jpg.rf.31a28bca149659c956c43003a81ca26d.jpg: 1024x1024 1 car, 1 car_door_opened, 1 open_driver_seat, 22.1ms\n",
      "image 109/239 /home/alpaco/hbr/Car Detection/car_driver_seat-12/test/images/1C4PJMMX8MD223489-2021-Jeep-Cherokee-sp_turntable_pic-1512-16x9-3840x2160-4K-20210913110936_jpg.rf.cd45b0594143ad3144d2beb9e98d58c9.jpg: 1024x1024 1 car, 1 car_door_opened, 1 open_driver_seat, 22.1ms\n",
      "image 110/239 /home/alpaco/hbr/Car Detection/car_driver_seat-12/test/images/1C4RDJAG3FC938594-2015-Dodge-Durango-sp_turntable_pic-1510-16x9-3840x2160-4K-20211005151011_jpg.rf.74250f6a4cab9c0aeeb0c154301567b3.jpg: 1024x1024 1 car, 1 car_door_opened, 1 open_driver_seat, 22.1ms\n",
      "image 111/239 /home/alpaco/hbr/Car Detection/car_driver_seat-12/test/images/1C4RDJAG6NC108528-2022-Dodge-Durango-sp_turntable_pic-1523-16x9-3840x2160-4K-20220119140119_jpg.rf.9b50649cfecb8f33732f09da003047c8.jpg: 1024x1024 1 car, 1 car_door_opened, 1 open_driver_seat, 22.1ms\n",
      "image 112/239 /home/alpaco/hbr/Car Detection/car_driver_seat-12/test/images/1C4RDJDG6MC837283-2021-Dodge-Durango-sp_turntable_pic-1513-16x9-3840x2160-4K-20211203141260_jpg.rf.0a1256457d5373e45bd4d3ddb5b1bab1.jpg: 1024x1024 1 car, 1 car_door_opened, 1 open_driver_seat, 22.1ms\n",
      "image 113/239 /home/alpaco/hbr/Car Detection/car_driver_seat-12/test/images/1C4RDJEG2MC885975-2021-Dodge-Durango-sp_turntable_pic-1525-16x9-3840x2160-4K-20211227111236_jpg.rf.8722ee6200ac69f4738c8db4aefbc716.jpg: 1024x1024 1 car, 1 car_door_opened, 1 open_driver_seat, 22.2ms\n",
      "image 114/239 /home/alpaco/hbr/Car Detection/car_driver_seat-12/test/images/1C4RDJEG5MC805228-2021-Dodge-Durango-sp_turntable_pic-1513-16x9-3840x2160-4K-20210930150916_jpg.rf.803d6f3fc323b5fd5daa822952f081cc.jpg: 1024x1024 1 car, 1 car_door_opened, 1 open_driver_seat, 22.1ms\n",
      "image 115/239 /home/alpaco/hbr/Car Detection/car_driver_seat-12/test/images/1C4RJEAG3HC626732-2017-Jeep-GrandCherokee-sp_turntable_pic-1511-16x9-3840x2160-4K-20210804130868_jpg.rf.86f4af90a1159019e6d196e8f3401647.jpg: 1024x1024 1 car, 1 car_door_opened, 1 open_driver_seat, 22.1ms\n",
      "image 116/239 /home/alpaco/hbr/Car Detection/car_driver_seat-12/test/images/1C4RJFAG0KC602076-2019-Jeep-GrandCherokee-sp_turntable_pic-1521-16x9-3840x2160-4K-20220217110244_jpg.rf.a706796ace17935633544a65717e1a48.jpg: 1024x1024 1 car, 1 car_door_opened, 1 open_driver_seat, 22.1ms\n",
      "image 117/239 /home/alpaco/hbr/Car Detection/car_driver_seat-12/test/images/1C4RJFAG0MC779021-2021-Jeep-GrandCherokee-sp_turntable_pic-1514-16x9-3840x2160-4K-20210720110740_jpg.rf.3c5c94bcfe647533c568a42ab2d30816.jpg: 1024x1024 1 car, 1 car_door_opened, 1 open_driver_seat, 22.1ms\n",
      "image 118/239 /home/alpaco/hbr/Car Detection/car_driver_seat-12/test/images/1C4RJFAG0MC839623-2021-Jeep-GrandCherokee-sp_turntable_pic-1510-16x9-3840x2160-4K-20210929090982_jpg.rf.c8450e7bcd799f7c4ce7a562784be96d.jpg: 1024x1024 1 car, 2 car_door_openeds, 1 open_driver_seat, 22.1ms\n",
      "image 119/239 /home/alpaco/hbr/Car Detection/car_driver_seat-12/test/images/1C4RJFAG0MC839623-2021-Jeep-GrandCherokee-sp_turntable_pic-1511-16x9-3840x2160-4K-20210929090982_jpg.rf.3dcfacdc2e7ab41fd4cee6a7f82f2c4e.jpg: 1024x1024 1 car, 1 car_door_opened, 1 open_driver_seat, 22.1ms\n",
      "image 120/239 /home/alpaco/hbr/Car Detection/car_driver_seat-12/test/images/1C4RJFAG1HC776280-2017-Jeep-GrandCherokee-sp_turntable_pic-1512-16x9-3840x2160-4K-20210826100851_jpg.rf.17aa98f708e0dba86bd3ffceb0244ae3.jpg: 1024x1024 1 car, 1 car_door_opened, 1 open_driver_seat, 22.2ms\n",
      "image 121/239 /home/alpaco/hbr/Car Detection/car_driver_seat-12/test/images/1C4RJFAG1LC426298-2020-Jeep-GrandCherokee-sp_turntable_pic-1511-16x9-3840x2160-4K-20210818100845_jpg.rf.34849a31aafaa3a07e3ffafcb55c7427.jpg: 1024x1024 1 car, 1 car_door_opened, 1 open_driver_seat, 22.1ms\n",
      "image 122/239 /home/alpaco/hbr/Car Detection/car_driver_seat-12/test/images/1C4RJFAG1NC114226-2022-Jeep-GrandCherokeeWK-sp_turntable_pic-1523-16x9-3840x2160-4K-20220203100233_jpg.rf.cd6f97a845c6ce00632912d6ff6acfe7.jpg: 1024x1024 1 car, 1 car_door_opened, 1 open_driver_seat, 22.1ms\n",
      "image 123/239 /home/alpaco/hbr/Car Detection/car_driver_seat-12/test/images/1C4RJFAG2NC114235-2022-Jeep-GrandCherokeeWK-sp_turntable_pic-1526-16x9-3840x2160-4K-20220204120273_jpg.rf.c8fcc986e3f1712014f8a884cb13f46a.jpg: 1024x1024 1 car, 1 car_door_opened, 1 open_driver_seat, 22.2ms\n",
      "image 124/239 /home/alpaco/hbr/Car Detection/car_driver_seat-12/test/images/1C4RJFAG3NC114230-2022-Jeep-GrandCherokeeWK-sp_turntable_pic-1525-16x9-3840x2160-4K-20220204130204_jpg.rf.db5234cd1420ba64706f76572c79e708.jpg: 1024x1024 1 car, 1 car_door_opened, 1 open_driver_seat, 22.1ms\n",
      "image 125/239 /home/alpaco/hbr/Car Detection/car_driver_seat-12/test/images/1C4RJFAG3NC114244-2022-Jeep-GrandCherokeeWK-sp_turntable_pic-1525-16x9-3840x2160-4K-20220207110220_jpg.rf.ac5e0350362d796a6921fe22f097ec31.jpg: 1024x1024 1 car, 1 car_door_opened, 1 open_driver_seat, 22.1ms\n",
      "image 126/239 /home/alpaco/hbr/Car Detection/car_driver_seat-12/test/images/1C4RJFAG4MC839625-2021-Jeep-GrandCherokee-sp_turntable_pic-1511-16x9-3840x2160-4K-20210924150932_jpg.rf.6b83744dfa9b0e0b3a5c24cd996931f9.jpg: 1024x1024 1 car, 1 car_door_opened, 1 open_driver_seat, 22.1ms\n",
      "image 127/239 /home/alpaco/hbr/Car Detection/car_driver_seat-12/test/images/1C4RJFAG4NC114236-2022-Jeep-GrandCherokeeWK-sp_turntable_pic-1527-16x9-3840x2160-4K-20220221140274_jpg.rf.322613cbb843d9a13a16287a0faa589b.jpg: 1024x1024 1 car, 1 car_door_opened, 1 open_driver_seat, 22.3ms\n",
      "image 128/239 /home/alpaco/hbr/Car Detection/car_driver_seat-12/test/images/1C4RJFAG4NC114284-2022-Jeep-GrandCherokeeWK-sp_turntable_pic-1521-16x9-3840x2160-4K-20220203120246_jpg.rf.c1b0cceecd702f04ccdbd14f8bdb58d1.jpg: 1024x1024 1 car, 2 car_door_openeds, 1 open_driver_seat, 22.1ms\n",
      "image 129/239 /home/alpaco/hbr/Car Detection/car_driver_seat-12/test/images/1C4RJFAG5NC114228-2022-Jeep-GrandCherokeeWK-sp_turntable_pic-1523-16x9-3840x2160-4K-20220204120246_jpg.rf.8894439422aff73b474c089426777517.jpg: 1024x1024 1 car, 1 car_door_opened, 1 open_driver_seat, 22.1ms\n",
      "image 130/239 /home/alpaco/hbr/Car Detection/car_driver_seat-12/test/images/1C4RJFAG6JC215143-2018-Jeep-GrandCherokee-sp_turntable_pic-1511-16x9-3840x2160-4K-20210910100951_jpg.rf.03c716609bd90b1bde94640f1832d28e.jpg: 1024x1024 1 car, 1 car_door_opened, 1 open_driver_seat, 22.1ms\n",
      "image 131/239 /home/alpaco/hbr/Car Detection/car_driver_seat-12/test/images/1C4RJFAG6MC779086-2021-Jeep-GrandCherokee-sp_turntable_pic-1511-16x9-3840x2160-4K-20210923100903_jpg.rf.cccbe205d515b761dffc4559b8bf64ee.jpg: 1024x1024 1 car, 1 car_door_opened, 1 open_driver_seat, 22.1ms\n",
      "image 132/239 /home/alpaco/hbr/Car Detection/car_driver_seat-12/test/images/1C4RJFAG6NC114223-2022-Jeep-GrandCherokeeWK-sp_turntable_pic-1524-16x9-3840x2160-4K-20220203110288_jpg.rf.87ad470bfc81c1bfa635ff7da2421df7.jpg: 1024x1024 1 car, 1 car_door_opened, 1 open_driver_seat, 22.2ms\n",
      "image 133/239 /home/alpaco/hbr/Car Detection/car_driver_seat-12/test/images/1C4RJFAG7MC839618-2021-Jeep-GrandCherokee-sp_turntable_pic-1512-16x9-3840x2160-4K-20210923100917_jpg.rf.83adfbbbae3ff9dd20897af44084e9f1.jpg: 1024x1024 1 car, 1 car_door_opened, 1 open_driver_seat, 22.2ms\n",
      "image 134/239 /home/alpaco/hbr/Car Detection/car_driver_seat-12/test/images/1C4RJFAG7NC114229-2022-Jeep-GrandCherokeeWK-sp_turntable_pic-1520-16x9-3840x2160-4K-20220203110272_jpg.rf.6c60dbc5e7fdf7ee1d1af841ca445771.jpg: 1024x1024 1 car, 2 car_door_openeds, 1 open_driver_seat, 22.3ms\n",
      "image 135/239 /home/alpaco/hbr/Car Detection/car_driver_seat-12/test/images/1C4RJFAG7NC114229-2022-Jeep-GrandCherokeeWK-sp_turntable_pic-1524-16x9-3840x2160-4K-20220203110272_jpg.rf.103520f609e6137922c07d2addd16f53.jpg: 1024x1024 1 car, 1 car_door_opened, 1 open_driver_seat, 22.1ms\n",
      "image 136/239 /home/alpaco/hbr/Car Detection/car_driver_seat-12/test/images/1C4RJFAG7NC114232-2022-Jeep-GrandCherokeeWK-sp_turntable_pic-1526-16x9-3840x2160-4K-20220215150212_jpg.rf.54f12de89bee3a6f295f3d7fb1c0440a.jpg: 1024x1024 1 car, 1 car_door_opened, 1 open_driver_seat, 22.1ms\n",
      "image 137/239 /home/alpaco/hbr/Car Detection/car_driver_seat-12/test/images/1C4RJFAG8EC528118-2014-Jeep-GrandCherokee-sp_turntable_pic-1525-16x9-3840x2160-4K-20211230091289_jpg.rf.78eabb63b9dca92d3e136309316ef84b.jpg: 1024x1024 1 car, 1 car_door_opened, 1 open_driver_seat, 22.1ms\n",
      "image 138/239 /home/alpaco/hbr/Car Detection/car_driver_seat-12/test/images/1C4RJFAG8JC267745-2018-Jeep-GrandCherokee-sp_turntable_pic-1511-16x9-3840x2160-4K-20210927100919_jpg.rf.8bf6587369fdbb764cd34fe23f9d121b.jpg: 1024x1024 1 car, 1 car_door_opened, 1 open_driver_seat, 22.2ms\n",
      "image 139/239 /home/alpaco/hbr/Car Detection/car_driver_seat-12/test/images/1C4RJFAG8MC772589-2021-Jeep-GrandCherokee-sp_turntable_pic-1513-16x9-3840x2160-4K-20210917120984_jpg.rf.b855db8193164e158f00a2878850cc34.jpg: 1024x1024 1 car, 1 car_door_opened, 1 open_driver_seat, 22.1ms\n",
      "image 140/239 /home/alpaco/hbr/Car Detection/car_driver_seat-12/test/images/1C4RJFAG9JC393872-2018-Jeep-GrandCherokee-sp_turntable_pic-1522-16x9-3840x2160-4K-20220203130263_jpg.rf.72ed6e83ea7c85f2ab07f64e4d58936d.jpg: 1024x1024 1 car, 1 car_door_opened, 2 open_driver_seats, 22.1ms\n",
      "image 141/239 /home/alpaco/hbr/Car Detection/car_driver_seat-12/test/images/1C4RJFAG9MC824196-2021-Jeep-GrandCherokee-sp_turntable_pic-1512-16x9-3840x2160-4K-20210917100984_jpg.rf.d142c9c2b41fa2bd517fb053857c8011.jpg: 1024x1024 1 car, 1 car_door_opened, 1 open_driver_seat, 22.2ms\n",
      "image 142/239 /home/alpaco/hbr/Car Detection/car_driver_seat-12/test/images/1C4RJFAGXNC114225-2022-Jeep-GrandCherokeeWK-sp_turntable_pic-1522-16x9-3840x2160-4K-20220209110282_jpg.rf.28c5cdb96ccc091ecf47c0901168ef25.jpg: 1024x1024 1 car, 1 car_door_opened, 1 open_driver_seat, 22.1ms\n",
      "image 143/239 /home/alpaco/hbr/Car Detection/car_driver_seat-12/test/images/1C4RJFAGXNC114225-2022-Jeep-GrandCherokeeWK-sp_turntable_pic-1525-16x9-3840x2160-4K-20220209110282_jpg.rf.4e3b742a8d30a316baaa865e0285fe03.jpg: 1024x1024 1 car, 1 car_door_opened, 1 open_driver_seat, 22.1ms\n",
      "image 144/239 /home/alpaco/hbr/Car Detection/car_driver_seat-12/test/images/1C4RJFAGXNC114239-2022-Jeep-GrandCherokeeWK-sp_turntable_pic-1524-16x9-3840x2160-4K-20220209100284_jpg.rf.0104ab8a8bf09f87905244468842e240.jpg: 1024x1024 1 car, 1 car_door_opened, 1 open_driver_seat, 22.1ms\n",
      "image 145/239 /home/alpaco/hbr/Car Detection/car_driver_seat-12/test/images/1C4RJFAGXNC114239-2022-Jeep-GrandCherokeeWK-sp_turntable_pic-1526-16x9-3840x2160-4K-20220209100284_jpg.rf.9125cc594d4b7ce37e4ee83d25fc442d.jpg: 1024x1024 1 car, 1 car_door_opened, 1 open_driver_seat, 22.1ms\n",
      "image 146/239 /home/alpaco/hbr/Car Detection/car_driver_seat-12/test/images/1C4RJFBG0FC233420-2015-Jeep-GrandCherokee-sp_turntable_pic-1522-16x9-3840x2160-4K-20220107110155_jpg.rf.b75be25256a816d2e288251d050b6c5e.jpg: 1024x1024 1 car, 1 car_door_opened, 1 open_driver_seat, 22.2ms\n",
      "image 147/239 /home/alpaco/hbr/Car Detection/car_driver_seat-12/test/images/1C4RJFBG1KC762272-2019-Jeep-GrandCherokee-sp_turntable_pic-1525-16x9-3840x2160-4K-20220218090260_jpg.rf.0e1d34c991d2818e2c3246994a7bd94b.jpg: 1024x1024 1 car, 1 car_door_opened, 1 open_driver_seat, 22.1ms\n",
      "image 148/239 /home/alpaco/hbr/Car Detection/car_driver_seat-12/test/images/1C4RJFBG1MC779026-2021-Jeep-GrandCherokee-sp_turntable_pic-1513-16x9-3840x2160-4K-20210726110780_jpg.rf.c7d31cdb40554222f2416074bbf32f3c.jpg: 1024x1024 1 car_door_opened, 1 open_driver_seat, 22.2ms\n",
      "image 149/239 /home/alpaco/hbr/Car Detection/car_driver_seat-12/test/images/1C4RJFBG2LC139082-2020-Jeep-GrandCherokee-sp_turntable_pic-1510-16x9-3840x2160-4K-20210804130846_jpg.rf.14c7c07017ca443e95d1d79e10618cbf.jpg: 1024x1024 1 car_door_opened, 1 open_driver_seat, 22.1ms\n",
      "image 150/239 /home/alpaco/hbr/Car Detection/car_driver_seat-12/test/images/1C4RJFBG2LC139082-2020-Jeep-GrandCherokee-sp_turntable_pic-1510-16x9-3840x2160-4K-20210804130846_jpg.rf.a9ee828c7baffcd60a14abea61503db1.jpg: 1024x1024 1 car_door_opened, 1 open_driver_seat, 22.1ms\n",
      "image 151/239 /home/alpaco/hbr/Car Detection/car_driver_seat-12/test/images/1C4RJFBG2LC139082-2020-Jeep-GrandCherokee-sp_turntable_pic-1513-16x9-3840x2160-4K-20210804130846_jpg.rf.54a591c28b1fe959bd177eb296dd04a6.jpg: 1024x1024 1 car_door_opened, 1 open_driver_seat, 22.2ms\n",
      "image 152/239 /home/alpaco/hbr/Car Detection/car_driver_seat-12/test/images/1C4RJFBG2MC779035-2021-Jeep-GrandCherokee-sp_turntable_pic-1511-16x9-3840x2160-4K-20210726140728_jpg.rf.25b8536192cc6a4ff41e696d5be427b3.jpg: 1024x1024 1 car_door_opened, 1 open_driver_seat, 22.2ms\n",
      "image 153/239 /home/alpaco/hbr/Car Detection/car_driver_seat-12/test/images/1C4RJFBG2MC802054-2021-Jeep-GrandCherokee-sp_turntable_pic-1511-16x9-3840x2160-4K-20210901110987_jpg.rf.ed2081d2ec732b7ae549c2afd3c290a5.jpg: 1024x1024 1 car_door_opened, 1 open_driver_seat, 22.2ms\n",
      "image 154/239 /home/alpaco/hbr/Car Detection/car_driver_seat-12/test/images/1C4RJFBG2NC141580-2022-Jeep-GrandCherokeeWK-sp_turntable_pic-1522-16x9-3840x2160-4K-20220221130279_jpg.rf.4e75c0bfb061db18f7111de08184b3a1.jpg: 1024x1024 1 car, 1 car_door_opened, 1 open_driver_seat, 22.2ms\n",
      "image 155/239 /home/alpaco/hbr/Car Detection/car_driver_seat-12/test/images/1C4RJFBG5JC478965-2018-Jeep-GrandCherokee-sp_turntable_pic-1512-16x9-3840x2160-4K-20210719120729_jpg.rf.965ac2d8e9c2eb2978ddad471a7557a7.jpg: 1024x1024 1 car_door_opened, 1 open_driver_seat, 22.2ms\n",
      "image 156/239 /home/alpaco/hbr/Car Detection/car_driver_seat-12/test/images/1C4RJFBG5MC770913-2021-Jeep-GrandCherokee-sp_turntable_pic-1511-16x9-3840x2160-4K-20210924150972_jpg.rf.44599e2ff9104687bb251419ad8af44c.jpg: 1024x1024 1 car, 1 car_door_opened, 1 open_driver_seat, 22.3ms\n",
      "image 157/239 /home/alpaco/hbr/Car Detection/car_driver_seat-12/test/images/1C4RJFBG5MC770913-2021-Jeep-GrandCherokee-sp_turntable_pic-1512-16x9-3840x2160-4K-20210924150972_jpg.rf.34e8ff79aa6d51570038ea9c763de973.jpg: 1024x1024 1 car, 1 car_door_opened, 1 open_driver_seat, 22.3ms\n",
      "image 158/239 /home/alpaco/hbr/Car Detection/car_driver_seat-12/test/images/1C4RJFBG5MC770913-2021-Jeep-GrandCherokee-sp_turntable_pic-1512-16x9-3840x2160-4K-20210924150972_jpg.rf.593aaee69483915dd29f20f2bded0bd5.jpg: 1024x1024 1 car, 1 car_door_opened, 1 open_driver_seat, 22.3ms\n",
      "image 159/239 /home/alpaco/hbr/Car Detection/car_driver_seat-12/test/images/1C4RJFBG5MC808625-2021-Jeep-GrandCherokee-sp_turntable_pic-1512-16x9-3840x2160-4K-20210830120800_jpg.rf.3b703418e66eaab4e2d21c955e6be919.jpg: 1024x1024 1 car_door_opened, 1 open_driver_seat, 22.3ms\n",
      "image 160/239 /home/alpaco/hbr/Car Detection/car_driver_seat-12/test/images/1C4RJFBG9MC770915-2021-Jeep-GrandCherokee-sp_turntable_pic-1511-16x9-3840x2160-4K-20210930090923_jpg.rf.e034852dddc68a8628acc8c0cea55841.jpg: 1024x1024 1 car, 1 car_door_opened, 1 open_driver_seat, 22.2ms\n",
      "image 161/239 /home/alpaco/hbr/Car Detection/car_driver_seat-12/test/images/1C4RJFBG9MC770915-2021-Jeep-GrandCherokee-sp_turntable_pic-1512-16x9-3840x2160-4K-20210930090923_jpg.rf.ec03c488648b5c414cd03ab33db34f0c.jpg: 1024x1024 1 car, 1 car_door_opened, 1 open_driver_seat, 22.3ms\n",
      "image 162/239 /home/alpaco/hbr/Car Detection/car_driver_seat-12/test/images/1C4RJFBG9MC779033-2021-Jeep-GrandCherokee-sp_turntable_pic-1513-16x9-3840x2160-4K-20210726150737_jpg.rf.925d7a37668d440b1f8ff0794f4a157b.jpg: 1024x1024 1 car_door_opened, 1 open_driver_seat, 22.2ms\n",
      "image 163/239 /home/alpaco/hbr/Car Detection/car_driver_seat-12/test/images/1C4RJFBGXFC748229-2015-Jeep-GrandCherokee-sp_turntable_pic-1516-16x9-3840x2160-4K-20210721110758_jpg.rf.0f7e6129b69bc78809a7a945a01efbdc.jpg: 1024x1024 1 car, 1 car_door_opened, 1 open_driver_seat, 22.3ms\n",
      "image 164/239 /home/alpaco/hbr/Car Detection/car_driver_seat-12/test/images/1C4RJFBGXMC808619-2021-Jeep-GrandCherokee-sp_turntable_pic-1512-16x9-3840x2160-4K-20210901120917_jpg.rf.0a93d2d9f614c29e904602e3e7cf33df.jpg: 1024x1024 1 car, 1 car_door_opened, 1 open_driver_seat, 22.3ms\n",
      "image 165/239 /home/alpaco/hbr/Car Detection/car_driver_seat-12/test/images/1C4RJFCG0JC342368-2018-Jeep-GrandCherokee-sp_turntable_pic-1511-16x9-3840x2160-4K-20210812110813_jpg.rf.43ef9823488f96ae05757c5f8556ebc8.jpg: 1024x1024 1 car, 1 car_door_opened, 1 open_driver_seat, 22.2ms\n",
      "image 166/239 /home/alpaco/hbr/Car Detection/car_driver_seat-12/test/images/1C4RJFCG0JC342368-2018-Jeep-GrandCherokee-sp_turntable_pic-1511-16x9-3840x2160-4K-20210812110813_jpg.rf.cf4ee4f4b933f3f97ea953608c33a8a0.jpg: 1024x1024 1 car, 1 car_door_opened, 1 open_driver_seat, 22.3ms\n",
      "image 167/239 /home/alpaco/hbr/Car Detection/car_driver_seat-12/test/images/1C4RJFCG5MC734556-2021-Jeep-GrandCherokee-sp_turntable_pic-1511-16x9-3840x2160-4K-20210916150934_jpg.rf.40d0e3529e4a3c35f79b757a2bb2db60.jpg: 1024x1024 1 car, 1 car_door_opened, 1 open_driver_seat, 22.2ms\n",
      "image 168/239 /home/alpaco/hbr/Car Detection/car_driver_seat-12/test/images/1FMCU9G66MUB30942-NA-sp_turntable_pic-2020-16x9-3840x2160-4K-20211223101242_jpg.rf.a63e2e8d3cb2369b475f4b21a99cf35a.jpg: 1024x1024 1 car_door_opened, 1 open_driver_seat, 22.3ms\n",
      "image 169/239 /home/alpaco/hbr/Car Detection/car_driver_seat-12/test/images/1N4BL4BV9LC187408-sp_turntable-19-20200206150254_jpg.rf.1884c46b4e6abd75564eb5bec7afbed2.jpg: 1024x1024 1 car_door_opened, 1 open_driver_seat, 22.3ms\n",
      "image 170/239 /home/alpaco/hbr/Car Detection/car_driver_seat-12/test/images/2021-09-08_23-21-00_wed_sunny_out_do-sa_C0053-1_mp4-0006_jpg.rf.8e955525aaf8b947cdd8cad15fa2faa1.jpg: 1024x1024 4 cars, 1 motocycle, 4 persons, 22.2ms\n",
      "image 171/239 /home/alpaco/hbr/Car Detection/car_driver_seat-12/test/images/2021-09-08_23-21-00_wed_sunny_out_do-sa_C0053-1_mp4-0016_jpg.rf.040479db148144e3aabdda2ce88343a9.jpg: 1024x1024 3 cars, 1 motocycle, 6 persons, 22.2ms\n",
      "image 172/239 /home/alpaco/hbr/Car Detection/car_driver_seat-12/test/images/2021-09-08_23-21-00_wed_sunny_out_do-sa_C0053-1_mp4-0019_jpg.rf.bf6e2af9310b1270bf01491f23d7e339.jpg: 1024x1024 3 cars, 1 motocycle, 7 persons, 22.3ms\n",
      "image 173/239 /home/alpaco/hbr/Car Detection/car_driver_seat-12/test/images/2021-09-08_23-21-00_wed_sunny_out_do-sa_C0053-1_mp4-0042_jpg.rf.27fc1a767de11a270f9cc8f649120a41.jpg: 1024x1024 3 cars, 1 motocycle, 7 persons, 22.2ms\n",
      "image 174/239 /home/alpaco/hbr/Car Detection/car_driver_seat-12/test/images/2021-09-08_23-21-00_wed_sunny_out_do-sa_C0053-1_mp4-0061_jpg.rf.f2bc20a329def5baa88f0af2840b4ee7.jpg: 1024x1024 2 cars, 1 motocycle, 7 persons, 22.3ms\n",
      "image 175/239 /home/alpaco/hbr/Car Detection/car_driver_seat-12/test/images/2021-09-08_23-21-00_wed_sunny_out_do-sa_C0053-1_mp4-0072_jpg.rf.3b4c1332800e8b96611bed0b9f879938.jpg: 1024x1024 2 cars, 1 motocycle, 6 persons, 22.2ms\n",
      "image 176/239 /home/alpaco/hbr/Car Detection/car_driver_seat-12/test/images/2021-09-08_23-21-00_wed_sunny_out_do-sa_C0053-1_mp4-0073_jpg.rf.06c275c4dd5f777f81826ca661ddb8f1.jpg: 1024x1024 2 cars, 1 motocycle, 6 persons, 22.2ms\n",
      "image 177/239 /home/alpaco/hbr/Car Detection/car_driver_seat-12/test/images/2021-09-08_23-21-00_wed_sunny_out_do-sa_C0053-1_mp4-0088_jpg.rf.b2b7dbc0756e989e80efd55154bf5b81.jpg: 1024x1024 2 cars, 1 motocycle, 7 persons, 22.2ms\n",
      "image 178/239 /home/alpaco/hbr/Car Detection/car_driver_seat-12/test/images/2021-09-08_23-21-00_wed_sunny_out_do-sa_C0053-1_mp4-0090_jpg.rf.363cae09c45115accd13a5578cb0bd5a.jpg: 1024x1024 2 cars, 1 motocycle, 7 persons, 22.3ms\n",
      "image 179/239 /home/alpaco/hbr/Car Detection/car_driver_seat-12/test/images/2021-09-08_23-21-00_wed_sunny_out_do-sa_C0053-1_mp4-0093_jpg.rf.04e6965458b448d043ffd26a4158bed2.jpg: 1024x1024 2 cars, 1 motocycle, 7 persons, 22.3ms\n",
      "image 180/239 /home/alpaco/hbr/Car Detection/car_driver_seat-12/test/images/2021-09-08_23-21-00_wed_sunny_out_do-sa_C0053-1_mp4-0094_jpg.rf.8fd7ecde4bfe789e7ce2da3b36cfd4f3.jpg: 1024x1024 2 cars, 1 motocycle, 7 persons, 22.3ms\n",
      "image 181/239 /home/alpaco/hbr/Car Detection/car_driver_seat-12/test/images/2021-09-08_23-21-00_wed_sunny_out_do-sa_C0053-1_mp4-0096_jpg.rf.68f68fc867d0a7f67ccd9c2fde7246e0.jpg: 1024x1024 2 cars, 1 motocycle, 7 persons, 22.3ms\n",
      "image 182/239 /home/alpaco/hbr/Car Detection/car_driver_seat-12/test/images/2021-09-08_23-21-00_wed_sunny_out_do-sa_C0053-1_mp4-0099_jpg.rf.6afaac0bee336debbf829ef489e37feb.jpg: 1024x1024 2 cars, 1 motocycle, 8 persons, 22.3ms\n",
      "image 183/239 /home/alpaco/hbr/Car Detection/car_driver_seat-12/test/images/2021-09-08_23-21-00_wed_sunny_out_do-sa_C0053-1_mp4-0126_jpg.rf.bc45efa72583a5414b8b530fd816201d.jpg: 1024x1024 2 cars, 1 motocycle, 5 persons, 22.2ms\n",
      "image 184/239 /home/alpaco/hbr/Car Detection/car_driver_seat-12/test/images/2021-09-08_23-21-00_wed_sunny_out_do-sa_C0053-1_mp4-0129_jpg.rf.bf9b35388f459115d75d89b12085b7dc.jpg: 1024x1024 2 cars, 1 motocycle, 3 persons, 22.2ms\n",
      "image 185/239 /home/alpaco/hbr/Car Detection/car_driver_seat-12/test/images/2021-09-08_23-21-00_wed_sunny_out_do-sa_C0053-1_mp4-0147_jpg.rf.fc69edf3af7b15f667019cbb0e8c159d.jpg: 1024x1024 2 cars, 1 motocycle, 4 persons, 22.3ms\n",
      "image 186/239 /home/alpaco/hbr/Car Detection/car_driver_seat-12/test/images/2021-09-08_23-21-00_wed_sunny_out_do-sa_C0053-1_mp4-0162_jpg.rf.c8622790d0fe0bd5da4e9fae38f9cb08.jpg: 1024x1024 3 cars, 1 motocycle, 6 persons, 22.3ms\n",
      "image 187/239 /home/alpaco/hbr/Car Detection/car_driver_seat-12/test/images/2021-09-08_23-21-00_wed_sunny_out_do-sa_C0053-1_mp4-0181_jpg.rf.080b704f81d4ad54002cc6ae1d31012b.jpg: 1024x1024 3 cars, 1 motocycle, 5 persons, 22.2ms\n",
      "image 188/239 /home/alpaco/hbr/Car Detection/car_driver_seat-12/test/images/2021-09-08_23-21-00_wed_sunny_out_do-sa_C0053-1_mp4-0197_jpg.rf.0306a066622d9251b857489dc5b59bd3.jpg: 1024x1024 5 cars, 1 motocycle, 4 persons, 22.2ms\n",
      "image 189/239 /home/alpaco/hbr/Car Detection/car_driver_seat-12/test/images/2021-09-08_23-21-00_wed_sunny_out_do-sa_C0053-1_mp4-0205_jpg.rf.2d542f753b20917ad50f1292868d6010.jpg: 1024x1024 5 cars, 1 motocycle, 4 persons, 22.3ms\n",
      "image 190/239 /home/alpaco/hbr/Car Detection/car_driver_seat-12/test/images/2021-09-08_23-21-00_wed_sunny_out_do-sa_C0053-1_mp4-0222_jpg.rf.61178e0a66d85b18d4ccdfa4a1087d2c.jpg: 1024x1024 4 cars, 1 motocycle, 2 persons, 22.2ms\n",
      "image 191/239 /home/alpaco/hbr/Car Detection/car_driver_seat-12/test/images/2021-09-08_23-21-00_wed_sunny_out_do-sa_C0053-1_mp4-0235_jpg.rf.007cc3c4c66e7ff5d9633822bd903903.jpg: 1024x1024 1 car, 1 motocycle, 3 persons, 22.2ms\n",
      "image 192/239 /home/alpaco/hbr/Car Detection/car_driver_seat-12/test/images/2021-09-08_23-21-00_wed_sunny_out_do-sa_C0053-1_mp4-0238_jpg.rf.4d4ee17fa7ced5d789a5d6c8b247d0ab.jpg: 1024x1024 1 car, 1 motocycle, 3 persons, 22.3ms\n",
      "image 193/239 /home/alpaco/hbr/Car Detection/car_driver_seat-12/test/images/2021-09-08_23-21-00_wed_sunny_out_do-sa_C0053-1_mp4-0246_jpg.rf.ffc88826c3327497dca9efd94ac2d8d0.jpg: 1024x1024 1 car, 1 motocycle, 5 persons, 22.3ms\n",
      "image 194/239 /home/alpaco/hbr/Car Detection/car_driver_seat-12/test/images/2021-09-08_23-21-00_wed_sunny_out_do-sa_C0053-1_mp4-0261_jpg.rf.831468bbd56f1fc3c2b8f504961c000d.jpg: 1024x1024 2 cars, 1 motocycle, 3 persons, 22.3ms\n",
      "image 195/239 /home/alpaco/hbr/Car Detection/car_driver_seat-12/test/images/2021-09-08_23-21-00_wed_sunny_out_do-sa_C0053-1_mp4-0364_jpg.rf.4232a684f059b389b71fe228ec2ba2c1.jpg: 1024x1024 2 cars, 1 motocycle, 2 persons, 22.3ms\n",
      "image 196/239 /home/alpaco/hbr/Car Detection/car_driver_seat-12/test/images/2021-09-08_23-21-00_wed_sunny_out_do-sa_C0053-1_mp4-0403_jpg.rf.756ce3a9540d734f2ca518990e2937ef.jpg: 1024x1024 2 cars, 1 motocycle, 2 persons, 22.3ms\n",
      "image 197/239 /home/alpaco/hbr/Car Detection/car_driver_seat-12/test/images/2021-09-08_23-21-00_wed_sunny_out_do-sa_C0053-1_mp4-0405_jpg.rf.01ba1b32aa6714c54054cd41af4435a1.jpg: 1024x1024 2 cars, 1 motocycle, 2 persons, 22.2ms\n",
      "image 198/239 /home/alpaco/hbr/Car Detection/car_driver_seat-12/test/images/2021-09-08_23-21-00_wed_sunny_out_do-sa_C0053-1_mp4-0409_jpg.rf.4d88aea5174ffc275eacd02e258bdf41.jpg: 1024x1024 2 cars, 1 motocycle, 2 persons, 22.3ms\n",
      "image 199/239 /home/alpaco/hbr/Car Detection/car_driver_seat-12/test/images/2021-09-08_23-21-00_wed_sunny_out_do-sa_C0053-1_mp4-0411_jpg.rf.696beeeb6b75f41d48368588065a27b2.jpg: 1024x1024 2 cars, 1 motocycle, 2 persons, 22.3ms\n",
      "image 200/239 /home/alpaco/hbr/Car Detection/car_driver_seat-12/test/images/2021-09-08_23-21-00_wed_sunny_out_do-sa_C0053-1_mp4-0421_jpg.rf.9f2917305727c3416e99f41cfc92fa1d.jpg: 1024x1024 2 cars, 1 motocycle, 2 persons, 22.5ms\n",
      "image 201/239 /home/alpaco/hbr/Car Detection/car_driver_seat-12/test/images/2021-09-08_23-21-00_wed_sunny_out_do-sa_C0053-1_mp4-0423_jpg.rf.ea105cdf1b624e0651e98b3cdd871c17.jpg: 1024x1024 2 cars, 1 motocycle, 2 persons, 22.3ms\n",
      "image 202/239 /home/alpaco/hbr/Car Detection/car_driver_seat-12/test/images/2021-09-08_23-21-00_wed_sunny_out_do-sa_C0053-1_mp4-0448_jpg.rf.759cc634e4c50f9785889e4f0f1eac1b.jpg: 1024x1024 3 cars, 1 motocycle, 2 persons, 22.2ms\n",
      "image 203/239 /home/alpaco/hbr/Car Detection/car_driver_seat-12/test/images/2021-09-08_23-21-00_wed_sunny_out_do-sa_C0053-1_mp4-0502_jpg.rf.3277188a9f093cebfd1b555816d9c119.jpg: 1024x1024 3 cars, 1 motocycle, 3 persons, 22.2ms\n",
      "image 204/239 /home/alpaco/hbr/Car Detection/car_driver_seat-12/test/images/2021-09-08_23-21-00_wed_sunny_out_do-sa_C0053-1_mp4-0520_jpg.rf.077394e72d26d17e8e780cb5b64fdcb6.jpg: 1024x1024 3 cars, 2 motocycles, 3 persons, 22.2ms\n",
      "image 205/239 /home/alpaco/hbr/Car Detection/car_driver_seat-12/test/images/2021-09-08_23-21-00_wed_sunny_out_do-sa_C0053-1_mp4-0525_jpg.rf.1830621cd5cfc08e252e364d8c40e06d.jpg: 1024x1024 2 cars, 2 motocycles, 3 persons, 22.3ms\n",
      "image 206/239 /home/alpaco/hbr/Car Detection/car_driver_seat-12/test/images/66_jpg.rf.37088937998b1146f94ef4049d17313d.jpg: 1024x1024 1 open_driver_seat, 22.2ms\n",
      "image 207/239 /home/alpaco/hbr/Car Detection/car_driver_seat-12/test/images/73_jpg.rf.1be9c7e0eadac9d1a6f3cf4f7699e3b3.jpg: 1024x1024 1 car, 1 open_driver_seat, 22.3ms\n",
      "image 208/239 /home/alpaco/hbr/Car Detection/car_driver_seat-12/test/images/C-220711_18_SR02_01_N0450_jpg.rf.1a6a5255963d6a42cbb26e53d62cc4fd.jpg: 1024x1024 10 cars, 1 motocycle, 1 open_driver_seat, 1 person, 22.4ms\n",
      "image 209/239 /home/alpaco/hbr/Car Detection/car_driver_seat-12/test/images/C-220712_07_SR15_01_N0974_jpg.rf.06ac0063429403714c18f6f5ea7a50fb.jpg: 1024x1024 9 cars, 1 car_door_opened, 1 person, 22.3ms\n",
      "image 210/239 /home/alpaco/hbr/Car Detection/car_driver_seat-12/test/images/C-220712_15_SR03_01_N5140_jpg.rf.8d924ef4fdb47e8641ed2df6e6ed5540.jpg: 1024x1024 6 cars, 1 open_driver_seat, 2 persons, 22.2ms\n",
      "image 211/239 /home/alpaco/hbr/Car Detection/car_driver_seat-12/test/images/C-220712_18_SR02_01_N0094_jpg.rf.a5452a0f0bdc7beb0872a92a16c04b34.jpg: 1024x1024 8 cars, 2 motocycles, 1 open_driver_seat, 2 persons, 22.3ms\n",
      "image 212/239 /home/alpaco/hbr/Car Detection/car_driver_seat-12/test/images/C-220712_19_SR03_01_N0293_jpg.rf.88ad085ec1e33cc93ecdabff4118ff57.jpg: 1024x1024 6 cars, 1 car_door_opened, 1 open_driver_seat, 22.2ms\n",
      "image 213/239 /home/alpaco/hbr/Car Detection/car_driver_seat-12/test/images/C-220712_19_SR03_01_N0297_jpg.rf.dd131a2a8e4b1f8b01c5c9963b2775c1.jpg: 1024x1024 7 cars, 1 car_door_opened, 2 open_driver_seats, 22.2ms\n",
      "image 214/239 /home/alpaco/hbr/Car Detection/car_driver_seat-12/test/images/C-220713_17_SR03_01_N4889_jpg.rf.739dcfb0d8dfb43f2c245e346987fe7a.jpg: 1024x1024 6 cars, 1 open_driver_seat, 22.3ms\n",
      "image 215/239 /home/alpaco/hbr/Car Detection/car_driver_seat-12/test/images/C-220715_18_SR02_01_N0442_jpg.rf.4124529a3a796bef93d7af0c9f32827b.jpg: 1024x1024 7 cars, 1 car_door_opened, 1 motocycle, 1 open_driver_seat, 1 person, 22.2ms\n",
      "image 216/239 /home/alpaco/hbr/Car Detection/car_driver_seat-12/test/images/C-220824_11_SR15_01_N1161_jpg.rf.c3dad32ab24ad36c0b7da4b2b4954c4b.jpg: 1024x1024 10 cars, 1 open_driver_seat, 4 persons, 22.3ms\n",
      "image 217/239 /home/alpaco/hbr/Car Detection/car_driver_seat-12/test/images/C-220827_13_SR02_01_N0851_jpg.rf.caf16b5844c9181b36eb306183b00306.jpg: 1024x1024 6 cars, 2 motocycles, 1 open_driver_seat, 2 persons, 22.3ms\n",
      "image 218/239 /home/alpaco/hbr/Car Detection/car_driver_seat-12/test/images/C-220920_07_SR02_01_N0931_jpg.rf.de4ac803f496431cede75ab672acf24c.jpg: 1024x1024 9 cars, 1 open_driver_seat, 1 person, 22.2ms\n",
      "image 219/239 /home/alpaco/hbr/Car Detection/car_driver_seat-12/test/images/C-220921_15_SR02_01_N0071_jpg.rf.e26cb00a9ad41f3ef337e5c77460da4a.jpg: 1024x1024 10 cars, 1 open_driver_seat, 1 person, 22.3ms\n",
      "image 220/239 /home/alpaco/hbr/Car Detection/car_driver_seat-12/test/images/C-220922_07_SR02_01_N0973_jpg.rf.6a910193bae3d940cfbbe1495aa69c1d.jpg: 1024x1024 11 cars, 1 open_driver_seat, 1 person, 22.2ms\n",
      "image 221/239 /home/alpaco/hbr/Car Detection/car_driver_seat-12/test/images/C-220922_08_SR05_01_N4695_jpg.rf.2f2602b60ba889caf7d4615c2e1f879c.jpg: 1024x1024 6 cars, 1 open_driver_seat, 4 persons, 22.3ms\n",
      "image 222/239 /home/alpaco/hbr/Car Detection/car_driver_seat-12/test/images/C-221005_08_SR05_01_N4744_jpg.rf.eea3c65e5c7076c7323d0f7b4a087a12.jpg: 1024x1024 6 cars, 2 persons, 22.3ms\n",
      "image 223/239 /home/alpaco/hbr/Car Detection/car_driver_seat-12/test/images/C-221005_10_SR07_01_N4028_jpg.rf.5ca8717257cc16a6e2da8750e82129ad.jpg: 1024x1024 10 cars, 1 open_driver_seat, 1 person, 22.4ms\n",
      "image 224/239 /home/alpaco/hbr/Car Detection/car_driver_seat-12/test/images/C-221006_14_SR07_01_N0044_jpg.rf.522d1a2545f202086fe44140df1d60c7.jpg: 1024x1024 8 cars, 3 persons, 22.2ms\n",
      "image 225/239 /home/alpaco/hbr/Car Detection/car_driver_seat-12/test/images/C-221014_14_SR05_01_N0321_jpg.rf.8ec3e22653d321804fe3af67ea632454.jpg: 1024x1024 5 cars, 1 open_driver_seat, 4 persons, 22.3ms\n",
      "image 226/239 /home/alpaco/hbr/Car Detection/car_driver_seat-12/test/images/C-221026_15_SR08_01_A0434_jpg.rf.df085a05e3768fc46765070a2b23b4bd.jpg: 1024x1024 11 cars, 2 motocycles, 1 open_driver_seat, 1 person, 22.2ms\n",
      "image 227/239 /home/alpaco/hbr/Car Detection/car_driver_seat-12/test/images/JN8AF5MV9CT125561-2012-Nissan-JUKE-sp_turntable_pic-2014-16x9-3840x2160-4K-20220113100175_jpg.rf.0ce1fb3a8879bb54d7e8db26a2518612.jpg: 1024x1024 1 car_door_opened, 1 open_driver_seat, 22.2ms\n",
      "image 228/239 /home/alpaco/hbr/Car Detection/car_driver_seat-12/test/images/JN8AF5MV9CT125561-2012-Nissan-JUKE-sp_turntable_pic-2016-16x9-3840x2160-4K-20220113100175_jpg.rf.fa449ae68a106ab485707f0e06e556cb.jpg: 1024x1024 1 car_door_opened, 1 open_driver_seat, 22.2ms\n",
      "image 229/239 /home/alpaco/hbr/Car Detection/car_driver_seat-12/test/images/a22_jpg.rf.4ce43e8a49216ece25d02a0c739a1c51.jpg: 1024x1024 1 car, 1 open_driver_seat, 22.3ms\n",
      "image 230/239 /home/alpaco/hbr/Car Detection/car_driver_seat-12/test/images/a2_jpg.rf.61259de8fae50ed0a519b22f90700f32.jpg: 1024x1024 1 open_driver_seat, 22.2ms\n",
      "image 231/239 /home/alpaco/hbr/Car Detection/car_driver_seat-12/test/images/a33_jpg.rf.24db59774ba492f97694d088f6ad8318.jpg: 1024x1024 1 car, 22.3ms\n",
      "image 232/239 /home/alpaco/hbr/Car Detection/car_driver_seat-12/test/images/a44_jpg.rf.217a888636e11ac3c1ced369e68665bd.jpg: 1024x1024 1 car, 1 open_driver_seat, 22.2ms\n",
      "image 233/239 /home/alpaco/hbr/Car Detection/car_driver_seat-12/test/images/e32_jpg.rf.34adfe9f169384ddc80197b90312e7ce.jpg: 1024x1024 1 car, 1 open_driver_seat, 22.2ms\n",
      "image 234/239 /home/alpaco/hbr/Car Detection/car_driver_seat-12/test/images/pexels-alexalexal-9283088_jpg.rf.7f818a73016853e8528e74598ae5c64d.jpg: 1024x1024 1 car, 22.3ms\n",
      "image 235/239 /home/alpaco/hbr/Car Detection/car_driver_seat-12/test/images/q11_jpg.rf.fb0308e410c91c2cc41f1e9f4a4392d2.jpg: 1024x1024 1 car, 1 open_driver_seat, 1 person, 22.3ms\n",
      "image 236/239 /home/alpaco/hbr/Car Detection/car_driver_seat-12/test/images/q72_jpg.rf.f46c508e465af3c69c9b3fd6be3e043f.jpg: 1024x1024 1 open_driver_seat, 22.2ms\n",
      "image 237/239 /home/alpaco/hbr/Car Detection/car_driver_seat-12/test/images/qqq2_jpg.rf.c7da0edf2a497b7130614a7d2152761f.jpg: 1024x1024 1 car, 1 open_driver_seat, 22.3ms\n",
      "image 238/239 /home/alpaco/hbr/Car Detection/car_driver_seat-12/test/images/s2_webp.rf.2547338dff154d41544fc367f303ec46.jpg: 1024x1024 1 car, 1 open_driver_seat, 22.3ms\n",
      "image 239/239 /home/alpaco/hbr/Car Detection/car_driver_seat-12/test/images/w5_jpg.rf.d2ac47a5ccc2cd9c38be031c830c1ce1.jpg: 1024x1024 1 open_driver_seat, 22.2ms\n",
      "Speed: 6.2ms preprocess, 22.2ms inference, 1.3ms postprocess per image at shape (1, 3, 1024, 1024)\n",
      "Results saved to \u001b[1m/home/alpaco/hbr/YOLOv8_results/experiment241125_1024_l2_final3/predictions/my_experiment1\u001b[0m\n"
     ]
    }
   ],
   "source": [
    "results = model.predict(source=\"/home/alpaco/hbr/Car Detection/car_driver_seat-12/test/images\",\n",
    "                       conf=0.3,\n",
    "                       iou=0.5,\n",
    "                       save=True,  # 결과 저장 활성화\n",
    "                       project=\"/home/alpaco/hbr/YOLOv8_results/experiment241125_1024_l2_final3/predictions\",  # 저장 경로 설정\n",
    "                       name=\"my_experiment1\")"
   ]
  },
  {
   "cell_type": "code",
   "execution_count": null,
   "metadata": {},
   "outputs": [],
   "source": []
  }
 ],
 "metadata": {
  "kernelspec": {
   "display_name": "hbr",
   "language": "python",
   "name": "python3"
  },
  "language_info": {
   "codemirror_mode": {
    "name": "ipython",
    "version": 3
   },
   "file_extension": ".py",
   "mimetype": "text/x-python",
   "name": "python",
   "nbconvert_exporter": "python",
   "pygments_lexer": "ipython3",
   "version": "3.8.20"
  }
 },
 "nbformat": 4,
 "nbformat_minor": 2
}
